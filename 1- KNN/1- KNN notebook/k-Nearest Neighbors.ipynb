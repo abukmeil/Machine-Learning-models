{
 "cells": [
  {
   "cell_type": "code",
   "execution_count": 1,
   "id": "7e48298a-adeb-44df-beea-5fd52f3a0eea",
   "metadata": {
    "tags": []
   },
   "outputs": [],
   "source": [
    "from IPython.core.interactiveshell import InteractiveShell\n",
    "InteractiveShell.ast_node_interactivity='all'"
   ]
  },
  {
   "cell_type": "markdown",
   "id": "fc1e7a76-3bef-4351-9808-cf1801706475",
   "metadata": {},
   "source": [
    "# <span style='color:yellow'> K- Nearest Neighbors (KNN) </span>\n",
    "\n",
    "#### <span style='color:white'> Nonparametric classification model, </span>\n",
    "\n",
    "#### <span style='color:white'> It makes predictions based on the k most similar training patterns (nearest samples) for a new data instance, </span>\n",
    "\n",
    "#### <span style='color:white'> It does not assume anything about the form of the mapping function other than patterns that are close are likely to have a similar output variable.</span>\n",
    "\n",
    "<img src=\"KNN.png\" width=400>\n",
    "\n",
    "\n",
    "###### <span style='color:yellow'>Euclidean distance metric </span>\n",
    "\n",
    "\n",
    "<img src=\"Euclidean.png\" width=400>\n",
    "\n",
    "\n",
    "###### <span style='color:yellow'>Generalized Euclidean distance metric, where n is the number of dimensions </span>\n",
    "\n",
    "\n",
    "<img src=\"Generalized Euclidean distance.PNG\" width=400> \n"
   ]
  },
  {
   "cell_type": "markdown",
   "id": "bb03613b-aaba-467f-a193-d24a30752af6",
   "metadata": {
    "tags": []
   },
   "source": [
    "# <span style='color:yellow'> In general, a sample is classified based on a popularity vote of its neighbors. </span>\n"
   ]
  },
  {
   "cell_type": "code",
   "execution_count": 1,
   "id": "e16b70f9-e3ff-4c86-94c8-2919cdeecb85",
   "metadata": {},
   "outputs": [
    {
     "name": "stdout",
     "output_type": "stream",
     "text": [
      "[1]\n",
      "[[0.33333333 0.66666667]]\n"
     ]
    }
   ],
   "source": [
    "'Quick example using Scikit-learn (Scikit-learn is also known as sklearn)' \n",
    "from sklearn.neighbors import KNeighborsClassifier\n",
    "clf = KNeighborsClassifier(n_neighbors=3)\n",
    "\n",
    "X = [[0], [1], [2], [3],[4],[5]]\n",
    "y = [0, 0, 1, 1,1,1]\n",
    "\n",
    "clf.fit(X, y)\n",
    "print(clf.predict([[2.5]]))\n",
    "print(clf.predict_proba([[2.5]]))\n"
   ]
  },
  {
   "cell_type": "code",
   "execution_count": 2,
   "id": "c5353c84-07a0-4a6d-b88e-6421741fbb05",
   "metadata": {},
   "outputs": [
    {
     "data": {
      "text/plain": [
       "'Import related libraries'"
      ]
     },
     "execution_count": 2,
     "metadata": {},
     "output_type": "execute_result"
    }
   ],
   "source": [
    "'Import related libraries'\n",
    "%matplotlib inline\n",
    "import numpy as np\n",
    "import matplotlib.pyplot as plt\n",
    "from sklearn import datasets\n",
    "from sklearn.model_selection import train_test_split\n",
    "from matplotlib.colors import ListedColormap\n",
    "cmap=ListedColormap(['#FF0000','#00FF00','#0000FF'])"
   ]
  },
  {
   "cell_type": "code",
   "execution_count": 9,
   "id": "90128c3d-2b1e-4cab-b492-0935aae98e91",
   "metadata": {},
   "outputs": [
    {
     "data": {
      "text/plain": [
       "'Load iris dataset from sklearn'"
      ]
     },
     "execution_count": 9,
     "metadata": {},
     "output_type": "execute_result"
    },
    {
     "data": {
      "text/plain": [
       "dict_keys(['data', 'target', 'frame', 'target_names', 'DESCR', 'feature_names', 'filename'])"
      ]
     },
     "execution_count": 9,
     "metadata": {},
     "output_type": "execute_result"
    }
   ],
   "source": [
    "'Load iris dataset from sklearn'\n",
    "iris=datasets.load_iris()\n",
    "iris.keys()\n",
    "X,y=iris.data, iris.target"
   ]
  },
  {
   "cell_type": "code",
   "execution_count": 10,
   "id": "91d1fca6-c4d7-4a4a-a615-6745f5f6010e",
   "metadata": {},
   "outputs": [
    {
     "data": {
      "text/plain": [
       "'Spliting data into training and testing'"
      ]
     },
     "execution_count": 10,
     "metadata": {},
     "output_type": "execute_result"
    }
   ],
   "source": [
    "'Spliting data into training and testing'\n",
    "X_train,X_test,y_train,y_test=train_test_split(X,y, test_size=0.2,random_state=100)"
   ]
  },
  {
   "cell_type": "code",
   "execution_count": 11,
   "id": "90d3b1ec-6220-4ee5-9556-29eb60daf2c8",
   "metadata": {},
   "outputs": [
    {
     "name": "stdout",
     "output_type": "stream",
     "text": [
      "The shape of training data is (120, 4)\n",
      "The shape of testing data is (30, 4)\n"
     ]
    },
    {
     "data": {
      "text/plain": [
       "array([5.5, 2.4, 3.7, 1. ])"
      ]
     },
     "execution_count": 11,
     "metadata": {},
     "output_type": "execute_result"
    },
    {
     "data": {
      "text/plain": [
       "array([1, 1, 2, 0, 0, 1, 0, 1, 2, 2, 0, 1, 2, 2, 0, 0, 0, 0, 1, 0, 0, 0,\n",
       "       1, 2, 2, 1, 2, 1, 2, 2, 1, 0, 2, 2, 2, 0, 0, 2, 0, 0, 0, 1, 2, 2,\n",
       "       2, 0, 1, 1, 0, 1, 1, 2, 0, 1, 1, 1, 1, 1, 1, 2, 2, 0, 1, 0, 1, 2,\n",
       "       2, 2, 1, 0, 0, 0, 0, 2, 0, 0, 1, 0, 2, 1, 2, 0, 2, 2, 0, 1, 1, 1,\n",
       "       2, 1, 1, 0, 0, 0, 2, 1, 1, 0, 2, 2, 2, 1, 1, 1, 1, 2, 2, 0, 0, 1,\n",
       "       1, 1, 1, 2, 1, 1, 2, 1, 0, 0])"
      ]
     },
     "execution_count": 11,
     "metadata": {},
     "output_type": "execute_result"
    },
    {
     "data": {
      "text/plain": [
       "array([5.5, 2.4, 3.7, 1. ])"
      ]
     },
     "execution_count": 11,
     "metadata": {},
     "output_type": "execute_result"
    }
   ],
   "source": [
    "print(f\"The shape of training data is {X_train.shape}\")\n",
    "print(f\"The shape of testing data is {X_test.shape}\")\n",
    "X_train[0]\n",
    "y_train  # Three class problem\n",
    "X_train[0]"
   ]
  },
  {
   "cell_type": "code",
   "execution_count": 6,
   "id": "3a841cd1-524a-4631-a0e6-d628da574b04",
   "metadata": {},
   "outputs": [
    {
     "data": {
      "image/png": "[encoded data removed]",
      "text/plain": [
       "<Figure size 504x288 with 1 Axes>"
      ]
     },
     "metadata": {
      "needs_background": "light"
     },
     "output_type": "display_data"
    }
   ],
   "source": [
    "'Ploting the first two features'\n",
    "fig=plt.figure(figsize=(7,4))\n",
    "plt.scatter(X[:,0],X[:,1],c=y,cmap=cmap,s=20)\n",
    "plt.show()\n"
   ]
  },
  {
   "cell_type": "code",
   "execution_count": 8,
   "id": "1d6226c5-1ccb-41fe-9519-2f70bb8d8754",
   "metadata": {},
   "outputs": [
    {
     "data": {
      "text/plain": [
       "KNeighborsClassifier(n_neighbors=3)"
      ]
     },
     "execution_count": 8,
     "metadata": {},
     "output_type": "execute_result"
    },
    {
     "name": "stdout",
     "output_type": "stream",
     "text": [
      "[2 0 2 0 2 2 0 0 2 0 0 2 0 0 2 1 1 1 2 2 2 0 2 0 1 2 1 0 1 2]\n",
      "\n"
     ]
    },
    {
     "data": {
      "text/plain": [
       "array([2, 0, 2, 0, 2, 2, 0, 0, 2, 0, 0, 2, 0, 0, 2, 1, 1, 1, 2, 2, 2, 0,\n",
       "       2, 0, 1, 2, 1, 0, 1, 2])"
      ]
     },
     "execution_count": 8,
     "metadata": {},
     "output_type": "execute_result"
    },
    {
     "name": "stdout",
     "output_type": "stream",
     "text": [
      "\n"
     ]
    },
    {
     "data": {
      "text/plain": [
       "array([[0.        , 0.        , 1.        ],\n",
       "       [1.        , 0.        , 0.        ],\n",
       "       [0.        , 0.        , 1.        ],\n",
       "       [1.        , 0.        , 0.        ],\n",
       "       [0.        , 0.33333333, 0.66666667],\n",
       "       [0.        , 0.        , 1.        ],\n",
       "       [1.        , 0.        , 0.        ],\n",
       "       [1.        , 0.        , 0.        ],\n",
       "       [0.        , 0.        , 1.        ],\n",
       "       [1.        , 0.        , 0.        ],\n",
       "       [1.        , 0.        , 0.        ],\n",
       "       [0.        , 0.        , 1.        ],\n",
       "       [1.        , 0.        , 0.        ],\n",
       "       [1.        , 0.        , 0.        ],\n",
       "       [0.        , 0.        , 1.        ],\n",
       "       [0.        , 1.        , 0.        ],\n",
       "       [0.        , 1.        , 0.        ],\n",
       "       [0.        , 0.66666667, 0.33333333],\n",
       "       [0.        , 0.        , 1.        ],\n",
       "       [0.        , 0.        , 1.        ],\n",
       "       [0.        , 0.        , 1.        ],\n",
       "       [1.        , 0.        , 0.        ],\n",
       "       [0.        , 0.33333333, 0.66666667],\n",
       "       [1.        , 0.        , 0.        ],\n",
       "       [0.        , 1.        , 0.        ],\n",
       "       [0.        , 0.        , 1.        ],\n",
       "       [0.        , 1.        , 0.        ],\n",
       "       [1.        , 0.        , 0.        ],\n",
       "       [0.        , 1.        , 0.        ],\n",
       "       [0.        , 0.        , 1.        ]])"
      ]
     },
     "execution_count": 8,
     "metadata": {},
     "output_type": "execute_result"
    },
    {
     "data": {
      "text/plain": [
       "array([2, 0, 2, 0, 2, 2, 0, 0, 2, 0, 0, 2, 0, 0, 2, 1, 1, 1, 2, 2, 2, 0,\n",
       "       2, 0, 1, 2, 1, 0, 1, 2], dtype=int64)"
      ]
     },
     "execution_count": 8,
     "metadata": {},
     "output_type": "execute_result"
    },
    {
     "name": "stdout",
     "output_type": "stream",
     "text": [
      "[2 0 2 0 2 2 0 0 2 0 0 2 0 0 2 1 1 1 2 2 2 0 2 0 1 2 1 0 1 2]\n"
     ]
    }
   ],
   "source": [
    "clf=KNeighborsClassifier(n_neighbors=3)\n",
    "clf.fit(X_train, y_train)\n",
    "print(clf.predict(X_test))\n",
    "print('')\n",
    "y_test\n",
    "print('')\n",
    "c2=clf.predict_proba(X_test)\n",
    "c2\n",
    "c=np.argmax(c2,axis=1)\n",
    "c\n",
    "print(clf.predict(X_test))\n",
    "\n"
   ]
  },
  {
   "cell_type": "markdown",
   "id": "01739fe5-01ee-47c4-b566-569dfbca4aec",
   "metadata": {},
   "source": [
    "### <span style='color:lightgreen'> In general, a sample is classified based on a popularity vote of its neighbors. </span>"
   ]
  },
  {
   "cell_type": "code",
   "execution_count": 40,
   "id": "9ca84733-e7be-4487-be69-717b3dd34d1b",
   "metadata": {},
   "outputs": [
    {
     "data": {
      "text/plain": [
       "'In the following cell, we will continue building  the class'"
      ]
     },
     "execution_count": 40,
     "metadata": {},
     "output_type": "execute_result"
    },
    {
     "data": {
      "text/plain": [
       "'We will use similar ML convention by using fit and prediction methods'"
      ]
     },
     "execution_count": 40,
     "metadata": {},
     "output_type": "execute_result"
    }
   ],
   "source": [
    "class KNN: \n",
    "    # Define init and default input\n",
    "    def __init__(self,k=3):  \n",
    "          # self.k=k because in init we want to store the value of k\n",
    "        self.k=k \n",
    "    pass\n",
    "'In the following cell, we will continue building  the class'\n",
    "'We will use similar ML convention by using fit and prediction methods'"
   ]
  },
  {
   "cell_type": "code",
   "execution_count": 10,
   "id": "e3320aed-3cbe-4c76-b1a8-95d88c982787",
   "metadata": {},
   "outputs": [],
   "source": [
    "class KNN: \n",
    "     # Define init and default input\n",
    "    def __init__(self,k=3): \n",
    "        self.k=k  \n",
    "        \n",
    "     # self.k=k because in init we want to store the value of k\n",
    "    def fit(self,X,y):   # This will fit training samples X with some labels, it involves training step\n",
    "    # KNN does not involve any training step, thus what we do in fit function is to store X_train,y_tarin and use them later\n",
    "        self.X_train=X\n",
    "        self.y_train=y\n",
    "        pass\n",
    "    # We want to predict new samples (use X capital for new sample)\n",
    "    def predict (self,X):\n",
    "        pass\n",
    "    "
   ]
  },
  {
   "cell_type": "code",
   "execution_count": 11,
   "id": "318fda67-828c-413c-9a62-0182bac7beb4",
   "metadata": {},
   "outputs": [],
   "source": [
    "class KNN: \n",
    "    # Define init and default input\n",
    "    def __init__(self,k=3):  \n",
    "        # self.k=k because in init we want to store the value of k\n",
    "        self.k=k   \n",
    "    \n",
    "    # This will fit training samples X with some labels, it involves training step\n",
    "    def fit(self,X,y):   \n",
    "    # KNN does not involve any training step, thus whatwe do in fit function is to store X,y and use them later\n",
    "        self.X_train=X\n",
    "        self.y_train=y\n",
    "        \n",
    "    # We want to predict multiple samples\n",
    "    def predict (self,X):  \n",
    "        predicted_lables=[] \n",
    "    \n",
    "    # Beacuse we predict multiple samples, we need a helper method _predict for each on\n",
    "    def _predict(self,x):\n",
    "        pass\n",
    "        \n",
    "        \n",
    "        \n",
    "    "
   ]
  },
  {
   "cell_type": "code",
   "execution_count": null,
   "id": "5cf4906d-a468-4e41-846c-03d61cf032cf",
   "metadata": {},
   "outputs": [],
   "source": []
  },
  {
   "cell_type": "code",
   "execution_count": 8,
   "id": "ba2948ee-ae24-464e-bf2d-54c1836e902f",
   "metadata": {},
   "outputs": [],
   "source": [
    "def Euclidean_distance(x1,x2):\n",
    "    return np.sqrt(np.sum((x1-x2)**2))\n"
   ]
  },
  {
   "cell_type": "code",
   "execution_count": 13,
   "id": "c69a2dce-01d5-4f68-b807-3da721c96e43",
   "metadata": {},
   "outputs": [
    {
     "ename": "NameError",
     "evalue": "name 'self' is not defined",
     "output_type": "error",
     "traceback": [
      "\u001b[1;31m---------------------------------------------------------------------------\u001b[0m",
      "\u001b[1;31mNameError\u001b[0m                                 Traceback (most recent call last)",
      "Input \u001b[1;32mIn [13]\u001b[0m, in \u001b[0;36m<cell line: 1>\u001b[1;34m()\u001b[0m\n\u001b[1;32m----> 1\u001b[0m \u001b[38;5;28;01mclass\u001b[39;00m \u001b[38;5;21;01mKNN\u001b[39;00m: \n\u001b[0;32m      2\u001b[0m     \u001b[38;5;66;03m# Define init and default input\u001b[39;00m\n\u001b[0;32m      3\u001b[0m     \u001b[38;5;28;01mdef\u001b[39;00m \u001b[38;5;21m__init__\u001b[39m(\u001b[38;5;28mself\u001b[39m,k\u001b[38;5;241m=\u001b[39m\u001b[38;5;241m3\u001b[39m):  \n\u001b[0;32m      4\u001b[0m         \u001b[38;5;66;03m# self.k=k because in init we want to store the value of k\u001b[39;00m\n\u001b[0;32m      5\u001b[0m         \u001b[38;5;28mself\u001b[39m\u001b[38;5;241m.\u001b[39mk\u001b[38;5;241m=\u001b[39mk   \n",
      "Input \u001b[1;32mIn [13]\u001b[0m, in \u001b[0;36mKNN\u001b[1;34m()\u001b[0m\n\u001b[0;32m     20\u001b[0m     \u001b[38;5;28;01mpass\u001b[39;00m\n\u001b[0;32m     22\u001b[0m \u001b[38;5;66;03m# Compute the Euclidean distance\u001b[39;00m\n\u001b[1;32m---> 23\u001b[0m Euclidean_distance\u001b[38;5;241m=\u001b[39m[Euclidean_distance(x,x_train) \u001b[38;5;28;01mfor\u001b[39;00m x_train \u001b[38;5;129;01min\u001b[39;00m \u001b[38;5;28;43mself\u001b[39;49m\u001b[38;5;241m.\u001b[39mX_train]\n",
      "\u001b[1;31mNameError\u001b[0m: name 'self' is not defined"
     ]
    }
   ],
   "source": [
    "class KNN: \n",
    "    # Define init and default input\n",
    "    def __init__(self,k=3):  \n",
    "        # self.k=k because in init we want to store the value of k\n",
    "        self.k=k   \n",
    "    \n",
    "    # This will fit training samples X with some labels, it involves training step\n",
    "    def fit(self,X,y):   \n",
    "    # KNN does not involve any training step, thus whatwe do in fit function is to store X,y and use them later\n",
    "        self.X_train=X\n",
    "        self.y_train=y\n",
    "        \n",
    "    # We want to predict multiple samples\n",
    "    def predict (self,X):  \n",
    "        predicted_lables=[self._predict(x) for x in X] \n",
    "        return np.array(predicted_lables)\n",
    "    \n",
    "    # Beacuse we predict multiple samples, we need a helper method _predict for each on\n",
    "    def _predict(self,x):\n",
    "        \n",
    "    \n",
    "    # Compute the Euclidean distance\n",
    "        Euclidean_distance=[Euclidean_distance(x,x_train) for x_train in self.X_train]\n",
    "\n",
    "    # Retrive the nearst k labels\n",
    "    \n",
    "    \n",
    "    # Compute the majority voting among the k classes\n",
    "        \n",
    "    "
   ]
  },
  {
   "cell_type": "code",
   "execution_count": null,
   "id": "f47e2b73-3e0f-470c-9ca9-db1af1cdd060",
   "metadata": {},
   "outputs": [],
   "source": [
    "class KNN: \n",
    "    # Define init and default input\n",
    "    def __init__(self,k=3):  \n",
    "        # self.k=k because in init we want to store the value of k\n",
    "        self.k=k   \n",
    "    \n",
    "    # This will fit training samples X with some labels, it involves training step\n",
    "    def fit(self,X,y):   \n",
    "    # KNN does not involve any training step, thus whatwe do in fit function is to store X,y and use them later\n",
    "        self.X_train=X\n",
    "        self.y_train=y\n",
    "        \n",
    "    # We want to predict multiple samples\n",
    "    def predict (self,X):  \n",
    "        predicted_lables=[self._predict(x) for x in X] \n",
    "        return np.array(predicted_lables)\n",
    "    \n",
    "    # Beacuse we predict multiple samples, we need a helper method _predict for each on\n",
    "    def _predict(self,x):\n",
    "    \n",
    "    # Compute the Euclidean distance\n",
    "    Euclidean_distance=[Euclidean_distance(x,x_train) for x_train in self.X_train]\n",
    "    print(type(Euclidean_distance))\n",
    "    # Retrive the  k nearst indiceis\n",
    "    K_nearst_indicies=np.argsort(Euclidean_distance)[:self.k]\n",
    "    # Retrivre the k nearst labels\n",
    "    # Compute the majority voting among the k classes\n",
    "        \n",
    "    "
   ]
  },
  {
   "cell_type": "code",
   "execution_count": null,
   "id": "12e6bedf-cdbc-401f-b199-7c16ab6cd32a",
   "metadata": {},
   "outputs": [],
   "source": [
    "class KNN: \n",
    "    # Define init and default input\n",
    "    def __init__(self,k=3):  \n",
    "        # self.k=k because in init we want to store the value of k\n",
    "        self.k=k   \n",
    "    \n",
    "    # This will fit training samples X with some labels, it involves training step\n",
    "    def fit(self,X,y):   \n",
    "    # KNN does not involve any training step, thus whatwe do in fit function is to store X,y and use them later\n",
    "        self.X_train=X\n",
    "        self.y_train=y\n",
    "        \n",
    "    # We want to predict multiple samples\n",
    "    def predict (self,X):  \n",
    "        predicted_lables=[self._predict(x) for x in X] \n",
    "        return np.array(predicted_lables)\n",
    "    \n",
    "    # Beacuse we predict multiple samples, we need a helper method _predict for each on\n",
    "    def _predict(self,x):\n",
    "    \n",
    "    # Compute the Euclidean distance\n",
    "    Euclidean_distance=[Euclidean_distance(x,x_train) for x_train in self.X_train]\n",
    "    print(type(Euclidean_distance))\n",
    "    # Retrive the  k nearst indiceis\n",
    "    K_nearst_indicies=np.argsort(Euclidean_distance)[:self.k]\n",
    "    #Retrivre the k nearst labels\n",
    "    k_nearsty_labels=[self.y_train[i] for i in K_nearst_indicies] \n",
    "    # Compute the majority voting among the k classes\n",
    "        \n",
    "    "
   ]
  },
  {
   "cell_type": "code",
   "execution_count": 23,
   "id": "c7d86a24-ce2a-412f-aeb2-20d8bab788d4",
   "metadata": {},
   "outputs": [
    {
     "data": {
      "text/plain": [
       "1"
      ]
     },
     "execution_count": 23,
     "metadata": {},
     "output_type": "execute_result"
    }
   ],
   "source": [
    "from collections import Counter\n",
    "\n",
    "a=[1,2,3,4,1,2,3,4]\n",
    "most=Counter(a).most_common(1)\n",
    "most[0][0]"
   ]
  },
  {
   "cell_type": "code",
   "execution_count": 9,
   "id": "605cdc5c-6f0c-416f-8de4-77cc9b1890c9",
   "metadata": {},
   "outputs": [],
   "source": [
    "class KNNclassifier: \n",
    "    # Define init and default input\n",
    "    def __init__(self,k=3):  \n",
    "        # self.k=k because in init we want to store the value of k\n",
    "        self.k=k   \n",
    "    \n",
    "    # This will fit training samples X with some labels, it involves training step\n",
    "    def fit(self,X,y):   \n",
    "    # KNN does not involve any training step, thus whatwe do in fit function is to store X,y and use them later\n",
    "        self.X_train=X\n",
    "        self.y_train=y\n",
    "        \n",
    "    # We want to predict multiple samples\n",
    "    def predict (self,X):  \n",
    "        predicted_lables=[self._predict(x) for x in X] \n",
    "        return np.array(predicted_lables)\n",
    "    \n",
    "    # Beacuse we predict multiple samples, we need a helper method _predict for each on\n",
    "    def _predict(self,x):\n",
    "    \n",
    "        # Compute the Euclidean distance\n",
    "        Euclidean_Distance=[Euclidean_distance(x,x_train) for x_train in self.X_train]\n",
    "        # Retrive the  k nearst indiceis\n",
    "        K_nearst_indecies=np.argsort(Euclidean_Distance)[:self.k]\n",
    "        #Retrivre the k nearst labels\n",
    "        K_nearst_lables=[self.y_train[i] for i in K_nearst_indecies] \n",
    "        # Compute the majority voting among the k classes\n",
    "        major_class=Counter(K_nearst_lables).most_common(1)\n",
    "        return major_class[0][0]\n",
    "\n",
    "    "
   ]
  },
  {
   "cell_type": "code",
   "execution_count": 25,
   "id": "fd9897d2-2689-40f5-b893-8f4c6b658e88",
   "metadata": {},
   "outputs": [
    {
     "name": "stdout",
     "output_type": "stream",
     "text": [
      "[2 0 2 0 2 2 0 0 2 0 0 2 0 0 2 1 1 1 2 2 2 0 2 0 1 2 1 0 1 2]\n",
      "\n",
      "[2 0 2 0 2 2 0 0 2 0 0 2 0 0 2 1 1 1 2 2 2 0 2 0 1 2 1 0 1 2]\n",
      "\n",
      "1.0\n",
      "[ True  True  True  True  True  True  True  True  True  True  True  True\n",
      "  True  True  True  True  True  True  True  True  True  True  True  True\n",
      "  True  True  True  True  True  True]\n",
      "30\n"
     ]
    }
   ],
   "source": [
    "clf=KNNclassifier(k=3)\n",
    "clf.fit(X_train,y_train)\n",
    "prediction=clf.predict(X_test)\n",
    "accuricy=np.sum(prediction==y_test)/len(y_test)\n",
    "print(prediction)\n",
    "print('')\n",
    "print(y_test)\n",
    "print('')\n",
    "print(accuricy)\n",
    "\n",
    "print(prediction==y_test)\n",
    "aa=np.sum(prediction==y_test)/len(y_test)\n",
    "print(aa)"
   ]
  },
  {
   "cell_type": "code",
   "execution_count": null,
   "id": "778f2b2f-d05c-411b-99bb-84f04ff6279e",
   "metadata": {},
   "outputs": [],
   "source": [
    "\n",
    "\n"
   ]
  }
 ],
 "metadata": {
  "kernelspec": {
   "display_name": "Python 3 (ipykernel)",
   "language": "python",
   "name": "python3"
  },
  "language_info": {
   "codemirror_mode": {
    "name": "ipython",
    "version": 3
   },
   "file_extension": ".py",
   "mimetype": "text/x-python",
   "name": "python",
   "nbconvert_exporter": "python",
   "pygments_lexer": "ipython3",
   "version": "3.9.7"
  }
 },
 "nbformat": 4,
 "nbformat_minor": 5
}
