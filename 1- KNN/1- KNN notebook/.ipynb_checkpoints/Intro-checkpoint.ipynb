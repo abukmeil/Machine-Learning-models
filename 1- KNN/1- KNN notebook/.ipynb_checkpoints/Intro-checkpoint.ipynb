{
 "cells": [
  {
   "cell_type": "markdown",
   "id": "74d7baa9-296c-4247-94dc-16b8e8dbfdc3",
   "metadata": {
    "tags": []
   },
   "source": [
    "# <span style='color:lightgreen'> Nonparametrics vs. Parametrics Ml models </span>\n"
   ]
  },
  {
   "cell_type": "markdown",
   "id": "fc1e7a76-3bef-4351-9808-cf1801706475",
   "metadata": {},
   "source": [
    "# <span style='color:yellow'> Learning function </span>\n",
    "\n",
    "#### <span style='color:white'> Machine learning can be summarized as learning a function (f) that maps input variables (X) to output variables (Y).</span>\n",
    "\n",
    "#### <span style='color:white'> Y=f(x); an algorithm learns this target mapping function from training data.</span>\n",
    "\n",
    "#### <span style='color:white'>Since the underlying function's shape is unknown, it is our responsibility as machine learning experts to assess several machine learning algorithms to determine which performs best at approximating the underlying function.</span>\n"
   ]
  },
  {
   "cell_type": "markdown",
   "id": "8accbf11-08e6-463d-bd24-9ba8e210c118",
   "metadata": {},
   "source": [
    "## <span style='color:yellow'>Nonparametric algorithims:</span>\n",
    "\n",
    "#### <span style='color:white'>Nonparametric machine learning algorithms are those that do not make any firm assumptions about the shape of the mapping function.</span>\n",
    "    \n",
    "#### <span style='color:white'>They are allowed to learn any functional form from the training data because they are not making any assumptions. </span>\n",
    "\n",
    "#### <span style='color:white'>When you have a lot of data, no prior information, and you don't want to worry too much about picking the perfect features, nonparametric approaches are a viable option.</span>\n",
    "\n",
    "## <span style='color:yellow'>Examples</span>\n",
    "\n",
    "###### <span style='color:deeppink'> k-Nearest Neighbors</span> \n",
    "###### <span style='color:deeppink'> Support Vector Machines</span >\n",
    "###### <span style='color:deeppink'>  Decision Trees</span >\n",
    "###### <span style='color:deeppink'>  Random forest </span>\n"
   ]
  },
  {
   "cell_type": "markdown",
   "id": "de8349d2-6599-4b99-b0f4-7466a29dc3f9",
   "metadata": {},
   "source": [
    "## <span style='color:yellow'>Parametric algorithims:</span>\n",
    "\n",
    "#### <span style='color:white'>A parametric model is a learning algorithm that summarizes data using a set of fixed-size parameters, independent of the number of training examples. </span>\n",
    "\n",
    "#### <span style='color:white'>A parametric model won't change its mind about how many parameters it requires no matter how much data you feed it.</span>\n",
    "\n",
    "#### <span style='color:white'>Often the assumed functional form is a linear combination of the input variables and as such parametric machine learning algorithms are often also called “linear machine learning algorithms</span>\n",
    "\n",
    "#### <span style='color:white'>The problem is, the actual unknown underlying function may not be a linear function like a line. It could be almost a line and require some minor transformation of the input data to work right.</span>\n",
    "\n",
    "#### <span style='color:white'>The algorithms involve two steps: (1)Select a form for the function, (2) Learn the coefficients for the function from the training data.</span>\n",
    "\n",
    "###### <span style='color:deeppink'> Logistic Regression</span> \n",
    "###### <span style='color:deeppink'> Perceptron</span>\n",
    "###### <span style='color:deeppink'> Naive Bayes</span> \n",
    "###### <span style='color:deeppink'> Neural Networks</span> \n"
   ]
  },
  {
   "cell_type": "code",
   "execution_count": null,
   "id": "2560489d-c922-46ec-88bb-c5a9f758096d",
   "metadata": {},
   "outputs": [],
   "source": []
  }
 ],
 "metadata": {
  "kernelspec": {
   "display_name": "Python 3 (ipykernel)",
   "language": "python",
   "name": "python3"
  },
  "language_info": {
   "codemirror_mode": {
    "name": "ipython",
    "version": 3
   },
   "file_extension": ".py",
   "mimetype": "text/x-python",
   "name": "python",
   "nbconvert_exporter": "python",
   "pygments_lexer": "ipython3",
   "version": "3.9.7"
  }
 },
 "nbformat": 4,
 "nbformat_minor": 5
}
