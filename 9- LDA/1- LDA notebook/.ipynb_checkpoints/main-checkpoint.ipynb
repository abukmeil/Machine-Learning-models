{
 "cells": [
  {
   "cell_type": "markdown",
   "id": "46712c3d-3399-4a57-b25d-62361574d871",
   "metadata": {
    "tags": []
   },
   "source": [
    "# Linear Discriminant Analysis\n",
    "\n",
    "\n",
    "### <span style='color:yellow'>Linear discriminant analysis (LDA), or normal discriminant analysis, is a supervised ML method that is used to find the linear combination of features that separate or characterize two classes or events. </span>\n",
    "\n",
    "### <span style='color:yellow'>LDA is a supervised ML method that can be utilized in dimensionality reduction, classification, and visualization.</span>\n",
    "\n",
    "### <span style='color:yellow'> The main goal of LDA lies on projecting data or dataset, X, into a lower dimensional space, Z, with good lass separability.</span>\n"
   ]
  },
  {
   "cell_type": "markdown",
   "id": "6cfd469c-1bd6-4d8e-bb19-f1092743c3c2",
   "metadata": {},
   "source": [
    "# LDA vs. PCA\n",
    "\n",
    "### <span style='color:yellow'> LDA is a supervised ML method and PCA is an unsupervised ML method; however, both are similar in terms of implementation and using the eigen-decomposition.</span>\n",
    "\n",
    "### <span style='color:yellow'> Generally, the goal of LDA is to find new axes such that the class separation is maximized.</span>\n",
    "\n",
    "### <span style='color:yellow'> The goal of PCA is to find the axes that maximize the variance between data samples/ classes in the projected axes (subspaces).</span>\n",
    "\n",
    "<img src='pca_vs_lda.png' withd=400>\n"
   ]
  },
  {
   "cell_type": "markdown",
   "id": "d76c887a-a8af-458f-aacc-2da1ec7d9e25",
   "metadata": {},
   "source": [
    "# Practical procedure:\n",
    "\n",
    "### <span style='color:yellow'> Calculate within-class scatter matrix $S_W$.</span>\n",
    "### <span style='color:yellow'> Calculate between-class scatter matrix $S_B$.</span>\n",
    "### <span style='color:yellow'> Apply eigen-decomposition on $S^{-1}_{W}S_B$.</span>\n",
    "### <span style='color:yellow'>Sort the eigenvectors of the above-decomposed matrix in decreasing order and according to their eigenvalues, i.e., according to their importance value, where the smallest eigenvalues are ignored.</span>\n",
    "### <span style='color:yellow'>Select the first d eigenvectors which will serve as new d dimensions (linear discriminants component).</span>\n",
    "### <span style='color:yellow'>The dimensionality reduction is obtained by projecting the original data, X, with  D dimensions into a new space with d dimensions $(d<<D)$ utilizing the dot product.</span>"
   ]
  },
  {
   "cell_type": "markdown",
   "id": "cb9e4c3f-664a-45b2-a938-ed595ff1aa15",
   "metadata": {},
   "source": [
    "# Transformation\n",
    "\n",
    "## 1- Mathematical modeling \n",
    "\n",
    "### <span style='color:yellow'> I. Calculate within the class scatter matrix to ensure that features within each class are well separated:</span>\n",
    "\n",
    "$$\n",
    "\\Large S_W=\\Sigma_cS_c\n",
    "$$\n",
    "\n",
    "$$\n",
    "\\Large S_c=\\Sigma_{i\\in c}(x_i-\\bar{x_c}).(x_i-\\bar{x_c})^\\intercal\n",
    "$$\n",
    "### <span style='color:yellow'> where $\\bar{x_c}$ is the mean value of the data samples that belongs to a class c.</span>\n",
    "\n",
    "\n",
    "### <span style='color:yellow'> The above step is similar to computing the covariance matrix in the PCA; however, in the covariance matrix computation, we use 1/n as a scalar.</span>\n",
    "\n",
    "\n",
    "\n",
    "### <span style='color:yellow'> II. Calculate between the class scatter matrix to ensure that all classes are well separated:</span>\n",
    "$$\n",
    "\\Large S_B=\\Sigma_c n_c (\\bar{x_c}-\\bar{x}).(\\bar{x_c}-\\bar{x})^\\intercal$$\n",
    "\n",
    "### <span style='color:yellow'> where $n_c$ represents the total number of samples in the class c. </span>"
   ]
  },
  {
   "cell_type": "markdown",
   "id": "73882c2f-c4e4-40b8-99ab-33744d1f176e",
   "metadata": {},
   "source": [
    "## 2- eigen- decomposition\n",
    "\n",
    "### <span style='color:yellow'>After computing $S_W$ and $S_B$ matrices, then we apply the eigendecomposition in the following Z: </span>\n",
    "\n",
    "$$\n",
    "Z=\\Large S^{-1}_{W}S_B\n",
    "$$"
   ]
  },
  {
   "cell_type": "code",
   "execution_count": 25,
   "id": "0ec44f9d-557f-4dc6-b32a-c216a0a90218",
   "metadata": {},
   "outputs": [],
   "source": [
    "import numpy as np\n",
    "import matplotlib.pyplot as plt\n",
    "from matplotlib.colors import ListedColormap\n",
    "from sklearn import datasets\n"
   ]
  },
  {
   "cell_type": "code",
   "execution_count": 26,
   "id": "77b2c8bd-a0a1-4d22-9b67-b68bb67e0b07",
   "metadata": {},
   "outputs": [],
   "source": [
    "'Loading iris dataset'\n",
    "data=datasets.load_iris()\n",
    "data.keys()\n",
    "X=data.data\n",
    "y=data.target"
   ]
  },
  {
   "cell_type": "code",
   "execution_count": 27,
   "id": "6a8bf1bd-838a-4fd4-8953-c20d5b1a89ba",
   "metadata": {},
   "outputs": [
    {
     "data": {
      "image/png": "[encoded data removed]",
      "text/plain": [
       "<Figure size 432x288 with 1 Axes>"
      ]
     },
     "metadata": {
      "needs_background": "light"
     },
     "output_type": "display_data"
    }
   ],
   "source": [
    "'Visualizing the first two features'\n",
    "fig,ax=plt.subplots(1,figsize=(6,4))\n",
    "font1={'family':'serif','weight':'bold','color':'black','size':14}\n",
    "cmap=ListedColormap(['#FF0000','#00FF00','#0000FF'])\n",
    "ax.scatter(X[:,0],X[:,1],c=y,cmap=cmap,marker='o',s=15)\n",
    "\n",
    "plt.title(\"Scatter plot of the first two features\",fontdict=font1)\n",
    "plt.xlabel('x_1',fontdict=font1)\n",
    "plt.ylabel('x_2',fontdict=font1)\n",
    "plt.show()\n"
   ]
  },
  {
   "cell_type": "code",
   "execution_count": 46,
   "id": "a273675d-e900-437a-bb37-e9e6e31b28ea",
   "metadata": {},
   "outputs": [],
   "source": [
    "'Building the body of the LDA class'\n",
    "class LDA:\n",
    "    def __init__(self,n_components):\n",
    "        self.n_components=n_components\n",
    "        self.LDA_vectors=None\n",
    "    def fit(self, X,y):\n",
    "        pass\n",
    "    def transform(self,X):\n",
    "        pass"
   ]
  },
  {
   "cell_type": "code",
   "execution_count": 47,
   "id": "e2597e4c-ec46-4404-836d-b375ee8326c9",
   "metadata": {},
   "outputs": [],
   "source": [
    "'Calculating within the class S_W and between class S_B matrices'\n",
    "class LDA:\n",
    "    def __init__(self,n_components):\n",
    "        self.n_components=n_components\n",
    "        self.LDA_vectors=None\n",
    "    def fit(self, X,y):\n",
    "        n_samples,n_features=X.shape[0],X.shape[1] #(150,4)\n",
    "        X_mean=np.mean(X,axis=0)\n",
    "        n_classes=np.unique(y) #(0,1,2,3)\n",
    "        # Initializing S_W, S_B\n",
    "        S_W=np.zeros((n_features,n_features)) #(4,4)\n",
    "        S_B=np.zeros((n_features,n_features)) #(4,4)\n",
    "        for c in n_classes: \n",
    "            X_c=X[c==y]  # Filter to retrieve samples or each class\n",
    "            Xc_mean=np.mean(X_c,axis=0) # (1,4)\n",
    "            # check eqn. (1) to see why we used S_W+\n",
    "            S_W+= np.dot((X_c-Xc_mean).T,(X_c-Xc_mean)) # Here we need the final matrix to be (4,4)\n",
    "            # Retrieve the data samples for each class\n",
    "            nc=X_c.shape[0]\n",
    "            diff_mean=X_mean-Xc_mean\n",
    "            S_B+=nc*np.dot((diff_mean),(diff_mean).T)\n",
    "            \n",
    "            \n",
    "    \n",
    "    def transform(self,X):\n",
    "        pass\n"
   ]
  },
  {
   "cell_type": "code",
   "execution_count": 97,
   "id": "b0f1930b-4725-4c3a-946a-ad26bd4f96a4",
   "metadata": {},
   "outputs": [],
   "source": [
    "'Performing eigen-decomposition'\n",
    "class LDA:\n",
    "    def __init__(self,n_components):\n",
    "        self.n_components=n_components\n",
    "        self.LDA_vectors=None\n",
    "    def fit(self, X,y):\n",
    "        n_samples,n_features=X.shape[0],X.shape[1] #(150,4)\n",
    "        X_mean=np.mean(X,axis=0)\n",
    "        n_classes=np.unique(y) #(0,1,2,3)\n",
    "        # Initializing S_W, S_B\n",
    "        S_W=np.zeros((n_features,n_features)) #(4,4)\n",
    "        S_B=np.zeros((n_features,n_features)) #(4,4)\n",
    "        for c in n_classes: \n",
    "            X_c=X[c==y]  # Filter to retrieve samples or each class\n",
    "            Xc_mean=np.mean(X_c,axis=0) # (1,4)\n",
    "            # check eqn. (1) to see why we used S_W+\n",
    "            S_W+= np.dot((X_c-Xc_mean).T,(X_c-Xc_mean)) # Here we need the final matrix to be (4,4)\n",
    "            # Retrieve the data samples for each class\n",
    "            nc=X_c.shape[0]\n",
    "            diff_mean=X_mean-Xc_mean\n",
    "            S_B+=nc*np.dot((diff_mean),(diff_mean).T)\n",
    "        \n",
    "        Z=np.linalg.inv(S_W).dot(S_B)\n",
    "        eign_values,eign_vectors=np.linalg.eig(Z)\n",
    "        eign_vectors=eign_vectors.T\n",
    "        print(eign_vectors.shape)\n",
    "        idx=np.argsort(abs(eign_values))[::-1]\n",
    "        eign_values=eign_values[idx]\n",
    "        eign_vectors=eign_vectors[idx]\n",
    "        self.LDA_vectors=eign_vectors[0:self.n_components]\n",
    "    def transform(self,X):\n",
    "        pass"
   ]
  },
  {
   "cell_type": "code",
   "execution_count": 98,
   "id": "ff839f6d-e715-4260-ab6e-750fddcff898",
   "metadata": {},
   "outputs": [],
   "source": [
    "'Building transform method'\n",
    "class LDA:\n",
    "    def __init__(self,n_components):\n",
    "        self.n_components=n_components\n",
    "        self.LDA_vectors=None\n",
    "    def fit(self, X,y):\n",
    "        n_samples,n_features=X.shape[0],X.shape[1] #(150,4)\n",
    "        X_mean=np.mean(X,axis=0)\n",
    "        n_classes=np.unique(y) #(0,1,2,3)\n",
    "        # Initializing S_W, S_B\n",
    "        S_W=np.zeros((n_features,n_features)) #(4,4)\n",
    "        S_B=np.zeros((n_features,n_features)) #(4,4)\n",
    "        for c in n_classes: \n",
    "            X_c=X[c==y]  # Filter to retrieve samples or each class\n",
    "            Xc_mean=np.mean(X_c,axis=0) # (1,4)\n",
    "            # check eqn. (1) to see why we used S_W+\n",
    "            S_W+= np.dot((X_c-Xc_mean).T,(X_c-Xc_mean)) # Here we need the final matrix to be (4,4)\n",
    "            # Retrieve the data samples for each class\n",
    "            nc=X_c.shape[0]\n",
    "            diff_mean=X_mean-Xc_mean\n",
    "            S_B+=nc*np.dot((diff_mean),(diff_mean).T)\n",
    "        \n",
    "        A=np.linalg.inv(S_W).dot(S_B)\n",
    "        eign_values,eign_vectors=np.linalg.eig(A)\n",
    "        eign_vectors=eign_vectors.T\n",
    "        print(f' The eigenvectors shape: {eign_vectors.shape}')\n",
    "        idx=np.argsort(abs(eign_values))[::-1]\n",
    "        eign_values=eign_values[idx]\n",
    "        eign_vectors=eign_vectors[idx]\n",
    "        self.LDA_vectors=eign_vectors[0:self.n_components]\n",
    "        \n",
    "    \n",
    "    def transform(self,X):\n",
    "        return np.dot(X,self.LDA_vectors.T)"
   ]
  },
  {
   "cell_type": "code",
   "execution_count": 99,
   "id": "7c4c96c0-45c7-475a-b17e-bf284562610f",
   "metadata": {},
   "outputs": [],
   "source": [
    "lda=LDA(n_components=2)"
   ]
  },
  {
   "cell_type": "code",
   "execution_count": 100,
   "id": "d8619a28-02a6-412f-a153-9bf51e75501f",
   "metadata": {},
   "outputs": [
    {
     "name": "stdout",
     "output_type": "stream",
     "text": [
      " The eigenvectors shape: (4, 4)\n"
     ]
    }
   ],
   "source": [
    "lda.fit(X,y)"
   ]
  },
  {
   "cell_type": "code",
   "execution_count": 101,
   "id": "04c45ffa-b79a-4a9e-8f7c-744c93168253",
   "metadata": {},
   "outputs": [
    {
     "name": "stdout",
     "output_type": "stream",
     "text": [
      "The original data before the projection is (150, 4)\n",
      "The projected data shape is (150, 2)\n"
     ]
    }
   ],
   "source": [
    "projected_data=lda.transform(X)\n",
    "print(f'The original data before the projection is {X.shape}')\n",
    "print(f'The projected data shape is {projected_data.shape}')\n"
   ]
  },
  {
   "cell_type": "code",
   "execution_count": 102,
   "id": "c3f2b811-3d2f-4fd8-b55a-c5915f241376",
   "metadata": {},
   "outputs": [
    {
     "data": {
      "image/png": "[encoded data removed]",
      "text/plain": [
       "<Figure size 432x288 with 2 Axes>"
      ]
     },
     "metadata": {
      "needs_background": "light"
     },
     "output_type": "display_data"
    }
   ],
   "source": [
    "fig,ax=plt.subplots(1,figsize=(6,4))\n",
    "font1={'family':'serif','weight':'bold','color':'black','size':14}\n",
    "cmap=ListedColormap(['#FF0000','#00FF00','#0000FF'])\n",
    "plt.scatter(projected_data[:,0],projected_data[:,1],c=y,cmap=cmap,s=15,edgecolors='none')\n",
    "plt.colorbar()\n",
    "plt.title(\"plot of the first two components\",fontdict=font1)\n",
    "plt.xlabel(\"LDA component #1\",fontdict=font1)\n",
    "plt.ylabel(\"LDA component #1\",fontdict=font1)\n",
    "plt.show()\n"
   ]
  }
 ],
 "metadata": {
  "kernelspec": {
   "display_name": "Python 3 (ipykernel)",
   "language": "python",
   "name": "python3"
  },
  "language_info": {
   "codemirror_mode": {
    "name": "ipython",
    "version": 3
   },
   "file_extension": ".py",
   "mimetype": "text/x-python",
   "name": "python",
   "nbconvert_exporter": "python",
   "pygments_lexer": "ipython3",
   "version": "3.9.7"
  }
 },
 "nbformat": 4,
 "nbformat_minor": 5
}
