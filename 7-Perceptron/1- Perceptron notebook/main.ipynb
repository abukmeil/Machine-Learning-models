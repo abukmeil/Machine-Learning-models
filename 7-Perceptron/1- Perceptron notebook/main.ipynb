{
 "cells": [
  {
   "cell_type": "markdown",
   "id": "46712c3d-3399-4a57-b25d-62361574d871",
   "metadata": {},
   "source": [
    "# Perceptron\n",
    "\n",
    "### <span style='color:yellow'>The biological, or spiking, neuron models are the mathematical descriptions that study the properties of a certain biological nerve cell. </span>\n",
    "\n",
    "### <span style='color:yellow'>The perceptron is an ML model that exploits the favor of the biological neuron modeling in building supervised classification models, where it is considered a simplified model of a biological neuron and simulates the behavior of such a cell.</span>\n",
    "\n",
    "### <span style='color:yellow'>The perception is considered also a single unit of the artificial neural network models that mimics the behavior of the brain neurons.</span>\n"
   ]
  },
  {
   "cell_type": "markdown",
   "id": "eee72a7b-8cf1-4697-8fe8-fd49acad22fb",
   "metadata": {},
   "source": [
    "## Biological modeling\n",
    "### <span style='color:yellow'>Biologically, each neuron cell has a set of inputs (dendrites) as is illustrated in the following figure. </span>\n",
    "\n",
    "### <span style='color:yellow'>The inputs are weighted and summed up at the nucleus of the neuron cell.</span>\n",
    "\n",
    "\n",
    "### <span style='color:yellow'>Thereafter, if the result of the weighted sum among all input reached a certain limit or threshold, then the cell fire a certain signal through the axon to the output terminals. </span>\n",
    "\n",
    "    \n",
    "<img src=\"perceptron.png\" width=350>"
   ]
  },
  {
   "cell_type": "code",
   "execution_count": null,
   "id": "9517cbba-cb46-436a-98a0-641fbfd56ee3",
   "metadata": {},
   "outputs": [],
   "source": []
  },
  {
   "cell_type": "markdown",
   "id": "24b63c6f-0b70-4b60-bd86-0810a1a1c452",
   "metadata": {},
   "source": [
    "## Mathmatical  modeling\n",
    "### <span style='color:yellow'>For vectorized data samples, the feature points of each sample pass through the input units, then each input feature point is weighted, separately, using a specific weight for each input and all weighted inputs are summed to have one representative value.</span>\n",
    "\n",
    "### <span style='color:yellow'>The representative values are shifted using an additive bias (or intercept) that is predefined for each data sample.</span>\n",
    "    \n",
    "### <span style='color:yellow'>The additicve bias prevents the weights of different samples from different classes to pass from the origin, thus the weights for for each different class are adjusted according to the sample bias.</span>\n",
    "\n",
    "### <span style='color:yellow'>The shifted representative value is passed then through a function, called activation function, to append non-linearity properties to the representative value.</span>\n",
    "\n",
    "### <span style='color:yellow'>There are many different activation functions that can be utilized including the unit step (which will be used in this tutorial), sigmoid, relu, among others.</span>\n",
    "\n",
    "<img src=\"math_model.png\" width=350>pip install nbconvert\n"
   ]
  },
  {
   "cell_type": "markdown",
   "id": "4617fe13-e7b6-412e-ac0c-26bd64ca1c32",
   "metadata": {},
   "source": [
    "## Linear model\n",
    "$$\n",
    "   \\Large{{z= f({w,b})  = w^{\\intercal}x + b}}\n",
    "$$"
   ]
  },
  {
   "cell_type": "markdown",
   "id": "ef393591-fcee-45a3-873d-8021bd30d491",
   "metadata": {},
   "source": [
    "## Activation function\n",
    "### <span style='color:yellow'>In this tutorial we use the unit step activation function that equal to if I its input,z, is greater than or equal to a certain threshold t:</span>\n",
    "\n",
    "$$\n",
    "    \\LARGE{g(z)  = 1, z \\geq  t} \n",
    "$$\n",
    "\n",
    "$$\n",
    "    \\LARGE{g(z)  = 0, \\mathrm{otherwise}} \n",
    "$$\n",
    "\n",
    "<img src=\"step_function.png\" width=350>"
   ]
  },
  {
   "cell_type": "markdown",
   "id": "3ed83f69-0b60-49d7-bcc6-ed4db706c413",
   "metadata": {},
   "source": [
    "## Prediction (approximation)\n",
    "$$\n",
    "   \\Large{\\hat{y} = g{(f({w,b}))  = w^{\\intercal}x + b}}\n",
    "$$\n",
    "\n",
    "### <span style='color:yellow'>Remember, the model output is a dependent variable, x is given, and the only changeable parameters that must be adjusted and optimized are w and b. Accordingly, we compute the gradient iteratively until reaching the optimal solution.</span>"
   ]
  },
  {
   "cell_type": "markdown",
   "id": "9f09e34c-02a3-434c-afce-273bc637ddfe",
   "metadata": {},
   "source": [
    "## Optimization and update rule\n",
    "### <span style='color:yellow'>At each iteration and for each sample, we come up with the derivative of the weights and update their current values according to that derivative, i.e, gradient.</span>\n",
    "\n",
    "### <span style='color:yellow'> In this tutorial, we consider heuristic rule-based (called perceptron update rule) to update the weights for each data sample in lieu of the loss function and gradient descent.</span>\n",
    "\n",
    "### <span style='color:yellow'> Considering binary classification problem:</span>\n",
    "\n",
    "$$\n",
    "\\Large{dw=(y_i-\\hat{y}_i).x_i}\n",
    "$$\n"
   ]
  },
  {
   "cell_type": "markdown",
   "id": "9daa8234-8ab7-48b9-825f-3b6dc72a54b0",
   "metadata": {
    "tags": []
   },
   "source": [
    "## Update rule  with learning rate integration\n",
    "\n",
    "$$\n",
    "\\Large{\n",
    "\\begin{aligned}\n",
    "& \\text {Rule representation}\\\\\n",
    "&\\begin{array}{ccc}\n",
    "\\hline \\hline y & \\hat{y}& {y-\\hat{y}} \\\\\n",
    "\\hline \n",
    " 1 & 1 & 0 \\\\\n",
    " 1 & 0 & 1 \\\\\n",
    " 0 & 0 & 0 \\\\\n",
    " 0 & 1 & -1 \\\\\n",
    "\\hline\n",
    "\\end{array}\n",
    "\\end{aligned}}\n",
    "$$\n",
    "\n",
    "### <span style='color:yellow'> As it is noticed from the update rule representation table, if the difference between both actual and predicted labels) is equal to 0, then the gradient of the weights will be 0 and the optimization algorithm is being converged to the optimal solution.</span>\n",
    "\n",
    "### <span style='color:yellow'>  If the difference between both actual and predicted labels) is not equal to 0, then the gradient will be decreasing or increase till reaches 0.\n",
    "\n",
    "$$\n",
    "\\Large{w:= w+\\alpha (dw)}\n",
    "$$"
   ]
  },
  {
   "cell_type": "code",
   "execution_count": 34,
   "id": "f1a06955-300a-4cf6-8b1d-fee666d02d95",
   "metadata": {},
   "outputs": [],
   "source": [
    "'Importing relevent modules and libs'\n",
    "import numpy as np\n",
    "from sklearn.model_selection import train_test_split\n",
    "from sklearn import datasets\n",
    "import matplotlib.pyplot as plt\n",
    "from matplotlib.colors import ListedColormap\n",
    "cmap=ListedColormap(['#FF0000','#00FF00'])"
   ]
  },
  {
   "cell_type": "code",
   "execution_count": 84,
   "id": "775196b5-8055-4eb9-82d1-e3d6fadbeb13",
   "metadata": {},
   "outputs": [],
   "source": [
    "'Creating an artificial dataset'\n",
    "X,y=datasets.make_blobs(n_samples=500,n_features=2,cluster_std=1.02,centers=2,shuffle=True,random_state=1234)\n",
    "X_train,X_test,y_train,y_test=train_test_split(X,y,test_size=0.5,shuffle=True,random_state=1324)"
   ]
  },
  {
   "cell_type": "code",
   "execution_count": 85,
   "id": "ba149270-f192-4cee-a74f-f761df98fa2a",
   "metadata": {},
   "outputs": [
    {
     "data": {
      "text/plain": [
       "array([0, 1, 0, 1, 1, 1, 0, 0, 1, 1, 0, 0, 0, 1, 0, 1, 0, 0, 0, 0, 0, 1,\n",
       "       0, 1, 1, 1, 1, 0, 0, 0, 0, 1, 0, 0, 1, 1, 1, 0, 1, 1, 1, 0, 0, 0,\n",
       "       0, 1, 1, 1, 0, 0, 1, 1, 0, 0, 0, 0, 1, 1, 1, 1, 0, 0, 1, 0, 1, 1,\n",
       "       1, 0, 0, 1, 0, 0, 0, 0, 1, 0, 1, 1, 1, 0, 1, 0, 0, 0, 0, 0, 0, 1,\n",
       "       1, 1, 0, 1, 0, 1, 1, 1, 1, 1, 1, 1, 1, 0, 0, 1, 0, 0, 0, 1, 1, 1,\n",
       "       1, 0, 1, 1, 1, 0, 0, 0, 1, 1, 1, 1, 0, 1, 1, 0, 0, 1, 0, 1, 1, 1,\n",
       "       1, 1, 1, 1, 1, 1, 1, 0, 0, 1, 1, 0, 1, 0, 1, 0, 0, 0, 1, 0, 0, 0,\n",
       "       1, 1, 1, 0, 1, 1, 1, 0, 0, 1, 1, 0, 1, 0, 1, 1, 0, 1, 0, 0, 0, 1,\n",
       "       0, 0, 0, 0, 1, 1, 1, 1, 1, 1, 1, 0, 0, 1, 1, 1, 0, 0, 1, 1, 1, 1,\n",
       "       1, 0, 1, 0, 1, 0, 1, 1, 1, 1, 0, 1, 0, 0, 0, 0, 0, 1, 0, 1, 0, 0,\n",
       "       1, 0, 1, 0, 1, 1, 0, 0, 0, 1, 0, 1, 0, 0, 0, 1, 0, 0, 1, 0, 0, 0,\n",
       "       1, 0, 1, 0, 1, 0, 1, 0])"
      ]
     },
     "execution_count": 85,
     "metadata": {},
     "output_type": "execute_result"
    }
   ],
   "source": [
    "y_train"
   ]
  },
  {
   "cell_type": "code",
   "execution_count": 86,
   "id": "e1d56f5c-67f2-4bb3-adb4-ef9f839bd9c2",
   "metadata": {},
   "outputs": [
    {
     "data": {
      "text/plain": [
       "<matplotlib.collections.PathCollection at 0x19f4b28a3a0>"
      ]
     },
     "execution_count": 86,
     "metadata": {},
     "output_type": "execute_result"
    },
    {
     "data": {
      "image/png": "[encoded data removed]",
      "text/plain": [
       "<Figure size 300x200 with 1 Axes>"
      ]
     },
     "metadata": {},
     "output_type": "display_data"
    }
   ],
   "source": [
    "'Visualize the first feature of the data'\n",
    "fig,ax=plt.subplots(1,figsize=(3,2))\n",
    "ax.scatter(X[:,0],y,c=y,cmap=cmap,marker='o',s=12)"
   ]
  },
  {
   "cell_type": "code",
   "execution_count": 87,
   "id": "2d5be402-7bbe-4f75-976a-b77e3cd6cdf3",
   "metadata": {},
   "outputs": [],
   "source": [
    "'Building the Perceptron class'\n",
    "class Percepron:\n",
    "    def __init__(self,lr=0.01,n_iteration=500):\n",
    "        self.lr=lr\n",
    "        self.n_iteration=n_iteration\n",
    "        self.weight=None\n",
    "        self.bias=None\n",
    "    \n",
    "    def fit(self,X,y):\n",
    "        pass\n",
    "    def predict(self,X):\n",
    "        pass\n",
    "    "
   ]
  },
  {
   "cell_type": "code",
   "execution_count": 88,
   "id": "268d3fe8-3abe-4db0-a258-1e7a2fcf573f",
   "metadata": {},
   "outputs": [],
   "source": [
    "'Defining fit method the Perceptron class'\n",
    "class Percepron:\n",
    "    def __init__(self,lr=0.01,n_iteration=500):\n",
    "        self.lr=lr\n",
    "        self.n_iteration=n_iteration\n",
    "        self.weights=None\n",
    "        self.bias=None\n",
    "    \n",
    "    def fit(self,X,y):\n",
    "        n_samples,n_features=X.shape\n",
    "        self.weights=np.zeros(n_features)\n",
    "        self.bias=0\n",
    "        \n",
    "        # Check if each label either 0 or 1\n",
    "        y_=np.where(y>0,1,0)\n",
    "        \n",
    "        \n",
    "    def predict(self,X):\n",
    "        pass\n",
    "    "
   ]
  },
  {
   "cell_type": "code",
   "execution_count": 96,
   "id": "6e78a862-7248-481a-914b-e4b14d17186f",
   "metadata": {},
   "outputs": [],
   "source": [
    "'Optimizing the trainig step and update the gradient'\n",
    "class Percepron:\n",
    "    def __init__(self,lr=0.01,n_iteration=500):\n",
    "        self.lr=lr\n",
    "        self.n_iteration=n_iteration\n",
    "        self.weights=None\n",
    "        self.bias=None\n",
    "    \n",
    "    def fit(self,X,y):\n",
    "        n_samples,n_features=X.shape\n",
    "        self.weights=np.zeros(n_features)\n",
    "        self.bias=0\n",
    "        \n",
    "        # Check if each label either 0 or 1\n",
    "        y_=np.where(y>0,1,0)\n",
    "        \n",
    "        for _ in range(self.n_iteration):\n",
    "            # update the weight for each sample\n",
    "            for idx,x in enumerate(X):\n",
    "                linear_model=np.dot(x,self.weights)+self.bias\n",
    "                # we need a special method to perform the activation\n",
    "        \n",
    "        \n",
    "    def predict(self,X):\n",
    "        pass\n",
    "    "
   ]
  },
  {
   "cell_type": "code",
   "execution_count": 97,
   "id": "c55cebe5-2402-4452-a835-30976eed303d",
   "metadata": {},
   "outputs": [],
   "source": [
    "'Defining the unit step activation function'\n",
    "class Percepron:\n",
    "    def __init__(self,lr=0.01,n_iteration=500):\n",
    "        self.lr=lr\n",
    "        self.n_iteration=n_iteration\n",
    "        self.weights=None\n",
    "        self.bias=None\n",
    "    \n",
    "    def fit(self,X,y):\n",
    "        n_samples,n_features=X.shape\n",
    "        self.weights=np.zeros(n_features)\n",
    "        self.bias=0\n",
    "        \n",
    "        # Check if each label either 0 or 1\n",
    "        y_=np.array([1 if i >0 else 0 for i in y])\n",
    "        \n",
    "        for _ in range(self.n_iteration):\n",
    "            # update the weight for each sample\n",
    "            for idx,x_i in enumerate(X):\n",
    "                linear_model=np.dot(x_i,self.weights)+self.bias\n",
    "                # we need a special method to perform the activation\n",
    "                y_predicted= self._activaion_unit_step(linear_model)\n",
    "                \n",
    "                update_rule=(y_[idx]-y_predicted)*self.lr\n",
    "                self.weights+=update_rule*x_i\n",
    "                self.bias+=update_rule\n",
    "                             \n",
    "        \n",
    "    def predict(self,X):\n",
    "        linear_model=np.dot(X,self.weights)+self.bias\n",
    "        y_predicted= self._activaion_unit_step(linear_model)\n",
    "        return y_predicted\n",
    "    \n",
    "    def _activaion_unit_step(self,lin_mod):\n",
    "        return np.where(lin_mod>=0,1,0)\n",
    "    @staticmethod\n",
    "    def accuracy(y_true,y_pred):\n",
    "        accu= np.sum(y_true==y_pred)/len(y_true)\n",
    "        return accu\n"
   ]
  },
  {
   "cell_type": "code",
   "execution_count": 98,
   "id": "1967faac-9359-4e93-b3c2-11816ee6c401",
   "metadata": {},
   "outputs": [],
   "source": [
    "clf=Percepron(lr=0.001,n_iteration=2000)\n",
    "clf.fit(X_train,y_train)\n",
    "y_pred=clf.predict(X_test)"
   ]
  },
  {
   "cell_type": "code",
   "execution_count": 99,
   "id": "ea41b28e-7070-4da3-a4f4-a61359490638",
   "metadata": {},
   "outputs": [
    {
     "data": {
      "text/plain": [
       "0.992"
      ]
     },
     "execution_count": 99,
     "metadata": {},
     "output_type": "execute_result"
    }
   ],
   "source": [
    "accuracy=clf.accuracy(y_test,y_pred)\n",
    "accuracy\n"
   ]
  },
  {
   "cell_type": "code",
   "execution_count": 100,
   "id": "08231464-a12a-494c-b671-1b516271cdf2",
   "metadata": {},
   "outputs": [
    {
     "name": "stdout",
     "output_type": "stream",
     "text": [
      "[1 1 1 0 1 0 1 1 1 0 0 0 1 1 1 1 0 1 1 0 1 1 1 0 1 1 1 1 0 0 0 1 0 1 0 0 0\n",
      " 0 0 1 0 0 0 0 1 1 0 0 0 0 1 0 1 0 0 1 0 0 0 1 1 1 1 0 0 1 1 0 0 0 1 1 0 1\n",
      " 0 0 0 0 0 0 1 1 1 0 0 0 1 1 0 1 0 0 1 1 1 1 1 0 0 0 1 1 0 0 0 0 0 1 1 0 1\n",
      " 1 1 0 1 0 1 1 0 0 0 1 0 1 1 0 1 1 1 0 0 0 1 1 0 1 0 1 0 0 1 0 0 0 1 0 0 0\n",
      " 1 1 0 1 0 0 1 1 0 1 0 1 0 0 0 1 0 0 0 0 0 0 1 1 0 0 1 1 1 0 1 1 1 1 0 1 1\n",
      " 0 1 1 1 0 0 0 0 0 0 1 0 1 1 1 0 1 1 1 1 1 0 1 0 0 1 1 0 0 1 0 1 1 0 0 1 1\n",
      " 1 0 0 1 0 0 1 1 0 0 0 1 0 0 0 0 0 1 0 1 0 0 1 0 1 0 1 1]\n",
      "[1 1 1 0 1 0 1 1 1 0 0 0 1 1 1 1 0 1 1 0 1 1 1 0 1 1 1 1 0 0 0 1 0 1 0 0 0\n",
      " 0 0 1 0 0 0 0 1 1 0 0 0 0 1 0 1 0 0 1 0 0 0 1 1 1 1 0 0 1 1 0 0 0 1 1 0 1\n",
      " 0 0 0 0 0 0 1 1 1 0 1 0 1 1 0 1 0 0 1 1 1 1 1 0 0 0 1 1 0 0 0 0 0 1 1 0 1\n",
      " 1 1 0 1 0 1 1 0 0 0 1 0 1 1 0 1 1 1 0 0 0 1 1 0 1 0 1 0 0 1 0 0 0 1 0 1 0\n",
      " 1 1 0 1 0 0 1 1 0 1 0 1 0 0 0 1 0 0 0 0 0 0 1 1 0 0 1 1 1 0 1 1 1 1 0 1 1\n",
      " 0 1 1 1 0 0 0 0 0 0 1 0 1 1 1 0 1 1 1 1 1 0 1 0 0 1 1 0 0 1 0 1 1 0 0 1 1\n",
      " 1 0 0 1 0 0 1 1 0 0 0 1 0 0 0 0 0 1 0 1 0 0 1 0 1 0 1 1]\n"
     ]
    }
   ],
   "source": [
    "print(y_test)\n",
    "print(y_pred)\n"
   ]
  },
  {
   "cell_type": "code",
   "execution_count": null,
   "id": "29b9de5a-9332-4329-8886-935eb5b15303",
   "metadata": {},
   "outputs": [],
   "source": []
  },
  {
   "cell_type": "code",
   "execution_count": 101,
   "id": "d42540a3-1416-464f-b5a5-dec4c6371c7b",
   "metadata": {},
   "outputs": [],
   "source": [
    "'Let us draw the hyperplane'\n",
    "def hyperplane_y_coordinate(x,w,b,shift):\n",
    "    return (-w[0] * x + b + shift)/w[1]"
   ]
  },
  {
   "cell_type": "code",
   "execution_count": 102,
   "id": "9393955c-481f-47fc-800c-e132b8894c97",
   "metadata": {},
   "outputs": [
    {
     "data": {
      "image/png": "[encoded data removed]",
      "text/plain": [
       "<Figure size 300x200 with 1 Axes>"
      ]
     },
     "metadata": {},
     "output_type": "display_data"
    }
   ],
   "source": [
    "fig,ax=plt.subplots(1,figsize=(3,2))\n",
    "ax.scatter(X_train[:,0],X_train[:,1],marker='o',c=y_train,s=12,cmap=cmap)\n",
    "lower_x_coordinate=np.amin(X[:,0])\n",
    "higher_x_coordinate=np.amax(X[:,0])\n",
    "x1_1_hyper_plane=hyperplane_y_coordinate(lower_x_coordinate,clf.weights,clf.bias,0)\n",
    "x1_2_hyper_plane=hyperplane_y_coordinate(higher_x_coordinate,clf.weights,clf.bias,0)\n",
    "ax.plot([lower_x_coordinate,higher_x_coordinate],[x1_1_hyper_plane,x1_2_hyper_plane],'k')\n",
    "plt.show()"
   ]
  }
 ],
 "metadata": {
  "kernelspec": {
   "display_name": "Python 3 (ipykernel)",
   "language": "python",
   "name": "python3"
  },
  "language_info": {
   "codemirror_mode": {
    "name": "ipython",
    "version": 3
   },
   "file_extension": ".py",
   "mimetype": "text/x-python",
   "name": "python",
   "nbconvert_exporter": "python",
   "pygments_lexer": "ipython3",
   "version": "3.9.13"
  }
 },
 "nbformat": 4,
 "nbformat_minor": 5
}
