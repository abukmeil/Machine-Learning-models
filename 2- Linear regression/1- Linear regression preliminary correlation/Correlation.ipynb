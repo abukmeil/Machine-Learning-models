{
 "cells": [
  {
   "cell_type": "code",
   "execution_count": 1,
   "id": "0b4c2544-766f-42dc-87e7-42cc399cb4e0",
   "metadata": {},
   "outputs": [],
   "source": [
    "from IPython.core.interactiveshell import InteractiveShell\n",
    "InteractiveShell.ast_node_interactivity='all'"
   ]
  },
  {
   "cell_type": "markdown",
   "id": "c8adb78e-ea39-4d1b-a68a-f0d7c40d341b",
   "metadata": {},
   "source": [
    "# <span style='color:yellow'> Correlation and regression </span>\n",
    "\n",
    "## A Correlation is the relationship between two variables.\n",
    "\n",
    "## The data can be represented by ordered pairs of (x,y), where x is called the independent variable and y is the dependent variable.\n",
    "\n",
    "## An independent variable is a cause: its value is independent of the other variables; however, the dependent variable is the effect i.e. its value depends on the changes in the dependent values.\n",
    "\n",
    "## Scatter plot is used to visualize if there is a linear relationship between two variables.\n",
    "\n",
    "### <span style='color:lightgreen'> An example: Do plants grow faster with natural light or artificial light? </span>\n",
    "### The independent variables are the light sources, and the dependent variable is the growth of the plants."
   ]
  },
  {
   "cell_type": "code",
   "execution_count": 9,
   "id": "c551c7ab-9ff5-4a20-ae59-af28d2fa14dd",
   "metadata": {},
   "outputs": [
    {
     "data": {
      "text/plain": [
       "'Scatter plot'"
      ]
     },
     "execution_count": 9,
     "metadata": {},
     "output_type": "execute_result"
    },
    {
     "data": {
      "text/plain": [
       "<matplotlib.collections.PathCollection at 0x1bd89041fd0>"
      ]
     },
     "execution_count": 9,
     "metadata": {},
     "output_type": "execute_result"
    },
    {
     "data": {
      "text/plain": [
       "(-0.45, 9.450000000000001, -4.45, 5.45)"
      ]
     },
     "execution_count": 9,
     "metadata": {},
     "output_type": "execute_result"
    },
    {
     "data": {
      "text/plain": [
       "<matplotlib.lines.Line2D at 0x1bd8904f4c0>"
      ]
     },
     "execution_count": 9,
     "metadata": {},
     "output_type": "execute_result"
    },
    {
     "data": {
      "text/plain": [
       "<matplotlib.lines.Line2D at 0x1bd8904fa60>"
      ]
     },
     "execution_count": 9,
     "metadata": {},
     "output_type": "execute_result"
    },
    {
     "data": {
      "image/png": "[encoded data removed]",
      "text/plain": [
       "<Figure size 432x288 with 1 Axes>"
      ]
     },
     "metadata": {
      "needs_background": "light"
     },
     "output_type": "display_data"
    }
   ],
   "source": [
    "'Scatter plot'\n",
    "import numpy as np\n",
    "import matplotlib.pyplot as plt\n",
    "X=np.array([0,1,2,3,4,5,6,7,8,9]) # Independent variables\n",
    "Y=np.array([-4,-3,-2,-1,0,1,2,3,4,5])\n",
    "\n",
    "plt.scatter(X,Y,color='r',marker='o',s=20)\n",
    "plt.axis('square')\n",
    "plt.axhline(y=0, color='k')\n",
    "plt.axvline(x=0, color='k')\n",
    "plt.grid()\n",
    "\n"
   ]
  },
  {
   "cell_type": "markdown",
   "id": "3fb5525e-91f5-4ad7-b063-4c1a3b49ddc6",
   "metadata": {},
   "source": [
    "# <span style='color:yellow'> Correlation forms </span>\n",
    "\n",
    "## Positive Linear Correlation: As x increases, y tends to increase.\n",
    "\n",
    "<img src='positive_correlation.png' width=250>\n",
    "\n",
    "\n"
   ]
  },
  {
   "cell_type": "markdown",
   "id": "cbcfea85-dbd7-4643-a055-0c8b535a04f1",
   "metadata": {},
   "source": [
    "## Negative Linear Correlation: As x increases, y tends to decrease.\n",
    "\n",
    "<img src='negative_correlation.png' width=250>\n"
   ]
  },
  {
   "cell_type": "markdown",
   "id": "0fd34f14-156d-486d-8fd1-3c77ad5a6122",
   "metadata": {},
   "source": [
    "## No Correlation: No relationship between x and y, i.e., one value of x can affect multiple values of y.\n",
    "\n",
    "<img src='no_correlation.png' width=250>"
   ]
  },
  {
   "cell_type": "markdown",
   "id": "e2e98405-2464-4b6d-b55f-5dfbe3118137",
   "metadata": {},
   "source": [
    "## Non Linear Correlation: No linear relationship between x and y, i.e., the underlying function is not linear.\n",
    "\n",
    "<img src='non_linear_correlation.png' width=200>"
   ]
  },
  {
   "cell_type": "markdown",
   "id": "adafc3d2-5a4b-4304-a5b0-c072889b049d",
   "metadata": {},
   "source": [
    "# <span style='color:yellow'> How to know the strngth or correlation between x,y?> </span>\n",
    "\n",
    "## The correlation coefficient is a measure of the strength and direction of the linear relationship between two variables.\n",
    "\n",
    "## The range of the correlation coefficient between -1 to 1\n",
    "<img src='correlation_coefficient.png' width=500>\n",
    "\n",
    "## If r is close to 1 then the correlation is strong and positive and vice versa for the negative correlation, also when r is close to 0 then no correlation can be captured.\n",
    "<img src='correlation_coefficient_comparsion.png' width=700>\n"
   ]
  },
  {
   "cell_type": "code",
   "execution_count": 10,
   "id": "807383f5-5f40-4970-b6f6-7bec25adce11",
   "metadata": {},
   "outputs": [
    {
     "data": {
      "text/plain": [
       "'Example 1'"
      ]
     },
     "execution_count": 10,
     "metadata": {},
     "output_type": "execute_result"
    },
    {
     "data": {
      "text/plain": [
       "array([[1., 1.],\n",
       "       [1., 1.]])"
      ]
     },
     "execution_count": 10,
     "metadata": {},
     "output_type": "execute_result"
    },
    {
     "data": {
      "text/plain": [
       "'The correlation coefficient between X and Y is 1.0'"
      ]
     },
     "execution_count": 10,
     "metadata": {},
     "output_type": "execute_result"
    },
    {
     "data": {
      "text/plain": [
       "<matplotlib.collections.PathCollection at 0x1bd890b49d0>"
      ]
     },
     "execution_count": 10,
     "metadata": {},
     "output_type": "execute_result"
    },
    {
     "data": {
      "text/plain": [
       "(0.7, 7.3, -4.3, 2.3)"
      ]
     },
     "execution_count": 10,
     "metadata": {},
     "output_type": "execute_result"
    },
    {
     "data": {
      "text/plain": [
       "<matplotlib.lines.Line2D at 0x1bd8908c460>"
      ]
     },
     "execution_count": 10,
     "metadata": {},
     "output_type": "execute_result"
    },
    {
     "data": {
      "text/plain": [
       "<matplotlib.lines.Line2D at 0x1bd890b4d60>"
      ]
     },
     "execution_count": 10,
     "metadata": {},
     "output_type": "execute_result"
    },
    {
     "data": {
      "image/png": "[encoded data removed]",
      "text/plain": [
       "<Figure size 432x288 with 1 Axes>"
      ]
     },
     "metadata": {
      "needs_background": "light"
     },
     "output_type": "display_data"
    }
   ],
   "source": [
    "'Example 1'\n",
    "X=np.array([1,2,3,4,5,6,7])\n",
    "Y=np.array([-4,-3,-2,-1,0,1,2])\n",
    "\n",
    "r=np.corrcoef(X,Y)\n",
    "r\n",
    "f\"The correlation coefficient between X and Y is {r[0,1]}\"\n",
    "\n",
    "# Plot the relashipship\n",
    "plt.scatter(X,Y,color='r',marker='o',s=20)\n",
    "plt.axis('square')\n",
    "plt.axhline(y=0,color='k')\n",
    "plt.axvline(x=0,color='k')\n",
    "plt.show()\n",
    "\n"
   ]
  },
  {
   "cell_type": "code",
   "execution_count": 11,
   "id": "1a0ca067-16e0-4223-85ad-689011416f52",
   "metadata": {},
   "outputs": [
    {
     "data": {
      "text/plain": [
       "'Example 2: The relationship between watching TV and the exam scores of 12 students'"
      ]
     },
     "execution_count": 11,
     "metadata": {},
     "output_type": "execute_result"
    },
    {
     "data": {
      "text/plain": [
       "'0 axis represents the total hours for each student'"
      ]
     },
     "execution_count": 11,
     "metadata": {},
     "output_type": "execute_result"
    },
    {
     "data": {
      "text/plain": [
       "array([[ 1.        , -0.83129623],\n",
       "       [-0.83129623,  1.        ]])"
      ]
     },
     "execution_count": 11,
     "metadata": {},
     "output_type": "execute_result"
    },
    {
     "data": {
      "text/plain": [
       "'The correlation coefficient between X and Y is -0.8312962309074753'"
      ]
     },
     "execution_count": 11,
     "metadata": {},
     "output_type": "execute_result"
    },
    {
     "data": {
      "text/plain": [
       "(-0.5, 50.099999999999994, 47.7, 98.3)"
      ]
     },
     "execution_count": 11,
     "metadata": {},
     "output_type": "execute_result"
    },
    {
     "data": {
      "text/plain": [
       "<matplotlib.lines.Line2D at 0x1bd89128880>"
      ]
     },
     "execution_count": 11,
     "metadata": {},
     "output_type": "execute_result"
    },
    {
     "data": {
      "text/plain": [
       "<matplotlib.lines.Line2D at 0x1bd89128bb0>"
      ]
     },
     "execution_count": 11,
     "metadata": {},
     "output_type": "execute_result"
    },
    {
     "data": {
      "image/png": "[encoded data removed]",
      "text/plain": [
       "<Figure size 504x288 with 1 Axes>"
      ]
     },
     "metadata": {
      "needs_background": "light"
     },
     "output_type": "display_data"
    }
   ],
   "source": [
    "'Example 2: The relationship between watching TV and the exam scores of 12 students'\n",
    "'0 axis represents the total hours for each student'\n",
    "\n",
    "\n",
    "X=np.array([0,1,2,3,3,5,5,5,6,7,7,10]) # Hours\n",
    "Y=np.array([96,85,82,74,95,68,76,84,58,65,75,50])       # Scors\n",
    "\n",
    "r=np.corrcoef(X,Y)\n",
    "r\n",
    "f\"The correlation coefficient between X and Y is {r[0,1]}\"\n",
    "\n",
    "# Plot the relashipship\n",
    "fig=plt.figure(figsize=(7,4))\n",
    "m1=plt.scatter(X,Y,color='r',marker='o',s=20)\n",
    "plt.axis('square')\n",
    "plt.axhline(y=0,color='k')\n",
    "plt.axvline(x=0,color='k')\n",
    "plt.show()\n",
    "\n"
   ]
  },
  {
   "cell_type": "markdown",
   "id": "103c68bf-6f1f-4f56-ac15-703a7ef23281",
   "metadata": {},
   "source": [
    "# <span style='color:yellow'> Linear regression </span>\n",
    "## After verifying that the relationship between x,y is strong and signification, then we can determine a linear equation that takes x and gives y i.e., based on x values it predicts y.\n",
    "\n",
    "<img src='residual.png' width=300>\n",
    "\n",
    "## For a given x value, there is a predicted y value, and there is a prediction difference or loss (or residual) for each sample l_i=(y_true_i- y_predicted_i )\n",
    "\n",
    "## A regression line is called a line of best fit and is the line of which the sum of the square of the residual or loss is minimized\n",
    "\n",
    "## The equation of the regression for an independent variable x and a dependent variable y is given as y_predicted=mx+b , where m is the slope of the line and b is the intercept\n",
    "\n",
    "<img src=intervept_slope.png width=500>\n",
    "\n",
    "# <span style='color:yellow'> Usually the regression line passes through the main Mean of X and the mean of Y </span>\n"
   ]
  },
  {
   "cell_type": "code",
   "execution_count": 19,
   "id": "e2afede6-5780-47eb-a8c2-44032e7a2be4",
   "metadata": {},
   "outputs": [
    {
     "data": {
      "text/plain": [
       "array([[9, 7, 5, 6, 8, 7, 9, 5, 6, 7],\n",
       "       [7, 5, 8, 7, 7, 6, 7, 6, 5, 7],\n",
       "       [8, 5, 5, 5, 8, 7, 7, 6, 6, 7],\n",
       "       [6, 6, 8, 5, 8, 8, 6, 9, 7, 7],\n",
       "       [5, 8, 8, 9, 6, 5, 8, 7, 6, 5],\n",
       "       [9, 6, 8, 7, 7, 8, 7, 8, 9, 8],\n",
       "       [7, 9, 7, 8, 9, 5, 7, 9, 7, 9],\n",
       "       [6, 7, 8, 8, 7, 5, 9, 5, 5, 8],\n",
       "       [7, 9, 5, 5, 5, 8, 8, 8, 8, 7],\n",
       "       [9, 7, 8, 6, 9, 7, 7, 8, 6, 8]])"
      ]
     },
     "execution_count": 19,
     "metadata": {},
     "output_type": "execute_result"
    },
    {
     "data": {
      "text/plain": [
       "array([[ 1.  ,  0.12,  0.74, -0.43, -0.32, -0.11, -0.13,  0.25,  0.15,\n",
       "         0.32,  1.  ,  0.12,  0.74, -0.43, -0.32, -0.11, -0.13,  0.25,\n",
       "         0.15,  0.32],\n",
       "       [ 0.12,  1.  ,  0.19,  0.  ,  0.11,  0.06, -0.04,  0.62, -0.77,\n",
       "         0.48,  0.12,  1.  ,  0.19,  0.  ,  0.11,  0.06, -0.04,  0.62,\n",
       "        -0.77,  0.48],\n",
       "       [ 0.74,  0.19,  1.  ,  0.15, -0.75,  0.32, -0.13, -0.14,  0.  ,\n",
       "         0.61,  0.74,  0.19,  1.  ,  0.15, -0.75,  0.32, -0.13, -0.14,\n",
       "         0.  ,  0.61],\n",
       "       [-0.43,  0.  ,  0.15,  1.  , -0.36,  0.28,  0.  , -0.48,  0.  ,\n",
       "         0.41, -0.43,  0.  ,  0.15,  1.  , -0.36,  0.28,  0.  , -0.48,\n",
       "         0.  ,  0.41],\n",
       "       [-0.32,  0.11, -0.75, -0.36,  1.  , -0.62,  0.23,  0.52, -0.2 ,\n",
       "        -0.45, -0.32,  0.11, -0.75, -0.36,  1.  , -0.62,  0.23,  0.52,\n",
       "        -0.2 , -0.45],\n",
       "       [-0.11,  0.06,  0.32,  0.28, -0.62,  1.  , -0.43, -0.52,  0.  ,\n",
       "         0.16, -0.11,  0.06,  0.32,  0.28, -0.62,  1.  , -0.43, -0.52,\n",
       "         0.  ,  0.16],\n",
       "       [-0.13, -0.04, -0.13,  0.  ,  0.23, -0.43,  1.  ,  0.25, -0.11,\n",
       "         0.27, -0.13, -0.04, -0.13,  0.  ,  0.23, -0.43,  1.  ,  0.25,\n",
       "        -0.11,  0.27],\n",
       "       [ 0.25,  0.62, -0.14, -0.48,  0.52, -0.52,  0.25,  1.  , -0.4 ,\n",
       "         0.  ,  0.25,  0.62, -0.14, -0.48,  0.52, -0.52,  0.25,  1.  ,\n",
       "        -0.4 ,  0.  ],\n",
       "       [ 0.15, -0.77,  0.  ,  0.  , -0.2 ,  0.  , -0.11, -0.4 ,  1.  ,\n",
       "        -0.28,  0.15, -0.77,  0.  ,  0.  , -0.2 ,  0.  , -0.11, -0.4 ,\n",
       "         1.  , -0.28],\n",
       "       [ 0.32,  0.48,  0.61,  0.41, -0.45,  0.16,  0.27,  0.  , -0.28,\n",
       "         1.  ,  0.32,  0.48,  0.61,  0.41, -0.45,  0.16,  0.27,  0.  ,\n",
       "        -0.28,  1.  ],\n",
       "       [ 1.  ,  0.12,  0.74, -0.43, -0.32, -0.11, -0.13,  0.25,  0.15,\n",
       "         0.32,  1.  ,  0.12,  0.74, -0.43, -0.32, -0.11, -0.13,  0.25,\n",
       "         0.15,  0.32],\n",
       "       [ 0.12,  1.  ,  0.19,  0.  ,  0.11,  0.06, -0.04,  0.62, -0.77,\n",
       "         0.48,  0.12,  1.  ,  0.19,  0.  ,  0.11,  0.06, -0.04,  0.62,\n",
       "        -0.77,  0.48],\n",
       "       [ 0.74,  0.19,  1.  ,  0.15, -0.75,  0.32, -0.13, -0.14,  0.  ,\n",
       "         0.61,  0.74,  0.19,  1.  ,  0.15, -0.75,  0.32, -0.13, -0.14,\n",
       "         0.  ,  0.61],\n",
       "       [-0.43,  0.  ,  0.15,  1.  , -0.36,  0.28,  0.  , -0.48,  0.  ,\n",
       "         0.41, -0.43,  0.  ,  0.15,  1.  , -0.36,  0.28,  0.  , -0.48,\n",
       "         0.  ,  0.41],\n",
       "       [-0.32,  0.11, -0.75, -0.36,  1.  , -0.62,  0.23,  0.52, -0.2 ,\n",
       "        -0.45, -0.32,  0.11, -0.75, -0.36,  1.  , -0.62,  0.23,  0.52,\n",
       "        -0.2 , -0.45],\n",
       "       [-0.11,  0.06,  0.32,  0.28, -0.62,  1.  , -0.43, -0.52,  0.  ,\n",
       "         0.16, -0.11,  0.06,  0.32,  0.28, -0.62,  1.  , -0.43, -0.52,\n",
       "         0.  ,  0.16],\n",
       "       [-0.13, -0.04, -0.13,  0.  ,  0.23, -0.43,  1.  ,  0.25, -0.11,\n",
       "         0.27, -0.13, -0.04, -0.13,  0.  ,  0.23, -0.43,  1.  ,  0.25,\n",
       "        -0.11,  0.27],\n",
       "       [ 0.25,  0.62, -0.14, -0.48,  0.52, -0.52,  0.25,  1.  , -0.4 ,\n",
       "         0.  ,  0.25,  0.62, -0.14, -0.48,  0.52, -0.52,  0.25,  1.  ,\n",
       "        -0.4 ,  0.  ],\n",
       "       [ 0.15, -0.77,  0.  ,  0.  , -0.2 ,  0.  , -0.11, -0.4 ,  1.  ,\n",
       "        -0.28,  0.15, -0.77,  0.  ,  0.  , -0.2 ,  0.  , -0.11, -0.4 ,\n",
       "         1.  , -0.28],\n",
       "       [ 0.32,  0.48,  0.61,  0.41, -0.45,  0.16,  0.27,  0.  , -0.28,\n",
       "         1.  ,  0.32,  0.48,  0.61,  0.41, -0.45,  0.16,  0.27,  0.  ,\n",
       "        -0.28,  1.  ]])"
      ]
     },
     "execution_count": 19,
     "metadata": {},
     "output_type": "execute_result"
    }
   ],
   "source": []
  }
 ],
 "metadata": {
  "kernelspec": {
   "display_name": "Python 3 (ipykernel)",
   "language": "python",
   "name": "python3"
  },
  "language_info": {
   "codemirror_mode": {
    "name": "ipython",
    "version": 3
   },
   "file_extension": ".py",
   "mimetype": "text/x-python",
   "name": "python",
   "nbconvert_exporter": "python",
   "pygments_lexer": "ipython3",
   "version": "3.9.7"
  }
 },
 "nbformat": 4,
 "nbformat_minor": 5
}
