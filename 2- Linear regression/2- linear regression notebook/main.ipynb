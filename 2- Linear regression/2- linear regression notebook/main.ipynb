{
 "cells": [
  {
   "cell_type": "markdown",
   "id": "46712c3d-3399-4a57-b25d-62361574d871",
   "metadata": {},
   "source": [
    "# Linear regression\n",
    "### <span style='color:yellow'> In the regression task we want to predict continuous values such as temperature degree,  whereas in the classification task we predict discrete values like class labels [A,B,C] or [0,1].</span>"
   ]
  },
  {
   "cell_type": "markdown",
   "id": "51feb988-d08f-49fc-b178-ea7f026fcde3",
   "metadata": {},
   "source": [
    "<img src=linreg_show.png width=350>\n"
   ]
  },
  {
   "cell_type": "markdown",
   "id": "22bfdff5-2284-40f1-a056-d8094bc5e16c",
   "metadata": {},
   "source": [
    "# Prediction (Approximation)\n",
    "$$\n",
    "    \\LARGE{\\hat{y} = wx + b}\n",
    "$$"
   ]
  },
  {
   "cell_type": "markdown",
   "id": "818d6045-462a-4e4b-bf72-4c14da740c06",
   "metadata": {},
   "source": [
    "### <span style='color:yellow'> Linear regression use the cost function (Mean Square Error) function optimizes w and b values, where w is the slope of the line that passes through the y-axis through the intercept b. </span> \n",
    "\n",
    "### <span style='color:yellow'>MSE: is the square difference between the actual and predicted labels or values.</span> \n",
    "\n",
    "$$ \n",
    "\\large { MSE=J(w,b)= \\frac{1}{N}\\Sigma_{i=1}^{n} (y_i -(wx_i+b))^2}\n",
    "$$"
   ]
  },
  {
   "cell_type": "markdown",
   "id": "27d9eaa8-b624-45fd-8bcc-52a22387e3c2",
   "metadata": {},
   "source": [
    "### <span style='color:yellow'>The goal is to reduce the difference between actual and predicted labels, which is done by using the gradient \" derivative\"  of the cost function with respect to w, b</span> \n",
    "<img src=gradient.png width=320>"
   ]
  },
  {
   "cell_type": "markdown",
   "id": "bbb7587d-5195-44b3-83dc-f9e3048d314b",
   "metadata": {},
   "source": [
    "### <span style='color:yellow'>An iterative method to get to the minimum through a descent way. When calculating the gradient, we use the gradient descent technique to update the learning parameters.</span> \n",
    "\n",
    "### <span style='color:yellow'>The gradient descent starts with the initialization of the weights and biases and goes to the negative direction of the gradient, where the algorithm run iteratively until reaching to the minimum </span> \n",
    "<img src='gradient_descent.png' width=350>"
   ]
  },
  {
   "cell_type": "markdown",
   "id": "551e84ee-bcd4-4f2c-a4dd-0fbdf9fc4c5d",
   "metadata": {},
   "source": [
    "### <span style='color:yellow'>Update rule: at each iteration, we apply the update rule:</span> \n",
    "$$\\large{w=w-\\alpha.dw}$$\n",
    "\n",
    "$$\\large{b=b-\\alpha.db}$$\n",
    "\n",
    "we use - beacuse we go the negative directioin\n",
    "\n",
    "$$ \n",
    "\\large { MSE=J(w,b)= \\frac{1}{N}\\Sigma_{i=1}^{n} (y_i -(wx_i+b))^2}\n",
    "$$\n",
    "\n",
    "<img src=update_rule.png width=500>\n"
   ]
  },
  {
   "cell_type": "markdown",
   "id": "1ac73841-6983-4679-9cb2-5165299b2a03",
   "metadata": {},
   "source": [
    "### <span style='color:yellow'>Learning rate</span> \n",
    "<img src='lr.png' width=700>"
   ]
  },
  {
   "cell_type": "code",
   "execution_count": 1,
   "id": "6260e454-1fd0-457a-8ddd-8b436a6e41b5",
   "metadata": {},
   "outputs": [],
   "source": [
    "from IPython.core.interactiveshell import InteractiveShell\n",
    "InteractiveShell.ast_node_interactivity='all'"
   ]
  },
  {
   "cell_type": "code",
   "execution_count": 2,
   "id": "9c0ff00c-86a4-4a25-93c2-ecbd29b449d9",
   "metadata": {},
   "outputs": [],
   "source": [
    "import numpy as np\n",
    "import matplotlib.pyplot as plt\n",
    "from sklearn.model_selection import train_test_split\n",
    "from sklearn import datasets"
   ]
  },
  {
   "cell_type": "code",
   "execution_count": 3,
   "id": "3d8725a4-dbf3-43cc-ba0a-e1549488e12a",
   "metadata": {},
   "outputs": [],
   "source": [
    "X,y=datasets.make_regression(n_samples=100,n_features=1,noise=20,random_state=1234)\n",
    "X_train,X_test,y_train,y_test=train_test_split(X,y,test_size=0.2,random_state=1234)"
   ]
  },
  {
   "cell_type": "code",
   "execution_count": 4,
   "id": "3ce677ad-07b2-45ad-b073-8fad494d0fdb",
   "metadata": {},
   "outputs": [
    {
     "data": {
      "text/plain": [
       "numpy.ndarray"
      ]
     },
     "execution_count": 4,
     "metadata": {},
     "output_type": "execute_result"
    },
    {
     "data": {
      "text/plain": [
       "numpy.ndarray"
      ]
     },
     "execution_count": 4,
     "metadata": {},
     "output_type": "execute_result"
    },
    {
     "data": {
      "text/plain": [
       "(100,)"
      ]
     },
     "execution_count": 4,
     "metadata": {},
     "output_type": "execute_result"
    },
    {
     "data": {
      "text/plain": [
       "(100, 1)"
      ]
     },
     "execution_count": 4,
     "metadata": {},
     "output_type": "execute_result"
    },
    {
     "data": {
      "text/plain": [
       "(100,)"
      ]
     },
     "execution_count": 4,
     "metadata": {},
     "output_type": "execute_result"
    }
   ],
   "source": [
    "type(X)\n",
    "type(y)\n",
    "y.shape\n",
    "X.shape\n",
    "X_for_co=X[:,0]\n",
    "X_for_co.shape\n"
   ]
  },
  {
   "cell_type": "code",
   "execution_count": 5,
   "id": "2e1b679e-679b-4921-bec5-78f0eb326d4c",
   "metadata": {},
   "outputs": [
    {
     "data": {
      "text/plain": [
       "'Compute the correlation between X and y '"
      ]
     },
     "execution_count": 5,
     "metadata": {},
     "output_type": "execute_result"
    },
    {
     "data": {
      "text/plain": [
       "array([[1.        , 0.98000061],\n",
       "       [0.98000061, 1.        ]])"
      ]
     },
     "execution_count": 5,
     "metadata": {},
     "output_type": "execute_result"
    },
    {
     "data": {
      "text/plain": [
       "0.9800006136543045"
      ]
     },
     "execution_count": 5,
     "metadata": {},
     "output_type": "execute_result"
    }
   ],
   "source": [
    "'Compute the correlation between X and y '\n",
    "corrc=np.corrcoef(X_for_co,y)\n",
    "corrc\n",
    "corrc[0,1]"
   ]
  },
  {
   "cell_type": "code",
   "execution_count": 6,
   "id": "1aa7d640-e13a-4532-bbc1-f1713d0e0d1e",
   "metadata": {},
   "outputs": [
    {
     "data": {
      "text/plain": [
       "'Visualizing the created dataset'"
      ]
     },
     "execution_count": 6,
     "metadata": {},
     "output_type": "execute_result"
    },
    {
     "data": {
      "text/plain": [
       "<matplotlib.collections.PathCollection at 0x1ef49ce3160>"
      ]
     },
     "execution_count": 6,
     "metadata": {},
     "output_type": "execute_result"
    },
    {
     "data": {
      "image/png": "[encoded data removed]",
      "text/plain": [
       "<Figure size 576x432 with 1 Axes>"
      ]
     },
     "metadata": {
      "needs_background": "light"
     },
     "output_type": "display_data"
    },
    {
     "name": "stdout",
     "output_type": "stream",
     "text": [
      "(80, 1)\n",
      "(80,)\n"
     ]
    }
   ],
   "source": [
    "'Visualizing the created dataset'\n",
    "fig=plt.figure(figsize=(8,6))\n",
    "plt.scatter(X[:,0],y,color=\"b\",marker=\"o\",s=30)\n",
    "plt.show()\n",
    "print(X_train.shape)\n",
    "print(y_train.shape)"
   ]
  },
  {
   "cell_type": "code",
   "execution_count": 7,
   "id": "6ac55f31-6f6a-45cb-8e1f-2be921952f86",
   "metadata": {},
   "outputs": [],
   "source": [
    "import linear_Regression\n",
    "from linear_Regression import LinRegression"
   ]
  },
  {
   "cell_type": "code",
   "execution_count": 8,
   "id": "eb197473-1420-469e-bbd5-95064db6a3e4",
   "metadata": {},
   "outputs": [
    {
     "data": {
      "text/plain": [
       "'Building the regressor'"
      ]
     },
     "execution_count": 8,
     "metadata": {},
     "output_type": "execute_result"
    },
    {
     "data": {
      "text/plain": [
       "'Plot the weights over time'"
      ]
     },
     "execution_count": 8,
     "metadata": {},
     "output_type": "execute_result"
    },
    {
     "data": {
      "text/plain": [
       "[<matplotlib.lines.Line2D at 0x1ef49da6a00>]"
      ]
     },
     "execution_count": 8,
     "metadata": {},
     "output_type": "execute_result"
    },
    {
     "data": {
      "text/plain": [
       "'Plot the gardient of the weights over time'"
      ]
     },
     "execution_count": 8,
     "metadata": {},
     "output_type": "execute_result"
    },
    {
     "data": {
      "text/plain": [
       "[<matplotlib.lines.Line2D at 0x1ef49e23eb0>]"
      ]
     },
     "execution_count": 8,
     "metadata": {},
     "output_type": "execute_result"
    },
    {
     "data": {
      "text/plain": [
       "Text(0.5, 0, 'Iteration')"
      ]
     },
     "execution_count": 8,
     "metadata": {},
     "output_type": "execute_result"
    },
    {
     "data": {
      "text/plain": [
       "<matplotlib.legend.Legend at 0x1ef49e405e0>"
      ]
     },
     "execution_count": 8,
     "metadata": {},
     "output_type": "execute_result"
    },
    {
     "data": {
      "image/png": "[encoded data removed]",
      "text/plain": [
       "<Figure size 432x288 with 1 Axes>"
      ]
     },
     "metadata": {
      "needs_background": "light"
     },
     "output_type": "display_data"
    }
   ],
   "source": [
    "'Building the regressor'\n",
    "Regressor=LinRegression(lr=0.01,num_itr=1000)\n",
    "Regressor.fit(X_train,y_train)\n",
    "y_predict=Regressor.predict(X_test)\n",
    "Optimal_weights=Regressor.opt_weight\n",
    "gradient=Regressor.gradient_weight\n",
    "predictio_over_time=Regressor.opt_prediction\n",
    "\n",
    "'Plot the weights over time'\n",
    "plt.plot(Optimal_weights,color='blue',marker='.', label=\"Weights over time\")\n",
    "'Plot the gardient of the weights over time'\n",
    "plt.plot(gradient,color='red',marker='.', label=\"Gardient over time\")\n",
    "plt.xlabel('Iteration')\n",
    "plt.legend()"
   ]
  },
  {
   "cell_type": "code",
   "execution_count": 9,
   "id": "3a5e7570-e668-42e7-b69c-49529d4c617e",
   "metadata": {},
   "outputs": [
    {
     "data": {
      "text/plain": [
       "'Define mse metric'"
      ]
     },
     "execution_count": 9,
     "metadata": {},
     "output_type": "execute_result"
    }
   ],
   "source": [
    "'Define mse metric'\n",
    "def mse(y_true,y_predicted):\n",
    "    return np.mean((y_true-y_predict)**2)"
   ]
  },
  {
   "cell_type": "code",
   "execution_count": 10,
   "id": "222dddc3-d830-4b7d-9be7-badfbdf675c2",
   "metadata": {},
   "outputs": [
    {
     "data": {
      "text/plain": [
       "375.1525468795143"
      ]
     },
     "execution_count": 10,
     "metadata": {},
     "output_type": "execute_result"
    }
   ],
   "source": [
    "mse_loss=mse(y_test,y_predict)\n",
    "mse_loss"
   ]
  },
  {
   "cell_type": "code",
   "execution_count": 11,
   "id": "f0a3d245-3487-4eb6-9feb-63f4f1ddde3d",
   "metadata": {},
   "outputs": [
    {
     "data": {
      "text/plain": [
       "''"
      ]
     },
     "execution_count": 11,
     "metadata": {},
     "output_type": "execute_result"
    },
    {
     "data": {
      "text/plain": [
       "<matplotlib.collections.PathCollection at 0x1ef49ecd340>"
      ]
     },
     "execution_count": 11,
     "metadata": {},
     "output_type": "execute_result"
    },
    {
     "data": {
      "text/plain": [
       "<matplotlib.collections.PathCollection at 0x1ef49ecd8b0>"
      ]
     },
     "execution_count": 11,
     "metadata": {},
     "output_type": "execute_result"
    },
    {
     "data": {
      "text/plain": [
       "[<matplotlib.lines.Line2D at 0x1ef49ecdca0>]"
      ]
     },
     "execution_count": 11,
     "metadata": {},
     "output_type": "execute_result"
    },
    {
     "data": {
      "text/plain": [
       "<matplotlib.legend.Legend at 0x1ef44d0a520>"
      ]
     },
     "execution_count": 11,
     "metadata": {},
     "output_type": "execute_result"
    },
    {
     "data": {
      "image/png": "[encoded data removed]",
      "text/plain": [
       "<Figure size 504x288 with 1 Axes>"
      ]
     },
     "metadata": {
      "needs_background": "light"
     },
     "output_type": "display_data"
    }
   ],
   "source": [
    "''\n",
    "data_pred=Regressor.predict(X)\n",
    "fig=plt.figure(figsize=(7,4))\n",
    "cmap=plt.get_cmap('viridis')\n",
    "plt.scatter(X_train[:,0],y_train,color=cmap(0.9),marker='o',s=20,label='Train')\n",
    "plt.scatter(X_test[:,0],y_test,color=cmap(0.5),marker='o',s=20,label='Test')\n",
    "plt.plot(X[:,0],data_pred,color='k')\n",
    "plt.legend()\n"
   ]
  }
 ],
 "metadata": {
  "kernelspec": {
   "display_name": "Python 3 (ipykernel)",
   "language": "python",
   "name": "python3"
  },
  "language_info": {
   "codemirror_mode": {
    "name": "ipython",
    "version": 3
   },
   "file_extension": ".py",
   "mimetype": "text/x-python",
   "name": "python",
   "nbconvert_exporter": "python",
   "pygments_lexer": "ipython3",
   "version": "3.9.7"
  }
 },
 "nbformat": 4,
 "nbformat_minor": 5
}
