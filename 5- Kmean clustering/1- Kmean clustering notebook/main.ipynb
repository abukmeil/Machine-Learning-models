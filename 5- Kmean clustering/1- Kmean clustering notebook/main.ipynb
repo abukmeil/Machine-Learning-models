{
 "cells": [
  {
   "cell_type": "markdown",
   "id": "46712c3d-3399-4a57-b25d-62361574d871",
   "metadata": {},
   "source": [
    "# K mean clustering\n",
    "### <span style='color:yellow'> K-mean clustering is considered an unsupervised ML method that is used for clustering (grouping). </span>\n",
    "\n",
    "### <span style='color:yellow'> based on the closed centroid, the  k-mean clustering perform data grouping utilizing the Euclidean distance between the centroids and the nearest data points.</span>\n",
    "\n",
    "### <span style='color:yellow'>Kmean uses iterative optimization through different steps:</span>\n",
    "\n",
    "### <span style='color:lightgreen'>1- Initialize k- centroids.</span>\n",
    "\n",
    "### <span style='color:lightgreen'>2- Assign data points to a cluster based on the nearest centroid.</span>\n",
    "\n",
    "### <span style='color:lightgreen'>3- Identify  new centroids based on the mean value of each cluster, each cluster will have a new centroid by averaging the values of data samples falls in the same cluster</span>\n",
    "\n",
    "\n",
    "### <span style='color:lightgreen'>4- Repeat step 2-3 untill convergence.</span>\n",
    "\n",
    "\n",
    "### <span style='color:yellow'> The algorithm converges to the optimal solution (best clustering) if the  difference (Euclidean distance) between the old centroid and the current one is equal to 0.</span>\n",
    "\n",
    "<img src='kmean.gif' width=300>"
   ]
  },
  {
   "cell_type": "code",
   "execution_count": 1,
   "id": "77f21562-3534-463d-afd9-7b387fea2a46",
   "metadata": {},
   "outputs": [],
   "source": [
    "from IPython.core.interactiveshell import InteractiveShell\n",
    "InteractiveShell.ast_node_interactivity='all'"
   ]
  },
  {
   "cell_type": "code",
   "execution_count": 2,
   "id": "4bd809d2-dd0a-4e92-b0f5-5a2e1046988b",
   "metadata": {},
   "outputs": [],
   "source": [
    "import numpy as np\n",
    "import matplotlib.pyplot as plt\n",
    "from sklearn import datasets\n"
   ]
  },
  {
   "cell_type": "code",
   "execution_count": 60,
   "id": "95f9271a-ca63-4349-8cfa-2b7672bd8f6a",
   "metadata": {},
   "outputs": [
    {
     "data": {
      "text/plain": [
       "(500, 2)"
      ]
     },
     "execution_count": 60,
     "metadata": {},
     "output_type": "execute_result"
    },
    {
     "data": {
      "text/plain": [
       "(500,)"
      ]
     },
     "execution_count": 60,
     "metadata": {},
     "output_type": "execute_result"
    }
   ],
   "source": [
    "X,y=datasets.make_blobs(n_samples=500,centers=4,n_features=2,shuffle=True,random_state=42)\n",
    "X.shape\n",
    "y.shape"
   ]
  },
  {
   "cell_type": "code",
   "execution_count": 61,
   "id": "0a09619f-fa96-4255-ba05-b6cd93a00181",
   "metadata": {},
   "outputs": [
    {
     "data": {
      "text/plain": [
       "'The total number  of clusters = 4'"
      ]
     },
     "execution_count": 61,
     "metadata": {},
     "output_type": "execute_result"
    }
   ],
   "source": [
    "cluster=len(np.unique(y))\n",
    "fr'The total number  of clusters = {cluster}'"
   ]
  },
  {
   "cell_type": "code",
   "execution_count": 62,
   "id": "b773af46-5a94-4f7a-82e9-d94c15113bd2",
   "metadata": {},
   "outputs": [
    {
     "data": {
      "text/plain": [
       "<matplotlib.collections.PathCollection at 0x2c72cf18cd0>"
      ]
     },
     "execution_count": 62,
     "metadata": {},
     "output_type": "execute_result"
    },
    {
     "data": {
      "image/png": "[encoded data removed]",
      "text/plain": [
       "<Figure size 432x288 with 1 Axes>"
      ]
     },
     "metadata": {
      "needs_background": "light"
     },
     "output_type": "display_data"
    }
   ],
   "source": [
    "fig,ax=plt.subplots(1,1)\n",
    "ax.scatter(X[:,0],X[:,1],c=y)"
   ]
  },
  {
   "cell_type": "code",
   "execution_count": 63,
   "id": "3168a691-d50e-429c-8427-95a9e35b274c",
   "metadata": {},
   "outputs": [
    {
     "data": {
      "text/plain": [
       "'Lets us build Euclidean distance metric'"
      ]
     },
     "execution_count": 63,
     "metadata": {},
     "output_type": "execute_result"
    }
   ],
   "source": [
    "'Lets us build Euclidean distance metric'\n",
    "def Euclidean_distance(x1,x2):\n",
    "    return np.sqrt(np.sum((x1-x2)**2))"
   ]
  },
  {
   "cell_type": "code",
   "execution_count": 64,
   "id": "75201c63-661a-4204-838f-8176e09f223d",
   "metadata": {},
   "outputs": [
    {
     "data": {
      "text/plain": [
       "'Building the constructor of the class'"
      ]
     },
     "execution_count": 64,
     "metadata": {},
     "output_type": "execute_result"
    }
   ],
   "source": [
    "'Building the constructor of the class'\n",
    "class KMean:\n",
    "    def __init__(self,k=5,n_iteration=150):\n",
    "        self.k=k\n",
    "        self.n_iteration=n_iteration\n",
    "        self.clusters=[[] for _ in range(self.k)]\n",
    "        self.centroids=[]\n",
    "        "
   ]
  },
  {
   "cell_type": "code",
   "execution_count": 65,
   "id": "0b391eb6-1310-4953-b2dd-bc3cacfbc3fa",
   "metadata": {},
   "outputs": [
    {
     "data": {
      "text/plain": [
       "'Building the alogritim steps'"
      ]
     },
     "execution_count": 65,
     "metadata": {},
     "output_type": "execute_result"
    }
   ],
   "source": [
    "'Building the alogritim steps'\n",
    "class KMean:\n",
    "    def __init__(self,k=5,n_iteration=150):\n",
    "        self.k=k\n",
    "        self.n_iteration=n_iteration\n",
    "        self.clusters=[[] for _ in range(self.k)]\n",
    "        self.centroids=[]\n",
    "    \n",
    "    def fit(self,X):\n",
    "        pass # Kmean implies no fitting process"
   ]
  },
  {
   "cell_type": "code",
   "execution_count": 66,
   "id": "696b2892-19d8-4b35-9da0-56720bff2acc",
   "metadata": {},
   "outputs": [
    {
     "ename": "IndentationError",
     "evalue": "expected an indented block (306124277.py, line 25)",
     "output_type": "error",
     "traceback": [
      "\u001b[1;36m  Input \u001b[1;32mIn [66]\u001b[1;36m\u001b[0m\n\u001b[1;33m    \u001b[0m\n\u001b[1;37m    ^\u001b[0m\n\u001b[1;31mIndentationError\u001b[0m\u001b[1;31m:\u001b[0m expected an indented block\n"
     ]
    }
   ],
   "source": [
    "'Building the alogritim steps'\n",
    "class KMean:\n",
    "    def __init__(self,k=5,n_iteration=150):\n",
    "        self.k=k\n",
    "        self.n_iteration=n_iteration\n",
    "        self.clusters=[[] for _ in range(self.k)]\n",
    "        self.centroids=[]\n",
    "    \n",
    "    def fit(self,X):\n",
    "        pass # Kmean implies no fitting process\n",
    "    \n",
    "    def predict(self,X):\n",
    "        \n",
    "        #1- Initialize centroids\n",
    "        \n",
    "        #2- Optimization\n",
    "        \n",
    "            #2.1 Identify clusters\n",
    "            \n",
    "            #2-2 Identify new centroids\n",
    "            \n",
    "            # 2-3 Check if converged\n",
    "            \n",
    "        #3-return clusters' labels\n",
    "    "
   ]
  },
  {
   "cell_type": "code",
   "execution_count": 67,
   "id": "42d3439a-106b-4bc9-b7b2-9cc4c3597ab8",
   "metadata": {},
   "outputs": [
    {
     "data": {
      "text/plain": [
       "'Initializnig centroids'"
      ]
     },
     "execution_count": 67,
     "metadata": {},
     "output_type": "execute_result"
    }
   ],
   "source": [
    "'Initializnig centroids'\n",
    "class KMean:\n",
    "    def __init__(self,k=5,n_iteration=150):\n",
    "        self.k=k\n",
    "        self.n_iteration=n_iteration\n",
    "        self.clusters=[[] for _ in range(self.k)]\n",
    "        self.centroids=[]\n",
    "    \n",
    "    def fit(self,X):\n",
    "        pass # Kmean implies no fitting process\n",
    "    \n",
    "    def predict(self,X):\n",
    "        self.X=X\n",
    "        #1- Initialize centroids\n",
    "        self.n_samples,self.n_features=X.shape\n",
    "        random_index_selection=np.random.choice(self.n_samples,self.k,replace=False)\n",
    "        self.centroids=[self.X[idx] for idx in random_index_selection]\n",
    "        #2- Optimization\n",
    "        \n",
    "            #2.1 Identify clusters\n",
    "            \n",
    "            #2-2 Identify new centroids\n",
    "            \n",
    "            # 2-3 Check if converged\n",
    "            \n",
    "        #3-return clusters' labels\n",
    "    "
   ]
  },
  {
   "cell_type": "code",
   "execution_count": 68,
   "id": "30f811de-648a-4cc0-ad41-4f33f481f90a",
   "metadata": {},
   "outputs": [
    {
     "data": {
      "text/plain": [
       "'Optimization: identifying clusters based on centroids'"
      ]
     },
     "execution_count": 68,
     "metadata": {},
     "output_type": "execute_result"
    }
   ],
   "source": [
    "'Optimization: identifying clusters based on centroids'\n",
    "class KMean:\n",
    "    def __init__(self,k=5,n_iteration=150):\n",
    "        self.k=k\n",
    "        self.n_iteration=n_iteration\n",
    "        self.clusters=[[] for _ in range(self.k)]\n",
    "        self.centroids=[]\n",
    "    \n",
    "    def fit(self,X):\n",
    "        pass # Kmean implies no fitting process\n",
    "    \n",
    "    def predict(self,X):\n",
    "        self.X=X\n",
    "        #1- Initialize centroids\n",
    "        self.n_samples,self.n_features=X.shape\n",
    "        random_index_selection=np.random.choice(self.n_samples,self.k,replace=False)\n",
    "        self.centroids=[self.X[idx] for idx in random_index_selection]\n",
    "        #2- Optimization\n",
    "        for _ in range(self.n_iteration):\n",
    "            #2.1 Identify clusters\n",
    "            self.clusters=self._make_clusters(self.centroids)\n",
    "            #2-2 Identify new centroids\n",
    "            # 2-3 Check if converged\n",
    "        #3-return clusters' labels\n",
    "        def _make_clusters(centroids):\n",
    "            clusters=[[] for _ in range(self.k)]\n",
    "            for idx,x in enumerate(self.X):\n",
    "                index_of_centroid=self._nearest_centroid(x, centroids)\n",
    "                clusters[index_of_centroid].append(idx)\n",
    "            return clusters\n",
    "            "
   ]
  },
  {
   "cell_type": "code",
   "execution_count": 69,
   "id": "753791bd-e12f-4868-829c-260b328480fb",
   "metadata": {},
   "outputs": [
    {
     "data": {
      "text/plain": [
       "'Optimization: assigning data indices based on closest centroid'"
      ]
     },
     "execution_count": 69,
     "metadata": {},
     "output_type": "execute_result"
    }
   ],
   "source": [
    "'Optimization: assigning data indices based on closest centroid'\n",
    "class KMean:\n",
    "    def __init__(self,k=5,n_iteration=150):\n",
    "        self.k=k\n",
    "        self.n_iteration=n_iteration\n",
    "        self.clusters=[[] for _ in range(self.k)]\n",
    "        self.centroids=[]\n",
    "    \n",
    "    def fit(self,X):\n",
    "        pass # Kmean implies no fitting process\n",
    "    \n",
    "    def predict(self,X):\n",
    "        self.X=X\n",
    "        #1- Initialize centroids\n",
    "        self.n_samples,self.n_features=X.shape\n",
    "        random_index_selection=np.random.choice(self.n_samples,self.k,replace=False)\n",
    "        self.centroids=[self.X[idx] for idx in random_index_selection]\n",
    "        #2- Optimization\n",
    "        for _ in range(self,n_features):\n",
    "            #2.1 Identify clusters\n",
    "            self.clusters=self._make_clusters(self.centroids)\n",
    "            #2-2 Identify new centroids\n",
    "            # 2-3 Check if converged\n",
    "        #3-return clusters' labels\n",
    "        def _make_clusters(centroids):\n",
    "            clusters=[[] for _ in range(self.k)]\n",
    "            for idx,x in enumerate(self.X):\n",
    "                index_of_centroid=self._nearest_centroid(x, centroids)\n",
    "                clusters[index_of_centroid].append(idx)\n",
    "            return clusters\n",
    "        def _nearest_centroid(self,x,centroids):\n",
    "            distances=[Euclidean_distance(x,centroid) for centroid in centroids]\n",
    "            nearst_centroid=np.argmin(distances)\n",
    "            return nearst_centroid\n",
    "            "
   ]
  },
  {
   "cell_type": "code",
   "execution_count": 70,
   "id": "004e01ac-4fef-4e48-8755-01f129cbad02",
   "metadata": {},
   "outputs": [
    {
     "data": {
      "text/plain": [
       "'Optimization: Identifying new centroids'"
      ]
     },
     "execution_count": 70,
     "metadata": {},
     "output_type": "execute_result"
    }
   ],
   "source": [
    "'Optimization: Identifying new centroids'\n",
    "class KMean:\n",
    "    def __init__(self,k=5,n_iteration=150):\n",
    "        self.k=k\n",
    "        self.n_iteration=n_iteration\n",
    "        self.clusters=[[] for _ in range(self.k)]\n",
    "        self.centroids=[]\n",
    "    \n",
    "    def fit(self,X):\n",
    "        pass # Kmean implies no fitting process\n",
    "    \n",
    "    def predict(self,X):\n",
    "        self.X=X\n",
    "        #1- Initialize centroids\n",
    "        self.n_samples,self.n_features=X.shape\n",
    "        random_index_selection=np.random.choice(self.n_samples,self.k,replace=False)\n",
    "        self.centroids=[self.X[idx] for idx in random_index_selection]\n",
    "        #2- Optimization\n",
    "        for _ in range(self,n_features):\n",
    "            #2.1 Identify clusters\n",
    "            self.clusters=self._make_clusters(self.centroids)\n",
    "            #2-2 Identify new centroids\n",
    "            old_centroids=self.centroids\n",
    "            self.centroids=self._make_new_centroids(self.clusters)\n",
    "            \n",
    "            # 2-3 Check if converged\n",
    "        #3-return clusters' labels\n",
    "        def _make_clusters(centroids):\n",
    "            clusters=[[] for _ in range(self.k)]\n",
    "            for idx,x in enumerate(self.X):\n",
    "                index_of_centroid=self._nearest_centroid(x, centroids)\n",
    "                clusters[index_of_centroid].append(idx)\n",
    "            return clusters\n",
    "        def _nearest_centroid(self,x,centroids):\n",
    "            distances=[Euclidean_distance(x,centroid) for centroid in centroids]\n",
    "            nearst_centroid=np.argmin(distances)\n",
    "            return nearst_centroid\n",
    "            \n",
    "        def _make_new_centroids(clusters):\n",
    "            centroids=np.zeros((self.k,self.n_features))\n",
    "            for idx,cluster in enumerate(clustures):\n",
    "                cluster_mean=np.mean(self.X[cluster],axis=0)\n",
    "                centroids[idx]=cluster_mean\n",
    "            return centroids"
   ]
  },
  {
   "cell_type": "code",
   "execution_count": 71,
   "id": "c89c9745-e588-4b4a-b73c-411a60fa779d",
   "metadata": {},
   "outputs": [
    {
     "data": {
      "text/plain": [
       "'Optimization: check if Kmean is converged or not'"
      ]
     },
     "execution_count": 71,
     "metadata": {},
     "output_type": "execute_result"
    }
   ],
   "source": [
    "'Optimization: check if Kmean is converged or not'\n",
    "class KMean:\n",
    "    def __init__(self,k=5,n_iteration=150):\n",
    "        self.k=k\n",
    "        self.n_iteration=n_iteration\n",
    "        self.clusters=[[] for _ in range(self.k)]\n",
    "        self.centroids=[]\n",
    "    \n",
    "    def fit(self,X):\n",
    "        pass # Kmean implies no fitting process\n",
    "    \n",
    "    def predict(self,X):\n",
    "        self.X=X\n",
    "        #1- Initialize centroids\n",
    "        self.n_samples,self.n_features=X.shape\n",
    "        random_index_selection=np.random.choice(self.n_samples,self.k,replace=False)\n",
    "        self.centroids=[self.X[idx] for idx in random_index_selection]\n",
    "        #2- Optimization\n",
    "        for _ in range(self,n_features):\n",
    "            #2.1 Identify clusters\n",
    "            self.clusters=self._make_clusters(self.centroids)\n",
    "            #2-2 Identify new centroids\n",
    "            old_centroids=self.centroids\n",
    "            self.centroids=self._make_new_centroids(self.clusters)\n",
    "            # 2-3 Check if converged\n",
    "            if self._is_converged(old_centroids,self.centroids):\n",
    "                break\n",
    "        #3-return clusters' labels\n",
    "        def _make_clusters(centroids):\n",
    "            clusters=[[] for _ in range(self.k)]\n",
    "            for idx,x in enumerate(self.X):\n",
    "                index_of_centroid=self._nearest_centroid(x, centroids)\n",
    "                clusters[index_of_centroid].append(idx)\n",
    "            return clusters\n",
    "        def _nearest_centroid(self,x,centroids):\n",
    "            distances=[Euclidean_distance(x,centroid) for centroid in centroids]\n",
    "            nearst_centroid=np.argmin(distances)\n",
    "            return nearst_centroid\n",
    "            \n",
    "        def _make_new_centroids(clusters):\n",
    "            centroids=np.zeros((self.k,self.n_features))\n",
    "            for idx,cluster in enumerate(clustures):\n",
    "                cluster_mean=np.mean(self.X[cluster],axis=0)\n",
    "                centroids[idx]=cluster_mean\n",
    "            return centroids\n",
    "        def _is_converged(self,old_centroids,centroids):\n",
    "            distances=[Euclidean_distance(old_centroids[i],centroids[i]) for i in range(self.k)]\n",
    "            return sum(distances)==0"
   ]
  },
  {
   "cell_type": "code",
   "execution_count": 72,
   "id": "483a066e-e0e6-40a9-b13b-b5099413d433",
   "metadata": {},
   "outputs": [
    {
     "data": {
      "text/plain": [
       "'Return labels of clusters'"
      ]
     },
     "execution_count": 72,
     "metadata": {},
     "output_type": "execute_result"
    }
   ],
   "source": [
    "'Return labels of clusters'\n",
    "class KMean:\n",
    "    def __init__(self,k=5,n_iteration=150):\n",
    "        self.k=k\n",
    "        self.n_iteration=n_iteration\n",
    "        self.clusters=[[] for _ in range(self.k)]\n",
    "        self.centroids=[]\n",
    "    \n",
    "    def fit(self,X):\n",
    "        pass # Kmean implies no fitting process\n",
    "    \n",
    "    def predict(self,X):\n",
    "        self.X=X\n",
    "        #1- Initialize centroids\n",
    "        self.n_samples,self.n_features=X.shape\n",
    "        random_index_selection=np.random.choice(self.n_samples,self.k,replace=False)\n",
    "        self.centroids=[self.X[idx] for idx in random_index_selection]\n",
    "        #2- Optimization\n",
    "        \n",
    "        for _ in range(self.n_iteration):\n",
    "            #2.1 Identify clusters\n",
    "            self.clusters=self._make_clusters(self.centroids)\n",
    "            \n",
    "            #2-2 Identify new centroids\n",
    "            old_centroids=self.centroids\n",
    "            \n",
    "            self.centroids=self._make_new_centroids(self.clusters)\n",
    "            # 2-3 Check if converged\n",
    "            if self._is_converged(old_centroids,self.centroids):\n",
    "                break\n",
    "            plt.show()\n",
    "        return self._get_cluster_label(self.clusters)\n",
    "    \n",
    "    def _make_clusters(self,centroids):\n",
    "        clusters=[[] for _ in range(self.k)]\n",
    "        for idx,x in enumerate(self.X):\n",
    "            index_of_centroid=self._nearest_centroid(x, centroids)\n",
    "            clusters[index_of_centroid].append(idx)\n",
    "        return clusters\n",
    "    def _nearest_centroid(self,x,centroids):\n",
    "        distances=[Euclidean_distance(x,centroid) for centroid in centroids]\n",
    "        nearst_centroid=np.argmin(distances)\n",
    "        return nearst_centroid\n",
    "\n",
    "    def _make_new_centroids(self,clusters):\n",
    "        centroids=np.zeros((self.k,self.n_features))\n",
    "        for idx,cluster in enumerate(clusters):\n",
    "            cluster_mean=np.mean(self.X[cluster],axis=0)\n",
    "            centroids[idx]=cluster_mean\n",
    "        return centroids\n",
    "    def _is_converged(self,old_centroids,centroids):\n",
    "        distances=[Euclidean_distance(old_centroids[i],centroids[i]) for i in range(self.k)]\n",
    "        return sum(distances)==0\n",
    "\n",
    "    def _get_cluster_label(self,clusters):\n",
    "        labels=np.empty(self.n_samples)\n",
    "        for idx,cluster in enumerate(clusters):\n",
    "            for idx_x in cluster:\n",
    "                labels[idx_x]=idx\n",
    "        return labels"
   ]
  },
  {
   "cell_type": "code",
   "execution_count": 77,
   "id": "c636237b-9f09-45f4-b2f6-84c128516c73",
   "metadata": {},
   "outputs": [
    {
     "data": {
      "text/plain": [
       "4"
      ]
     },
     "execution_count": 77,
     "metadata": {},
     "output_type": "execute_result"
    },
    {
     "data": {
      "text/plain": [
       "array([2., 3., 0., 1., 3., 3., 2., 3., 0., 3., 0., 1., 0., 1., 3., 0., 1.,\n",
       "       2., 2., 1., 0., 1., 0., 2., 2., 3., 3., 2., 2., 1., 3., 1., 1., 1.,\n",
       "       3., 3., 0., 0., 2., 2., 3., 0., 1., 1., 1., 0., 0., 0., 3., 2., 3.,\n",
       "       1., 2., 3., 0., 1., 1., 2., 3., 2., 2., 1., 3., 2., 0., 3., 3., 2.,\n",
       "       0., 3., 0., 3., 3., 2., 1., 2., 1., 3., 0., 1., 3., 0., 3., 1., 2.,\n",
       "       2., 2., 2., 0., 1., 2., 3., 0., 3., 0., 2., 1., 0., 1., 2., 0., 0.,\n",
       "       0., 2., 2., 1., 1., 2., 1., 2., 3., 2., 2., 2., 2., 3., 0., 2., 3.,\n",
       "       3., 1., 0., 3., 0., 2., 0., 0., 3., 3., 2., 2., 0., 0., 3., 0., 2.,\n",
       "       2., 2., 0., 0., 3., 2., 0., 0., 3., 2., 2., 1., 1., 1., 3., 3., 0.,\n",
       "       0., 1., 2., 1., 2., 3., 3., 2., 2., 0., 0., 3., 1., 0., 3., 2., 2.,\n",
       "       3., 1., 1., 2., 2., 1., 1., 3., 3., 3., 1., 2., 1., 1., 2., 2., 1.,\n",
       "       0., 1., 3., 3., 2., 2., 3., 1., 3., 1., 1., 2., 3., 1., 1., 3., 2.,\n",
       "       0., 2., 3., 0., 0., 2., 2., 3., 2., 1., 1., 3., 1., 2., 1., 0., 0.,\n",
       "       1., 2., 1., 0., 1., 1., 3., 3., 0., 3., 0., 1., 3., 2., 3., 1., 3.,\n",
       "       0., 0., 0., 3., 1., 0., 2., 2., 0., 1., 1., 3., 1., 1., 1., 1., 0.,\n",
       "       0., 2., 1., 3., 0., 1., 1., 2., 1., 3., 3., 0., 1., 0., 3., 1., 1.,\n",
       "       0., 2., 1., 1., 1., 0., 2., 3., 1., 0., 0., 1., 3., 1., 0., 2., 0.,\n",
       "       3., 3., 1., 1., 0., 2., 0., 2., 0., 3., 0., 3., 2., 0., 0., 1., 0.,\n",
       "       3., 3., 0., 0., 3., 2., 0., 0., 0., 3., 2., 0., 0., 0., 2., 0., 0.,\n",
       "       2., 2., 2., 3., 2., 2., 2., 2., 2., 1., 2., 0., 2., 1., 1., 2., 0.,\n",
       "       0., 0., 1., 1., 3., 1., 3., 1., 0., 3., 3., 0., 3., 2., 2., 3., 2.,\n",
       "       1., 3., 1., 0., 1., 3., 3., 2., 0., 3., 0., 0., 2., 1., 3., 0., 3.,\n",
       "       2., 0., 2., 0., 2., 2., 3., 2., 1., 3., 2., 3., 1., 3., 2., 3., 2.,\n",
       "       0., 1., 1., 3., 3., 0., 1., 1., 1., 0., 2., 3., 1., 0., 0., 3., 2.,\n",
       "       3., 3., 3., 1., 0., 3., 1., 0., 1., 1., 0., 1., 0., 1., 2., 3., 0.,\n",
       "       1., 3., 2., 1., 0., 0., 3., 3., 3., 2., 3., 0., 2., 1., 1., 2., 0.,\n",
       "       2., 0., 1., 3., 3., 3., 1., 0., 0., 2., 1., 3., 3., 3., 0., 3., 1.,\n",
       "       0., 2., 0., 3., 0., 1., 0., 1., 0., 3., 1., 2., 2., 1., 1., 2., 2.,\n",
       "       1., 3., 0., 3., 0., 1., 2., 2., 1., 3., 2., 2., 0., 2., 2., 1., 2.,\n",
       "       3., 1., 2., 1., 3., 3., 0.])"
      ]
     },
     "execution_count": 77,
     "metadata": {},
     "output_type": "execute_result"
    }
   ],
   "source": [
    "n_clusters=len(np.unique(y))\n",
    "n_clusters\n",
    "cl=KMean(n_clusters,n_iteration=50000)\n",
    "y_predicted=cl.predict(X)\n",
    "y_predicted"
   ]
  },
  {
   "cell_type": "code",
   "execution_count": 78,
   "id": "7b80e9c8-1407-44b1-86c8-0824aeedb383",
   "metadata": {},
   "outputs": [
    {
     "data": {
      "text/plain": [
       "<matplotlib.collections.PathCollection at 0x2c72e0f4d90>"
      ]
     },
     "execution_count": 78,
     "metadata": {},
     "output_type": "execute_result"
    },
    {
     "data": {
      "text/plain": [
       "<matplotlib.collections.PathCollection at 0x2c72e1113d0>"
      ]
     },
     "execution_count": 78,
     "metadata": {},
     "output_type": "execute_result"
    },
    {
     "data": {
      "image/png": "[encoded data removed]",
      "text/plain": [
       "<Figure size 432x288 with 2 Axes>"
      ]
     },
     "metadata": {
      "needs_background": "light"
     },
     "output_type": "display_data"
    }
   ],
   "source": [
    "fig,ax=plt.subplots(1,2)\n",
    "ax[0].scatter(X[:,0],X[:,1],c=y)\n",
    "ax[1].scatter(X[:,0],X[:,1],c=y_predicted)"
   ]
  },
  {
   "cell_type": "code",
   "execution_count": null,
   "id": "aa337836-0394-4121-a5c9-ed11da8feccb",
   "metadata": {},
   "outputs": [],
   "source": []
  },
  {
   "cell_type": "code",
   "execution_count": null,
   "id": "bc8b2da3-4bd6-4c98-b122-98376d677b36",
   "metadata": {},
   "outputs": [],
   "source": []
  },
  {
   "cell_type": "code",
   "execution_count": null,
   "id": "3b7e01ab-cc34-4467-8cfd-428bf777ad00",
   "metadata": {},
   "outputs": [],
   "source": []
  },
  {
   "cell_type": "code",
   "execution_count": null,
   "id": "bc761f01-2bf5-4aaa-b940-736d2ff60342",
   "metadata": {},
   "outputs": [],
   "source": []
  }
 ],
 "metadata": {
  "kernelspec": {
   "display_name": "Python 3 (ipykernel)",
   "language": "python",
   "name": "python3"
  },
  "language_info": {
   "codemirror_mode": {
    "name": "ipython",
    "version": 3
   },
   "file_extension": ".py",
   "mimetype": "text/x-python",
   "name": "python",
   "nbconvert_exporter": "python",
   "pygments_lexer": "ipython3",
   "version": "3.9.7"
  }
 },
 "nbformat": 4,
 "nbformat_minor": 5
}
