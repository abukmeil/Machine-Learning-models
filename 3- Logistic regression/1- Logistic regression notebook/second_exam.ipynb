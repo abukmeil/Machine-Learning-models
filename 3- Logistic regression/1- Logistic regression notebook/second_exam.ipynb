{
 "cells": [
  {
   "cell_type": "markdown",
   "id": "8c82bd23-13d3-4f48-a584-fb4d790e4ab1",
   "metadata": {
    "jp-MarkdownHeadingCollapsed": true,
    "tags": []
   },
   "source": [
    "# <span style='color:orange'> By: Dr.Eng. Mohanad Abukmeil</span>\n",
    "\n",
    "# The second exam, please read the following:\n",
    "\n",
    "### <span style='color:yellow'> This exam covers pandas and NumPy basics   </span>\n",
    "### <span style='color:yellow'> The weight of this exam is 30 mark. </span>\n",
    "### <span style='color:yellow'> The exam contains 6 questions, where each section score is 5 marks. </span>\n",
    "### <span style='color:yellow'> Use Jupyter notebook to, no need to use pycharm. </span>\n",
    "### <span style='color:yellow'> Make  your code readable by using specific comments. </span>\n",
    "\n",
    "### <span style='color:yellow'> Any copy and paste between students entails 0 scores for both.</span> \n",
    "### <span style='color:yellow'>The deadline to deliver the exam's solution is on next Wednesday 14/12/2022 at 23:59:00.</span>\n",
    "\n",
    "\n"
   ]
  },
  {
   "cell_type": "markdown",
   "id": "8f95ba6f-9e16-423a-9ebd-adaf2b940717",
   "metadata": {},
   "source": [
    "# Q1: (Pandas) DataFram creation (5 marks)\n",
    "\n",
    "### <span style='color:yellow'> Q1.1. (2.5 marks) Use the following data to create a dataframe and print the max and min of the buying and selling.</span>\n",
    "    \n",
    "Company_data= {\n",
    "\n",
    " 'Day': ['2/1/2022','2/2/2022','3/2/2022','4/2/2022'], \n",
    "    \n",
    "    \n",
    "   'Buying': [2000,1500,3000,2100],\n",
    "    \n",
    "   'Selling': [600,700,200,1000],\n",
    "   \n",
    "   'Income': ['Medium', 'Medium', 'Low','High']}\n"
   ]
  },
  {
   "cell_type": "code",
   "execution_count": null,
   "id": "907552f1-dd22-46df-b066-78ed3c7f5ec9",
   "metadata": {},
   "outputs": [],
   "source": [
    "# A 1.1: Insert your answer here"
   ]
  },
  {
   "cell_type": "markdown",
   "id": "e31d21d3-8768-4658-b65e-ea76e4eecc55",
   "metadata": {},
   "source": [
    "### <span style='color:yellow'> Q1.2. (2.5 marks) Use the following list of tuples to create a DataFrame and set the title of the column as \"Day, Temperature, Humidity, Event\". Consider replacing 'not_available entry, i.e, treat them as NAN'</span>\n",
    "\n",
    "weather_data =\n",
    "[\n",
    "\n",
    "\n",
    "   ('4/1/2022',32,40,'Sunny'),\n",
    "   \n",
    "  ('4/2/2022',35,50,'not-available'),\n",
    "    \n",
    "   ('4/3/2022',20,20,'Windy'),\n",
    "    \n",
    "   ('4/4/2022',15,28,'not-available'), \n",
    "     \n",
    "   ('4/5/2022',3,30,'Snowy')]\n",
    "\n"
   ]
  },
  {
   "cell_type": "code",
   "execution_count": null,
   "id": "713b427e-ab78-4c97-8746-973f27757ea4",
   "metadata": {},
   "outputs": [],
   "source": [
    "# A 1.2: Insert your answer here"
   ]
  },
  {
   "cell_type": "markdown",
   "id": "eccceceb-f780-47fc-ac90-38fbf9de1bcd",
   "metadata": {},
   "source": [
    "# Q2: (Pandas) Groupby (5 marks)\n",
    "\n",
    "### <span style='color:yellow'>Q2 (5 marks) Read the  \n",
    "dataframe from Weather.csv and perform the following:</span>\n",
    "\n",
    "   1- Group the dataframe by cit and print each city and the corresponding dataframe.\n",
    "   \n",
    "   2- used \"describe\" to show the whole statistics of the data frame that grouped\n",
    "    \n",
    "   2- plot the temperature vs windspeed for each group of city"
   ]
  },
  {
   "cell_type": "code",
   "execution_count": 16,
   "id": "4595ee89-0bd7-4547-9629-433c0a8da072",
   "metadata": {},
   "outputs": [],
   "source": [
    "# A 2: Insert your answer here\n"
   ]
  },
  {
   "cell_type": "markdown",
   "id": "2f9e0d3b-ca77-491c-941f-5024210a0b65",
   "metadata": {
    "tags": []
   },
   "source": [
    "# Q3: (Pandas) Pivot tables (5 marks)\n",
    "### <span style='color:yellow'> Q3 (5 marks) Read the  \n",
    "dataframe from Weather_analysis.csv and perform the following:</span>\n",
    "1- Aggregate dataframe to produce meaningful output by using the city as an index and day as the column.\n",
    "\n",
    "2- Use the count aggregation function to produce a pivot table\n",
    "\n",
    "3-  Transform and reshape dataframe where the index is 'date' and columns are 'city' \n",
    "\n"
   ]
  },
  {
   "cell_type": "code",
   "execution_count": 67,
   "id": "e66b44cd-11de-4b46-8016-b6196be3cf5b",
   "metadata": {},
   "outputs": [],
   "source": [
    "# A3  Insert your answer here"
   ]
  },
  {
   "cell_type": "markdown",
   "id": "5004c87b-fd22-4df4-a686-e4d4e3bfcc9f",
   "metadata": {},
   "source": [
    "# Q4: (Numpy) Array generation (5 marks) \n",
    "\n",
    "### <span style='color:yellow'> Q4 (5 marks) create NumPy arrays according to the following:</span>\n",
    "\n",
    "Uses: use np.random.seed(1234)\n",
    "\n",
    "1- generate an array with size 10 by 10 with name a1 and the data type is an integer with a maximum value of 100\n",
    "\n",
    "2- Generate an array from a normal distribution with the size of size 10 by 10\n",
    "\n",
    "3- Generate an array from a uniform distribution with the size of size 10 by 10\n",
    "\n",
    "4- Generate an array with only choice over list [5,10,15] and with size 10 by 10"
   ]
  },
  {
   "cell_type": "code",
   "execution_count": 18,
   "id": "d2275648-445c-4e12-a0f0-2fa5fbd6035e",
   "metadata": {},
   "outputs": [],
   "source": [
    "#A.4  Insert your answer here"
   ]
  },
  {
   "cell_type": "markdown",
   "id": "7262bce0-e7e6-478e-bba5-cb58b6ede113",
   "metadata": {},
   "source": [
    "# Q5: (Numpy) Slicing (5 marks) \n",
    "\n",
    "### <span style='color:yellow'> Q5 (5 marks) Given the following array arr1:</span>\n",
    "\n",
    "arr1= array([[ 50, 20, 3, 4, 1],\n",
    "       [ 10, 4, 9, 8, 30],\n",
    "       [15, 6, 27, 15, 7]])\n",
    "       \n",
    "Do the following:\n",
    "    - Print the second column.\n",
    "    - Print the element that is in row 2 and column 3.\n",
    "    - Print all elements in rows 1,and 2."
   ]
  },
  {
   "cell_type": "code",
   "execution_count": null,
   "id": "9d215d71-216e-4fd7-b7a3-3701a04aba33",
   "metadata": {},
   "outputs": [],
   "source": [
    "#A.5  Insert your answer here"
   ]
  },
  {
   "cell_type": "markdown",
   "id": "e2803a3a-89e6-4d05-b497-1b6287399f8e",
   "metadata": {},
   "source": [
    "# Q6: (Numpy) drop axis (5 marks) \n",
    "\n",
    "### <span style='color:yellow'> Q6 (5 marks) Given the following array arr2:</span>\n",
    "\n",
    "\n",
    "arr2= np.array([[[10], [20], [30],[40]]])\n",
    "\n",
    "Do the following:\n",
    "\n",
    "   Drop any axis with length = 1\n",
    "    "
   ]
  },
  {
   "cell_type": "code",
   "execution_count": null,
   "id": "f2b0c077-cd14-4643-87eb-9650caeb3fec",
   "metadata": {},
   "outputs": [],
   "source": [
    "#A.6  Insert your answer here"
   ]
  }
 ],
 "metadata": {
  "kernelspec": {
   "display_name": "Python 3 (ipykernel)",
   "language": "python",
   "name": "python3"
  },
  "language_info": {
   "codemirror_mode": {
    "name": "ipython",
    "version": 3
   },
   "file_extension": ".py",
   "mimetype": "text/x-python",
   "name": "python",
   "nbconvert_exporter": "python",
   "pygments_lexer": "ipython3",
   "version": "3.9.7"
  }
 },
 "nbformat": 4,
 "nbformat_minor": 5
}
