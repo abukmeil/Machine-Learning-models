{
 "cells": [
  {
   "cell_type": "markdown",
   "id": "46712c3d-3399-4a57-b25d-62361574d871",
   "metadata": {
    "tags": []
   },
   "source": [
    "# Principal Component Analysis\n",
    "\n",
    "\n",
    "### <span style='color:yellow'>Principal component analysis (PCA), was one of the earliest methods used to determine the correlation among data and to reduce the dimensionality of the space, X, by projecting it into a lower dimensional space Z. </span>\n",
    "\n",
    "### <span style='color:yellow'>PCA attempts to find a mapping 𝒇 that preserves, to the greatest possible extent, the distance between the variances of the data samples X (each sample 𝒙 might contain one feature point, or it comprises multiple independent features) once they are projected into the reduced space Z.</span>\n",
    "\n",
    "### <span style='color:yellow'> X can be taken to be zero-mean data, corresponding to 𝑿 − µ𝑿.\n",
    "</span>\n",
    "\n",
    "### <span style='color:yellow'> Because the variance of a data sample, 𝒙, comprises features can be influenced by the measurment units used to express it, a commonly used preprocessing procedure for X is normalization.\n",
    "</span>\n",
    "\n",
    "\n",
    "### <span style='color:yellow'> Mathematically, in PCA, the mapping 𝒇 generates a linear transformation matrix, 𝑼, whose columns map each data vector 𝒙 to corresponding elements 𝒛, called the principal component of 𝒙; 𝒁= 𝑿𝑼.</span>\n",
    "\n",
    "### <span style='color:yellow'>Because the columns of 𝑼 are constrained to be unit vectors that are normal to each other, they constitute an 𝐨𝐫𝐭𝐡𝐨𝐧𝐨𝐫𝐦𝐚𝐥 𝐛𝐚𝐬𝐢𝐬 (linear dimensions) for 𝒁.</span>\n",
    "\n",
    "\n",
    "\n",
    "\n"
   ]
  },
  {
   "cell_type": "markdown",
   "id": "ab4a5b86-3fe2-4818-9031-b573e3ef1e1e",
   "metadata": {},
   "source": [
    "# Practicaly, PCA transforms data such that:\n",
    "\n",
    "-   ### <span style='color:yellow'>The feature poins for each data saamples are independent.</span>\n",
    "\n",
    "-   ### <span style='color:yellow'> During the transformation, the transformed data is ranked and the dimensionality is reduced considering the highest importance (as in considering the highest eigenvalues).</span>\n",
    "\n",
    "-   ### <span style='color:yellow'>The new dimensions are orthogonal, and the optimization algorithm minimizes the projection error of the data samples onto new bases, i.e., dimensions.</span>\n",
    "\n",
    "-   ### <span style='color:yellow'>The projected data samples are spread around the new bases (principal components), and you can capture different spreading around each dimension.</span>\n",
    "\n",
    "-   ### <span style='color:yellow'>The distance between the variances of data samples is maximized.</span>\n",
    "\n",
    "\n",
    "\n",
    "\n"
   ]
  },
  {
   "cell_type": "markdown",
   "id": "565bc76c-68c4-4712-be08-ae65137bbb8a",
   "metadata": {},
   "source": [
    "# Transformation\n",
    "\n",
    "## 1- Varaiance \n",
    "### <span style='color:yellow'>The variance for given data samples is commputed as follows:.</span>\n",
    "$$\n",
    "\\sigma(X)=\\frac{1}{n}(X_i-\\bar{X})\n",
    "$$\n",
    "### <span style='color:yellow'>where $\\bar{X}$ is teh mean vector corresponding to teh data samples.  </span>\n",
    "\n"
   ]
  },
  {
   "cell_type": "code",
   "execution_count": 73,
   "id": "749f58ba-b57b-492b-806c-ca1c00645ffb",
   "metadata": {},
   "outputs": [],
   "source": [
    "from IPython.core.interactiveshell import InteractiveShell\n",
    "InteractiveShell.ast_node_interactivity=\"all\""
   ]
  },
  {
   "cell_type": "markdown",
   "id": "59b31988-a16b-4aa3-b7c5-c8981db1cbd5",
   "metadata": {},
   "source": [
    "## 2- Co-varaince \n",
    "### <span style='color:yellow'>The covariance measures how two variables are vary (or two different feature points):</span>\n",
    "$$\n",
    "\\mathrm{COV}(x,y)=\\frac{1}{n}(x_i-\\bar{x})(y_i-\\bar{y})^{\\intercal}\n",
    "$$\n",
    "\n",
    "### <span style='color:yellow'>Beacuse we have a dataset (not just two feature points), where the rows represent the samples and the columns represent the features. Thus we need the covariance matrix between teh dataset and its transpose to measure how each sample vary with respect to all other samples: </span>\n",
    "\n",
    "$$\n",
    "\\mathrm{COV}(X,X)=\\frac{1}{n}(X-\\bar{X})(X-\\bar{X})^{\\intercal}\n",
    "$$"
   ]
  },
  {
   "cell_type": "code",
   "execution_count": null,
   "id": "0deadb8c-d4a9-40f6-a5f2-e6c5dc02b75f",
   "metadata": {},
   "outputs": [],
   "source": []
  },
  {
   "cell_type": "code",
   "execution_count": null,
   "id": "db02bfdd-09bf-46af-b94e-42cf6ae79d20",
   "metadata": {},
   "outputs": [],
   "source": []
  },
  {
   "cell_type": "markdown",
   "id": "fa572481-d9e3-4fd4-a73d-b0e77df0c038",
   "metadata": {},
   "source": [
    "## 3- Eigen-decomposition  \n",
    "\n",
    "### <span style='color:yellow'>After computing the covariance matris of the dataset, then the eigen-decomposition on the covariance matrix is introduced: </span>\n",
    "\n",
    "$$\n",
    "X=\\Lambda V \n",
    "$$\n",
    "### <span style='color:yellow'>PCA sorts the eigenvectors, V, matris and its coreesponding eigenvalues $\\Lambda$. </span>\n",
    "\n",
    "### <span style='color:yellow'>The highest eigenvalues, $\\Lambda_n$, reflect the importance of the corresponding eigenvectors, and the deconposition is considered untill a cerian limit of eignvalues, i.e, the samlest eigenvalues are ignored.</span>\n",
    "\n",
    "### <span style='color:yellow'>The values of each eigenvector, $v$,  represent the data samples (if $x$ comprises n- feature points, then at eat direction $x$ is represented as a single data point).</span>\n",
    "\n",
    "### <span style='color:yellow'>The higest eigenvalue, $\\lambda$,  and its coreresponding eigenvector give the firt PCA, wherer the the variance of the transdformed data points lie onthat PCA is considered teh maximum varaince.</span>\n",
    "\n"
   ]
  },
  {
   "cell_type": "code",
   "execution_count": 74,
   "id": "285d4d01-5dee-42da-b6d1-646356879d15",
   "metadata": {},
   "outputs": [
    {
     "data": {
      "text/plain": [
       "'Importing corresponding librares'"
      ]
     },
     "execution_count": 74,
     "metadata": {},
     "output_type": "execute_result"
    }
   ],
   "source": [
    "'Importing corresponding librares'\n",
    "import numpy as np\n",
    "import matplotlib.pyplot as plt\n",
    "from sklearn import datasets\n",
    "from sklearn.model_selection import train_test_split\n",
    "from matplotlib.colors import ListedColormap"
   ]
  },
  {
   "cell_type": "code",
   "execution_count": 75,
   "id": "1475f095-ee87-4946-8381-5854cad83ed7",
   "metadata": {},
   "outputs": [
    {
     "data": {
      "text/plain": [
       "'Loding iris dataset'"
      ]
     },
     "execution_count": 75,
     "metadata": {},
     "output_type": "execute_result"
    }
   ],
   "source": [
    "'Loding iris dataset'\n",
    "data=datasets.load_iris()\n",
    "X=data.data\n",
    "y=data.target"
   ]
  },
  {
   "cell_type": "code",
   "execution_count": 76,
   "id": "6eff90b4-307e-4db2-9c94-2a4accbbd576",
   "metadata": {},
   "outputs": [
    {
     "data": {
      "text/plain": [
       "'Visualizing the first two features'"
      ]
     },
     "execution_count": 76,
     "metadata": {},
     "output_type": "execute_result"
    },
    {
     "data": {
      "text/plain": [
       "<matplotlib.collections.PathCollection at 0x20c37db8520>"
      ]
     },
     "execution_count": 76,
     "metadata": {},
     "output_type": "execute_result"
    },
    {
     "data": {
      "text/plain": [
       "[]"
      ]
     },
     "execution_count": 76,
     "metadata": {},
     "output_type": "execute_result"
    },
    {
     "data": {
      "text/plain": [
       "[]"
      ]
     },
     "execution_count": 76,
     "metadata": {},
     "output_type": "execute_result"
    },
    {
     "data": {
      "text/plain": [
       "Text(0.5, 1.0, 'Scatter plot of the first two features')"
      ]
     },
     "execution_count": 76,
     "metadata": {},
     "output_type": "execute_result"
    },
    {
     "data": {
      "text/plain": [
       "Text(0.5, 0, 'x0')"
      ]
     },
     "execution_count": 76,
     "metadata": {},
     "output_type": "execute_result"
    },
    {
     "data": {
      "text/plain": [
       "Text(0, 0.5, 'x_1')"
      ]
     },
     "execution_count": 76,
     "metadata": {},
     "output_type": "execute_result"
    },
    {
     "data": {
      "image/png": "[encoded data removed]",
      "text/plain": [
       "<Figure size 600x400 with 1 Axes>"
      ]
     },
     "metadata": {},
     "output_type": "display_data"
    }
   ],
   "source": [
    "'Visualizing the first two features'\n",
    "font1 = {'family':'serif','weight':'bold','color':'black','size':14}\n",
    "cmap=ListedColormap(['#FF0000','#00FF00','#0000FF'])\n",
    "fig,ax=plt.subplots(1,figsize=(6,4))\n",
    "ax.scatter(X[:,0],X[:,1],c=y,s=15,marker='o',cmap=cmap)\n",
    "ax.axes.get_xaxis().set_ticks([])\n",
    "ax.axes.get_yaxis().set_ticks([])\n",
    "plt.title(\"Scatter plot of the first two features\")\n",
    "plt.xlabel('x0',fontdict=font1)\n",
    "plt.ylabel('x_1',fontdict=font1)\n",
    "plt.show()\n",
    " "
   ]
  },
  {
   "cell_type": "code",
   "execution_count": 77,
   "id": "ae8f8f9f-9bf9-403a-b521-e691c03a122f",
   "metadata": {},
   "outputs": [
    {
     "data": {
      "text/plain": [
       "'Building the body of PCA class'"
      ]
     },
     "execution_count": 77,
     "metadata": {},
     "output_type": "execute_result"
    }
   ],
   "source": [
    "'Building the body of PCA class'\n",
    "class PCA:\n",
    "    def __init__(self,n_components):\n",
    "        self.n_components=n_components\n",
    "        self.mean=None\n",
    "        self.PCA_vectors=None\n",
    "    def fit(slef,X):  # Non y is need PCA is unsupervised ML method\n",
    "        pass\n",
    "    def transform(self,X):\n",
    "        pass\n",
    "    \n"
   ]
  },
  {
   "cell_type": "code",
   "execution_count": 78,
   "id": "5f567ca7-8f88-4cb8-b27f-039dc03c1c40",
   "metadata": {},
   "outputs": [
    {
     "data": {
      "text/plain": [
       "'Normalizing data and perform eigen-decomposition'"
      ]
     },
     "execution_count": 78,
     "metadata": {},
     "output_type": "execute_result"
    }
   ],
   "source": [
    "'Normalizing data and perform eigen-decomposition'\n",
    "class PCA:\n",
    "    def __init__(self,n_components):\n",
    "        self.n_components=n_components\n",
    "        self.mean=None\n",
    "        self.PCA_vectors=None\n",
    "    # No y is needed PCA is unsupervised ML method\n",
    "    def fit(slef,X):  \n",
    "        self.mean=np.mean(X,axis=0)\n",
    "    # np.conv method requires samples to be in columns\n",
    "        cov_X=np.cov(X.T) \n",
    "        eign_values,eign_vectors=np.linalg(cov_X)\n",
    "        # Return the data to its original shape\n",
    "        eign_vectors=eign_vectors.T \n",
    "        idx=np.argsort(eign_values)[::-1]\n",
    "        eign_values=eign_values[idx]\n",
    "        eign_vectors=eign_vectors[idx]\n",
    "        # Selecting n-PCA\n",
    "        self.PCA_vectors=eign_vectors[0:self.n_components]\n",
    "        \n",
    "    def transform(self,X):\n",
    "        pass\n",
    "    \n"
   ]
  },
  {
   "cell_type": "code",
   "execution_count": 79,
   "id": "49b3a0bb-0041-47ff-b1ff-72eac41d7915",
   "metadata": {},
   "outputs": [
    {
     "data": {
      "text/plain": [
       "'Building .transform method to project the data'"
      ]
     },
     "execution_count": 79,
     "metadata": {},
     "output_type": "execute_result"
    },
    {
     "data": {
      "text/plain": [
       "'The projection is simply the dot product'"
      ]
     },
     "execution_count": 79,
     "metadata": {},
     "output_type": "execute_result"
    }
   ],
   "source": [
    "'Building .transform method to project the data'\n",
    "'The projection is simply the dot product'\n",
    "class PCA:\n",
    "    def __init__(self,n_components):\n",
    "        self.n_components=n_components\n",
    "        self.mean=None\n",
    "        self.PCA_vectors=None\n",
    "    # No y is needed PCA is unsupervised ML method\n",
    "    def fit(self,X):  \n",
    "        self.mean=np.mean(X,axis=0)\n",
    "    # np.conv method requires samples to be in columns\n",
    "        cov_X=np.cov(X.T) \n",
    "        print(cov_X.shape)\n",
    "        eign_values,eign_vectors=np.linalg.eig(cov_X)\n",
    "        # Return the data to its original shape\n",
    "        eign_vectors=eign_vectors.T \n",
    "        idx=np.argsort(eign_values)[::-1]\n",
    "        eign_values=eign_values[idx]\n",
    "        eign_vectors=eign_vectors[idx]\n",
    "        # Selecting n-PCA\n",
    "        self.PCA_vectors=eign_vectors[0:self.n_components]\n",
    "        \n",
    "    def transform(self,X):\n",
    "        # Normalizing data \n",
    "        X=X-self.mean\n",
    "        print(X.shape,self.PCA_vectors.shape)\n",
    "        PCA_transform= np.dot(X,self.PCA_vectors.T)\n",
    "        return PCA_transform\n"
   ]
  },
  {
   "cell_type": "code",
   "execution_count": 80,
   "id": "c468bee8-6c0c-4084-8677-72f6f2835af4",
   "metadata": {},
   "outputs": [],
   "source": [
    "pca_t=PCA(2)"
   ]
  },
  {
   "cell_type": "code",
   "execution_count": 81,
   "id": "f09560e0-735c-4044-8fc9-232a0060ea61",
   "metadata": {},
   "outputs": [
    {
     "name": "stdout",
     "output_type": "stream",
     "text": [
      "(4, 4)\n"
     ]
    }
   ],
   "source": [
    "pca_t.fit(X)"
   ]
  },
  {
   "cell_type": "code",
   "execution_count": 82,
   "id": "a923f698-a6c9-448d-a4c7-f0f9c856881c",
   "metadata": {},
   "outputs": [
    {
     "name": "stdout",
     "output_type": "stream",
     "text": [
      "(150, 4) (2, 4)\n"
     ]
    }
   ],
   "source": [
    "PCA_transform=pca_t.transform(X)"
   ]
  },
  {
   "cell_type": "code",
   "execution_count": 83,
   "id": "fe4f6f2f-31eb-449c-a4d1-08ada58662ba",
   "metadata": {},
   "outputs": [
    {
     "data": {
      "text/plain": [
       "(150, 2)"
      ]
     },
     "execution_count": 83,
     "metadata": {},
     "output_type": "execute_result"
    }
   ],
   "source": [
    "PCA_transform.shape"
   ]
  },
  {
   "cell_type": "code",
   "execution_count": 84,
   "id": "4ddbd1d0-16f2-4dc8-bd76-7807e97cbd42",
   "metadata": {},
   "outputs": [
    {
     "data": {
      "text/plain": [
       "'Visualizing the projected data'"
      ]
     },
     "execution_count": 84,
     "metadata": {},
     "output_type": "execute_result"
    },
    {
     "data": {
      "text/plain": [
       "<matplotlib.collections.PathCollection at 0x20c37e0be80>"
      ]
     },
     "execution_count": 84,
     "metadata": {},
     "output_type": "execute_result"
    },
    {
     "data": {
      "text/plain": [
       "[]"
      ]
     },
     "execution_count": 84,
     "metadata": {},
     "output_type": "execute_result"
    },
    {
     "data": {
      "text/plain": [
       "[]"
      ]
     },
     "execution_count": 84,
     "metadata": {},
     "output_type": "execute_result"
    },
    {
     "data": {
      "text/plain": [
       "Text(0.5, 1.0, 'Scatter plot of the first two features')"
      ]
     },
     "execution_count": 84,
     "metadata": {},
     "output_type": "execute_result"
    },
    {
     "data": {
      "text/plain": [
       "Text(0.5, 0, 'PCA#1')"
      ]
     },
     "execution_count": 84,
     "metadata": {},
     "output_type": "execute_result"
    },
    {
     "data": {
      "text/plain": [
       "Text(0, 0.5, 'PCA#2')"
      ]
     },
     "execution_count": 84,
     "metadata": {},
     "output_type": "execute_result"
    },
    {
     "data": {
      "image/png": "[encoded data removed]",
      "text/plain": [
       "<Figure size 600x400 with 1 Axes>"
      ]
     },
     "metadata": {},
     "output_type": "display_data"
    }
   ],
   "source": [
    "'Visualizing the projected data'\n",
    "font1 = {'family':'serif','weight':'bold','color':'black','size':14}\n",
    "cmap=ListedColormap(['#FF0000','#00FF00','#0000FF'])\n",
    "fig,ax=plt.subplots(1,figsize=(6,4))\n",
    "ax.scatter(PCA_transform[:,0],PCA_transform[:,1],c=y,s=15,marker='o',cmap=cmap)\n",
    "ax.axes.get_xaxis().set_ticks([])\n",
    "ax.axes.get_yaxis().set_ticks([])\n",
    "plt.title(\"Scatter plot of the first two features\")\n",
    "plt.xlabel('PCA#1',fontdict=font1)\n",
    "plt.ylabel('PCA#2',fontdict=font1)\n",
    "plt.show()\n"
   ]
  }
 ],
 "metadata": {
  "kernelspec": {
   "display_name": "Python 3 (ipykernel)",
   "language": "python",
   "name": "python3"
  },
  "language_info": {
   "codemirror_mode": {
    "name": "ipython",
    "version": 3
   },
   "file_extension": ".py",
   "mimetype": "text/x-python",
   "name": "python",
   "nbconvert_exporter": "python",
   "pygments_lexer": "ipython3",
   "version": "3.9.13"
  }
 },
 "nbformat": 4,
 "nbformat_minor": 5
}
