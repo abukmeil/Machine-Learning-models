{
 "cells": [
  {
   "cell_type": "markdown",
   "id": "46712c3d-3399-4a57-b25d-62361574d871",
   "metadata": {
    "tags": []
   },
   "source": [
    "# Decision Tree\n",
    "\n",
    "### <span style='color:yellow'>Selecting the best ML model is attributed to the nature of the dataset itself including the distribution of the data samples and noise.</span>\n",
    "\n",
    "### <span style='color:yellow'> If the data classes are well separated and one fitting line can separate the datasets, then the traditional ML models such as logistic regression and SVM are utilized.</span>\n",
    "\n",
    "<img src='one_decision_line.PNG' width=280 style=\"margin:auto\"/>\n",
    "\n",
    "\n",
    "### <span style='color:yellow'>The main idea of the decision tree is to build a tree that splits the dataset (samples) such that the model gives the best separation respecting the number of classes. </span>\n",
    "\n",
    "<img src=decision_tree.PNG width=280 style=\"margin:auto\" />\n",
    "\n",
    "### <span style='color:yellow'> The decision tree is considered the foundation and the basis of the random forest model.</span>\n"
   ]
  },
  {
   "cell_type": "markdown",
   "id": "9b5cb553-9f1e-4cd4-9c28-d47f82b0c0d4",
   "metadata": {},
   "source": [
    "## Example:\n",
    "### <span style='color:yellow'>Predicting if an individual takes the bus or he walks to the work.</span>\n",
    "\n",
    "<img src='walk_example.PNG' width=150 style='margin:auto'>\n",
    "\n",
    "### <span style='color:yellow'>In the above table, 10 samples with 2 different feature vectors represent the dataset for predicting the individual movement to the work.</span>\n",
    "\n",
    "### <span style='color:yellow'>We can build a tree that is able to split the data into two groups by inserting all data samples into the root node as an initial step.</span>\n",
    "\n",
    "### <span style='color:yellow'>According to the above table, the best feature vector that splits the data into two groups entitled \"Rain\", where it gives the highest information gain. Thus the splitting is initiated from the Rain column into two groups, i.e., left and right.</span>\n",
    "\n",
    "<img src='tree.png' width=250  style=\"margin:auto\"/>\n",
    "\n",
    "### <span style='color:yellow'>Remember: the algorithm requires \n",
    " a greedy search among all feature vectors and their values (values=thresholds) to select the best feature vector and the best threshold to split that vector based on the highest information gain. </span>\n",
    "\n"
   ]
  },
  {
   "cell_type": "markdown",
   "id": "94b42554-2d4e-40cf-a646-ae1f08831a65",
   "metadata": {},
   "source": [
    "\n",
    "### <span style='color:yellow'>We can retrieve the most common label after the first split, but practically we do some measurements to ensure that we reached the best depth of the tree.</span>\n",
    "\n",
    "\n",
    "### <span style='color:yellow'>The entropy, E, measures the randomness (or impurity) in the dataset and it is used to measure the uncertainty in the ML models (high entropy=high uncertainty).</span>\n",
    "\n",
    "### <span style='color:yellow'>The entropy is equal to 1 at the root node (because of the high randomness), then it is minimized in the leaf node, and vice versa for the information gain, IG. </span>\n",
    "\n"
   ]
  },
  {
   "cell_type": "markdown",
   "id": "4d9db292-3e85-4c97-a8bf-2c5f9deffb59",
   "metadata": {},
   "source": [
    "## Entropy (E):\n",
    " $$\n",
    " \\Large E =  - \\Sigma P(x).\\mathrm{log}_2(P(x))\n",
    " $$\n",
    " \n",
    " \n",
    "$$\n",
    "\\Large{P(x)= \\frac{\\#x}{n}}\n",
    "$$\n",
    "\n",
    "### <span style='color:yellow'> In the above equation, we use the base-2 (base bit) because we want to measure the entropy in bits. This is just a convention, some people use base-e (nats) instead (nats instead of bits).</span>\n",
    "\n",
    "### <span style='color:yellow'> Remember: we use the class labels to calulate the entropy.</span>\n",
    "### <span style='color:yellow'> Calculating the entropy for the above table:</span>\n",
    "\n",
    "\n",
    "$$\n",
    "\\Large{\\mathrm{Node}=[0,0,0,0,0,1,1,1,1,1]}\n",
    "$$\n",
    "\n",
    "\n",
    "$$\n",
    "\\Large{\\mathrm{E}=-[\\frac{5}{10}.\\mathrm{log}_2(\\frac{5}{10})] - [\\frac{5}{10}.\\mathrm{log}_2(\\frac{5}{10})] =1}\n",
    "$$\n",
    "\n",
    "### <span style='color:yellow'>The above entropy = 1, i.e., high randomness and the prediction is impossible at that node.</span>\n",
    "\n",
    "### <span style='color:yellow'>After each split, the entropy for each node and the information gain are calculated for each child node.</span>\n"
   ]
  },
  {
   "cell_type": "markdown",
   "id": "dcc95329-b5b5-4e48-a314-45a199b092eb",
   "metadata": {},
   "source": [
    "## Information gain (IG):\n",
    "\n",
    "### <span style='color:yellow' >The information gain shows how much information we gained from the current split.</span>\n",
    "\n",
    "$$\n",
    "\\Large{\\mathrm{IG}=E(\\mathrm{root \\,\\,node})- [\\mathrm{weighted\\,\\,avg}*E(\\mathrm{children})]}\n",
    "$$\n",
    "\n",
    "\n",
    "### <span style='color:yellow' >Calculating the IG for the above table after the first split:</span>\n",
    "\n",
    "$$\n",
    "\\large{\\mathrm{Node}=[0,0,0,0,0,1,1,1,1,1]}   \\\\ \\large{\\mathrm{Left}=[0,0,1,1,1,1,1]}   \\\\\\large{\\mathrm{Right}=[0,0,0]}   \n",
    "$$\n",
    "\n",
    "\n",
    "$$\n",
    "\\large{\\mathrm{IG}}=E(\\mathrm{Node})- [\\frac{7}{10}*E(\\mathrm{Left}) + \\frac{3}{10}*E(\\mathrm{Right})]\n",
    "$$\n",
    "\n",
    "\n",
    "$$\n",
    "\\large{\\mathrm{IG}}=E(\\mathrm{Node})- [\\frac{7}{10}*0.863) + \\frac{3}{10}*0)]=0.395\n",
    "$$\n",
    "\n"
   ]
  },
  {
   "cell_type": "markdown",
   "id": "e92ee098-57d8-4188-9b11-1eeba0a0306a",
   "metadata": {},
   "source": [
    "# Model training:= build the tree\n",
    "### <span style='color:yellow' >1- Select a random subset of feature vectors and put them in a root node to build the tree: usually we use all feature vectors but if the vectors are too big, we can pick a random subset of them (from this concept the random forest its name).</span>\n",
    "\n",
    "### <span style='color:yellow' >2- Select the index of the best feature vector and impose it as spletting feature point: the best index of the feature vector is identified based on the information gain and the best-splitting threshold. That is by using the greedy search among all used vectors and thresholds (the unique values of the vector).</span>\n",
    "\n",
    "### <span style='color:yellow' >3- Each node (left, right, or root) is represented by a python class object, thus we can save the best feature index;  splitting_threshold (the value  among the whole data samples ,i.e. X[:,feat_idx][idx_thershold], that makes data into groups); and the information of the left and right nodes.</span>\n",
    "\n",
    "### <span style='color:yellow' >4- To avoid the overfitting, i.e., growing the tree too much, we apply some stopping criteria (such as max_depth, minimum samples for split=2, or the number of unique labels=1) to stop growing the tree: consider that the tree is built based on the recursion and the stopping criteria are mandatory.  </span> \n",
    "\n",
    "### <span style='color:yellow' >5- Finally, after applying the stopping criteria, we can retrieve the most common class label in that node and the same python object of the node is returned to store the value of the most common label together with the best threshold, features, left, and right information.</span>"
   ]
  },
  {
   "cell_type": "markdown",
   "id": "35d4fed7-f8b1-4b6d-b843-4cd4c5455282",
   "metadata": {},
   "source": [
    "# Model prediction := traverse tree\n",
    "### <span style='color:yellow' >1- Treverse the nodes of the tree recursively.</span>\n",
    "### <span style='color:yellow' >2- Check if the first node is the root node, if true then return the label stored in that node.</span>\n",
    "\n",
    "### <span style='color:yellow' >3-  Check the index of a best-split feature that is already stored at each node (after training) of the test sample, then compare the value of that feature index with the best-splitting threshold stored in that node (Left:= x[feature index$<=$threshold], else right) then go to the left or the right node.</span>\n",
    "### <span style='color:yellow' >4- Reaching to any of the stopping criteria entails reaching the leaf node from which we retrieve the most common label (prediction) stored in that node .</span>\n",
    "\n"
   ]
  },
  {
   "cell_type": "code",
   "execution_count": 2,
   "id": "aa3b7d49-6cec-4256-aaef-2edb647d3e81",
   "metadata": {},
   "outputs": [],
   "source": [
    "from IPython.core.interactiveshell import InteractiveShell\n",
    "InteractiveShell.ast_node_interactivity='all'"
   ]
  },
  {
   "cell_type": "code",
   "execution_count": 10,
   "id": "71d51028-4680-4a51-836a-e1773551b7b8",
   "metadata": {},
   "outputs": [
    {
     "data": {
      "text/plain": [
       "'Importing the relevant libraries'"
      ]
     },
     "execution_count": 10,
     "metadata": {},
     "output_type": "execute_result"
    }
   ],
   "source": [
    "'Importing the relevant libraries'\n",
    "import matplotlib.pyplot as plt\n",
    "from matplotlib.colors import ListedColormap\n",
    "import numpy as np\n",
    "from sklearn.datasets import load_breast_cancer\n",
    "from sklearn.model_selection import train_test_split"
   ]
  },
  {
   "cell_type": "code",
   "execution_count": 32,
   "id": "0ce82cee-702d-4bcc-8973-9fab30359217",
   "metadata": {},
   "outputs": [
    {
     "data": {
      "text/plain": [
       "'Dataset'"
      ]
     },
     "execution_count": 33,
     "metadata": {},
     "output_type": "execute_result"
    },
    {
     "data": {
      "text/plain": [
       "dict_keys(['data', 'target', 'frame', 'target_names', 'DESCR', 'feature_names', 'filename', 'data_module'])"
      ]
     },
     "execution_count": 33,
     "metadata": {},
     "output_type": "execute_result"
    },
    {
     "data": {
      "text/plain": [
       "(569, 30)"
      ]
     },
     "execution_count": 33,
     "metadata": {},
     "output_type": "execute_result"
    },
    {
     "data": {
      "text/plain": [
       "(569,)"
      ]
     },
     "execution_count": 33,
     "metadata": {},
     "output_type": "execute_result"
    },
    {
     "data": {
      "text/plain": [
       "array(['malignant', 'benign'], dtype='<U9')"
      ]
     },
     "execution_count": 33,
     "metadata": {},
     "output_type": "execute_result"
    }
   ],
   "source": [
    "'Dataset'\n",
    "dataset=load_breast_cancer()\n",
    "dataset.keys()\n",
    "X,y=dataset.data , dataset.target\n",
    "X.shape\n",
    "y.shape\n",
    "dataset.target_names"
   ]
  },
  {
   "cell_type": "code",
   "execution_count": 15,
   "id": "78208e48-2cab-4f82-8902-698d0e0dc928",
   "metadata": {},
   "outputs": [
    {
     "data": {
      "text/plain": [
       "(455, 30)"
      ]
     },
     "execution_count": 15,
     "metadata": {},
     "output_type": "execute_result"
    },
    {
     "data": {
      "text/plain": [
       "(114, 30)"
      ]
     },
     "execution_count": 15,
     "metadata": {},
     "output_type": "execute_result"
    }
   ],
   "source": [
    "X_train,X_test,y_train,y_test=train_test_split(X,y,test_size=0.2,stratify=y,shuffle=True,random_state=1234)\n",
    "X_train.shape\n",
    "X_test.shape\n"
   ]
  },
  {
   "cell_type": "code",
   "execution_count": 97,
   "id": "f8d2f45f-aeb5-42f1-a065-c3f6aeb76737",
   "metadata": {},
   "outputs": [
    {
     "data": {
      "text/plain": [
       "'Visualizing the first two feature vectors'"
      ]
     },
     "execution_count": 97,
     "metadata": {},
     "output_type": "execute_result"
    },
    {
     "data": {
      "text/plain": [
       "<matplotlib.collections.PathCollection at 0x2912314ae20>"
      ]
     },
     "execution_count": 97,
     "metadata": {},
     "output_type": "execute_result"
    },
    {
     "data": {
      "text/plain": [
       "Text(0.5, 1.0, 'The first two feature vectors')"
      ]
     },
     "execution_count": 97,
     "metadata": {},
     "output_type": "execute_result"
    },
    {
     "data": {
      "text/plain": [
       "Text(0.5, 0, 'X_1')"
      ]
     },
     "execution_count": 97,
     "metadata": {},
     "output_type": "execute_result"
    },
    {
     "data": {
      "text/plain": [
       "Text(0, 0.5, 'y_1')"
      ]
     },
     "execution_count": 97,
     "metadata": {},
     "output_type": "execute_result"
    },
    {
     "data": {
      "text/plain": [
       "<matplotlib.collections.PathCollection at 0x29123165400>"
      ]
     },
     "execution_count": 97,
     "metadata": {},
     "output_type": "execute_result"
    },
    {
     "data": {
      "text/plain": [
       "<matplotlib.collections.PathCollection at 0x2912313bca0>"
      ]
     },
     "execution_count": 97,
     "metadata": {},
     "output_type": "execute_result"
    },
    {
     "data": {
      "text/plain": [
       "<matplotlib.legend.Legend at 0x291231651f0>"
      ]
     },
     "execution_count": 97,
     "metadata": {},
     "output_type": "execute_result"
    },
    {
     "data": {
      "image/png": "[encoded data removed]",
      "text/plain": [
       "<Figure size 500x300 with 1 Axes>"
      ]
     },
     "metadata": {},
     "output_type": "display_data"
    }
   ],
   "source": [
    "'Visualizing the first two feature vectors'\n",
    "font1 = {'family':'serif','weight':'bold','color':'black','size':14}\n",
    "cmap=ListedColormap(['#FF0000','#00FF00'])\n",
    "fig,ax=plt.subplots(1,figsize=(5,3))\n",
    "ax.scatter(X[:,0],X[:,1],c=y,cmap=cmap)\n",
    "plt.title('The first two feature vectors',fontdict=font1)\n",
    "plt.xlabel('X_1',fontdict=font1)\n",
    "plt.ylabel('y_1',fontdict=font1)\n",
    "for tag in ['Malignant', 'Benign']:\n",
    "    plt.scatter([], [], c= 'r' if tag == 'Malignant' else 'g'  , alpha=0.4, s=30,\n",
    "                label=tag)\n",
    "plt.legend(scatterpoints=1, frameon=True, labelspacing=0.5, title='Classes')\n",
    "\n",
    "plt.show()\n",
    "\n"
   ]
  },
  {
   "cell_type": "code",
   "execution_count": 103,
   "id": "f30c8b4a-45bd-4344-8e27-5a0a87fed68b",
   "metadata": {},
   "outputs": [
    {
     "data": {
      "text/plain": [
       "'Building the decision tree blueprint'"
      ]
     },
     "execution_count": 103,
     "metadata": {},
     "output_type": "execute_result"
    },
    {
     "data": {
      "text/plain": [
       "'1- We need to build two separated classes: the first one stores information at each node'"
      ]
     },
     "execution_count": 103,
     "metadata": {},
     "output_type": "execute_result"
    },
    {
     "data": {
      "text/plain": [
       "'We need teh following class to return a python object at each node'"
      ]
     },
     "execution_count": 103,
     "metadata": {},
     "output_type": "execute_result"
    }
   ],
   "source": [
    "'Building the decision tree blueprint'\n",
    "import numpy as np\n",
    "from collections import Counter\n",
    "\n",
    "'1- We need to build two separated classes: the first one stores information at each node'\n",
    "'We need teh following class to return a python object at each node'\n",
    "class Node:\n",
    "    def __init__(self,best_feature_idx=None,best_threshold=None,left_node=None,right_node=None,*,label_value=None):    \n",
    "        self.best_feature_idx=best_feature_idx\n",
    "        self.best_threshold=best_threshold\n",
    "        self.Left_node=left_node\n",
    "        self.right_node=right_node \n",
    "        self.label_value=label_value # This is a keyword argument because the node is a leaf we return the Node object by passing this value\n",
    "        \n",
    "        # Check if the node is a leaf node or not\n",
    "        def is_leaf(self):\n",
    "            return self.label_value is not None # Not a leaf value if no value"
   ]
  },
  {
   "cell_type": "code",
   "execution_count": 105,
   "id": "b2a3b999-d163-47f9-9ec0-ae59b47ca46f",
   "metadata": {},
   "outputs": [
    {
     "data": {
      "text/plain": [
       "'2- The second class is teh actual decision tree class'"
      ]
     },
     "execution_count": 105,
     "metadata": {},
     "output_type": "execute_result"
    }
   ],
   "source": [
    "'2- The second class is teh actual decision tree class'\n",
    "\n",
    "class DecisionTree:\n",
    "    # identifying the min sample for splitting and the # of feature points in teh feature vector for training\n",
    "    def __init__(self,min_samples_for_splitting=2,max_depth=100,n_feats=None):\n",
    "        self.min_samples_for_splitting=min_samples_for_splitting\n",
    "        self.max_depth=max_depth\n",
    "        self.n_feats=n_feats\n",
    "        self.root_node=root_node\n",
    "    "
   ]
  },
  {
   "cell_type": "code",
   "execution_count": null,
   "id": "d91baa39-8e5d-4f3f-b416-0479ebd2e59b",
   "metadata": {},
   "outputs": [],
   "source": [
    "'Combining the both classes'import numpy as np\n",
    "from collections import Counter\n",
    "\n",
    "class Node:\n",
    "    def __init__(self,best_feature_idx=None,best_threshold=None,left_node=None,right_node=None,*,label_value=None):    \n",
    "        self.best_feature_idx=best_feature_idx\n",
    "        self.best_threshold=best_threshold\n",
    "        self.Left_node=left_node\n",
    "        self.right_node=right_node \n",
    "        self.label_value=label_value # This is a keyword argument because the node is a leaf we return the Node object by passing this value\n",
    "        \n",
    "        # Check if the node is a leaf node or not\n",
    "        def is_leaf(self):\n",
    "            return self.label_value is not None # Not a leaf value if no value\n",
    "        \n",
    "class DecisionTree:\n",
    "    # identifying the min sample for splitting and the # of feature points in teh feature vector for training\n",
    "    def __init__(self,min_samples_for_splitting=2,max_depth=100,n_feats=None):\n",
    "        self.min_samples_for_splitting=min_samples_for_splitting\n",
    "        self.max_depth=max_depth\n",
    "        self.n_feats=n_feats\n",
    "        self.root_node=root_node\n",
    "            "
   ]
  },
  {
   "cell_type": "code",
   "execution_count": null,
   "id": "d0003f14-2fdf-4d5a-a045-b2816818006f",
   "metadata": {},
   "outputs": [],
   "source": [
    "'Building tfir method'\n",
    "\n",
    "import numpy as np\n",
    "from collections import Counter\n",
    "\n",
    "class Node:\n",
    "    def __init__(self,best_feature_idx=None,best_threshold=None,left_node=None,right_node=None,*,label_value=None):    \n",
    "        self.best_feature_idx=best_feature_idx\n",
    "        self.best_threshold=best_threshold\n",
    "        self.Left_node=left_node\n",
    "        self.right_node=right_node \n",
    "        self.label_value=label_value # This is a keyword argument because the node is a leaf we return the Node object by passing this value\n",
    "        \n",
    "        # Check if the node is a leaf node or not\n",
    "        def is_leaf(self):\n",
    "            return self.label_value is not None # Not a leaf value if no value\n",
    "        \n",
    "class DecisionTree:\n",
    "    # identifying the min sample for splitting and the # of feature points in teh feature vector for training\n",
    "    def __init__(self,min_samples_for_splitting=2,max_depth=100,n_feats=None):\n",
    "        self.min_samples_for_splitting=min_samples_for_splitting\n",
    "        self.max_depth=max_depth\n",
    "        self.n_feats=n_feats\n",
    "        self.root_node=root_node\n",
    "            \n",
    "    def fit(self,X,y):\n",
    "        self.n_feats=X.shape[1] if not self.n_feats else min(self.n_feats,X.shape[1])\n",
    "        self.root_node=self.graw_tree(X,y)\n",
    "        \n",
    "    def _grow_tree(self,X,y,depth=0):\n",
    "        n_feats,n_samples=X.shape\n",
    "        n_labels=len(np.unique(y))\n",
    "        \n",
    "        # Before growing check the stopping criteria for recursion\n",
    "        if (n_labels==1\n",
    "            or n_samples<self.min_samples_for_splitting\n",
    "            or depth>self.max_depth):\n",
    "            leaf_value=self._most_common_label(y)\n",
    "            return Node(label_value=leaf_value)\n",
    "    \n",
    "    def _most_common_label(y):\n",
    "        counter=Counter(y)\n",
    "        most_common=counter.most_common(0)[0][0] # Slicing the first value ofa list of tuple\n",
    "        \n",
    "            \n",
    "    \n",
    "    \n",
    "    \n",
    "        \n",
    "        \n",
    "        \n",
    "        \n",
    "        \n",
    "            "
   ]
  },
  {
   "cell_type": "code",
   "execution_count": 107,
   "id": "9228a48e-31ba-46bc-949e-6b67a9080ef1",
   "metadata": {},
   "outputs": [
    {
     "data": {
      "text/plain": [
       "'Sampling indicies from the feature vectors and pick the best indx and best threshold'"
      ]
     },
     "execution_count": 107,
     "metadata": {},
     "output_type": "execute_result"
    }
   ],
   "source": [
    "'Sampling indicies from the feature vectors and pick the best indx and best threshold'\n",
    "\n",
    "import numpy as np\n",
    "from collections import Counter\n",
    "\n",
    "class Node:\n",
    "    def __init__(self,best_feature_idx=None,best_threshold=None,left_node=None,right_node=None,*,label_value=None):    \n",
    "        self.best_feature_idx=best_feature_idx\n",
    "        self.best_threshold=best_threshold\n",
    "        self.Left_node=left_node\n",
    "        self.right_node=right_node \n",
    "        self.label_value=label_value # This is a keyword argument because the node is a leaf we return the Node object by passing this value\n",
    "        \n",
    "        # Check if the node is a leaf node or not\n",
    "        def is_leaf(self):\n",
    "            return self.label_value is not None # Not a leaf value if no value\n",
    "        \n",
    "class DecisionTree:\n",
    "    # identifying the min sample for splitting and the # of feature points in teh feature vector for training\n",
    "    def __init__(self,min_samples_for_splitting=2,max_depth=100,n_feats=None): # n_feats can be randomly sampled\n",
    "        self.min_samples_for_splitting=min_samples_for_splitting\n",
    "        self.max_depth=max_depth\n",
    "        self.n_feats=n_feats\n",
    "        self.root_node=root_node\n",
    "            \n",
    "    def fit(self,X,y):\n",
    "        self.n_feats=X.shape[1] if not self.n_feats else min(self.n_feats,X.shape[1])\n",
    "        self.root_node=self.grow_tree(X,y)\n",
    "        \n",
    "    def _grow_tree(self,X,y,depth=0):\n",
    "        n_feats,n_samples=X.shape\n",
    "        n_labels=len(np.unique(y))\n",
    "        \n",
    "        # Before growing check the stopping criteria for recursion\n",
    "        if (n_labels==1\n",
    "            or n_samples<self.min_samples_for_splitting\n",
    "            or depth>self.max_depth):\n",
    "            leaf_value=self._most_common_label(y)\n",
    "            return Node(label_value=leaf_value)\n",
    "        feat_idxs=np.random.choice(n_feats,self.n_feats,replace=True) # True to avoid picking the same index twice\n",
    "        best_feature_idx,best_threshold=self._best_criteria(X,y,feat_idxs)\n",
    "        \n",
    "    def _best_criteria(X,y,feat_idxs):\n",
    "        best_info_gain=-1\n",
    "        best_feature_idx,best_threshold=None,None\n",
    "        for idx in feat_idxs:\n",
    "            X_c=X[idx]\n",
    "            thresholds=np.unique(X_c)\n",
    "            for threshold in thresholds:\n",
    "                info_gain=self._info_gain(y,X_c,threshold)\n",
    "                if info_gain > best_info_gain:\n",
    "                    best_info_gain=info_gain\n",
    "                    best_feature_idx=idx\n",
    "                    best_threshold=threshold\n",
    "            return best_feature_idx,best_threshold\n",
    "    \n",
    "    def _most_common_label(y):\n",
    "        counter=Counter(y)\n",
    "        most_common=counter.most_common(0)[0][0] # Slicing the first value ofa list of tuple\n",
    "\n",
    "            "
   ]
  },
  {
   "cell_type": "code",
   "execution_count": 119,
   "id": "b373c97d-2ba9-43b5-9255-4c9764ec6e9d",
   "metadata": {},
   "outputs": [
    {
     "data": {
      "text/plain": [
       "' Calculting the entropy and information gain'"
      ]
     },
     "execution_count": 119,
     "metadata": {},
     "output_type": "execute_result"
    }
   ],
   "source": [
    "' Calculting the entropy and information gain'\n",
    "import numpy as np\n",
    "from collections import Counter\n",
    "\n",
    "class Node:\n",
    "    def __init__(self,best_feature_idx=None,best_threshold=None,left_node=None,right_node=None,*,label_value=None):    \n",
    "        self.best_feature_idx=best_feature_idx\n",
    "        self.best_threshold=best_threshold\n",
    "        self.Left_node=left_node\n",
    "        self.right_node=right_node \n",
    "        self.label_value=label_value # This is a keyword argument because the node is a leaf we return the Node object by passing this value\n",
    "        \n",
    "        # Check if the node is a leaf node or not\n",
    "        def is_leaf(self):\n",
    "            return self.label_value is not None # Not a leaf value if no value\n",
    "        \n",
    "class DecisionTree:\n",
    "    # identifying the min sample for splitting and the # of feature points in teh feature vector for training\n",
    "    def __init__(self,min_samples_for_splitting=2,max_depth=100,n_feats=None): # n_feats can be randomly sampled\n",
    "        self.min_samples_for_splitting=min_samples_for_splitting\n",
    "        self.max_depth=max_depth\n",
    "        self.n_feats=n_feats\n",
    "        self.root_node=None\n",
    "            \n",
    "    def fit(self,X,y):\n",
    "        self.n_feats=X.shape[1] if not self.n_feats else min(self.n_feats,X.shape[1])\n",
    "        self.root_node=self.grow_tree(X,y)\n",
    "        \n",
    "    def _grow_tree(self,X,y,depth=0):\n",
    "        n_feats,n_samples=X.shape\n",
    "        n_labels=len(np.unique(y))\n",
    "        \n",
    "        # Before growing check the stopping criteria for recursion\n",
    "        if (n_labels==1\n",
    "            or n_samples<self.min_samples_for_splitting\n",
    "            or depth>self.max_depth):\n",
    "            leaf_value=self._most_common_label(y)\n",
    "            return Node(label_value=leaf_value)\n",
    "        feat_idxs=np.random.choice(n_feats,self.n_feats,replace=True) # True to avoid picking the same index twice\n",
    "        best_feature_idx,best_threshold=self._best_criteria(X,y,feat_idxs)\n",
    "        \n",
    "    def _best_criteria(X,y,feat_idxs):\n",
    "        best_info_gain=-1\n",
    "        best_feature_idx,best_threshold=None,None\n",
    "        for idx in feat_idxs:\n",
    "            X_c=X[idx]\n",
    "            thresholds=np.unique(X_c)\n",
    "            for threshold in thresholds:\n",
    "                info_gain=self._information_gain(y,X_c,threshold)\n",
    "                if info_gain > best_info_gain:\n",
    "                    best_info_gain=info_gain\n",
    "                    best_feature_idx=idx\n",
    "                    best_threshold=threshold\n",
    "            return best_feature_idx,best_threshold\n",
    "    \n",
    "    def _information_gain(self,y,X_c,threshold):\n",
    "        root_node_entropy=self._entropy(y)\n",
    "        # left and right nodes entropy\n",
    "        left_idxs,right_idxs=self._split(X_c,threshold)\n",
    "        len_left=len(left_idxs)\n",
    "        len_right=len(right_idxs)\n",
    "        if len_left==0 or len_right==0:\n",
    "            return 0\n",
    "        \n",
    "        entropy_left=self._entropy(y[left_idxs])\n",
    "        entropy_right=self._entropy(y[right_idxs])\n",
    "        # child weighted  entropy\n",
    "        child_entropy= (len_left/len(y))*entropy_left +(len_right/len(y))*entropy_right\n",
    "        \n",
    "        info_gain=root_node_entropy-child_entropy\n",
    "        return info_gain\n",
    "        \n",
    "    def _split(self,X_c,threshold):\n",
    "        left_idxs=np.argwhere(X_c<=threshold).flatten()\n",
    "        right_idxs=np.argwhere(X_c>threshold).flatten()\n",
    "        return left_idxs ,right_idxs\n",
    "        \n",
    "    def _entropy(self,y):\n",
    "        hist=np.bincount(y)\n",
    "        ps=hist/len(y)\n",
    "        return - np.sum([p*np.log2(p) for p in ps if p > 0]) # the log is indefined for 0\n",
    "        \n",
    "        \n",
    "    \n",
    "    def _most_common_label(y):\n",
    "        counter=Counter(y)\n",
    "        most_common=counter.most_common(0)[0][0] # Slicing the first value ofa list of tuple\n",
    "\n",
    "            "
   ]
  },
  {
   "cell_type": "code",
   "execution_count": 120,
   "id": "d51819b0-9b5a-429b-a5e9-a0ebd978d3db",
   "metadata": {},
   "outputs": [
    {
     "data": {
      "text/plain": [
       "'continue with _grow_tree method by splitting the data and obtain the left and right node recursively'"
      ]
     },
     "execution_count": 120,
     "metadata": {},
     "output_type": "execute_result"
    }
   ],
   "source": [
    "'continue with _grow_tree method by splitting the data and obtain the left and right node recursively'\n",
    "import numpy as np\n",
    "from collections import Counter\n",
    "\n",
    "class Node:\n",
    "    def __init__(self,best_feature_idx=None,best_threshold=None,left_node=None,right_node=None,*,label_value=None):    \n",
    "        self.best_feature_idx=best_feature_idx\n",
    "        self.best_threshold=best_threshold\n",
    "        self.Left_node=left_node\n",
    "        self.right_node=right_node \n",
    "        self.label_value=label_value # This is a keyword argument because the node is a leaf we return the Node object by passing this value\n",
    "        \n",
    "        # Check if the node is a leaf node or not\n",
    "        def is_leaf(self):\n",
    "            return self.label_value is not None # Not a leaf value if no value\n",
    "        \n",
    "class DecisionTree:\n",
    "    # identifying the min sample for splitting and the # of feature points in teh feature vector for training\n",
    "    def __init__(self,min_samples_for_splitting=2,max_depth=100,n_feats=None): # n_feats can be randomly sampled\n",
    "        self.min_samples_for_splitting=min_samples_for_splitting\n",
    "        self.max_depth=max_depth\n",
    "        self.n_feats=n_feats\n",
    "        self.root_node=None\n",
    "            \n",
    "    def fit(self,X,y):\n",
    "        self.n_feats=X.shape[1] if not self.n_feats else min(self.n_feats,X.shape[1])\n",
    "        self.root_node=self.grow_tree(X,y)\n",
    "        \n",
    "    def _grow_tree(self,X,y,depth=0):\n",
    "        n_feats,n_samples=X.shape\n",
    "        n_labels=len(np.unique(y))\n",
    "        \n",
    "        # Before growing check the stopping criteria for recursion\n",
    "        if (n_labels==1\n",
    "            or n_samples<self.min_samples_for_splitting\n",
    "            or depth>self.max_depth):\n",
    "            leaf_value=self._most_common_label(y)\n",
    "            return Node(label_value=leaf_value)\n",
    "        feat_idxs=np.random.choice(n_feats,self.n_feats,replace=True) # True to avoid picking the same index twice\n",
    "        best_feature_idx,best_threshold=self._best_criteria(X,y,feat_idxs)\n",
    "        left_idxs,right_idxs=self._split(X[:,best_feature_idx],best_threshold)\n",
    "        left_node=self.grow_tree(X[left_idxs,:],y[left_idxs],depth+1)\n",
    "        right_node=self.grow_tree(X[right_idxs,:],y[right_idxs],depth+1)\n",
    "        return Node(best_feature_idx=best_feature_idx,best_threshold=best_threshold,left_node=left_node,right_node=right_node)\n",
    "            # We do not add the leaf value at this node object till reaching the leaf node (see above)\n",
    "        \n",
    "        \n",
    "    def _best_criteria(X,y,feat_idxs):\n",
    "        best_info_gain=-1\n",
    "        best_feature_idx,best_threshold=None,None\n",
    "        for idx in feat_idxs:\n",
    "            X_c=X[idx]\n",
    "            thresholds=np.unique(X_c)\n",
    "            for threshold in thresholds:\n",
    "                info_gain=self._information_gain(y,X_c,threshold)\n",
    "                if info_gain > best_info_gain:\n",
    "                    best_info_gain=info_gain\n",
    "                    best_feature_idx=idx\n",
    "                    best_threshold=threshold\n",
    "            return best_feature_idx,best_threshold\n",
    "    \n",
    "    def _information_gain(self,y,X_c,threshold):\n",
    "        root_node_entropy=self._entropy(y)\n",
    "        # left and right nodes entropy\n",
    "        left_idxs,right_idxs=self._split(X_c,threshold)\n",
    "        len_left=len(left_idxs)\n",
    "        len_right=len(right_idxs)\n",
    "        if len_left==0 or len_right==0:\n",
    "            return 0\n",
    "        \n",
    "        entropy_left=self._entropy(y[left_idxs])\n",
    "        entropy_right=self._entropy(y[right_idxs])\n",
    "        # child weighted  entropy\n",
    "        child_entropy= (len_left/len(y))*entropy_left +(len_right/len(y))*entropy_right\n",
    "        \n",
    "        info_gain=root_node_entropy-child_entropy\n",
    "        return info_gain\n",
    "        \n",
    "    def _split(self,X_c,threshold):\n",
    "        left_idxs=np.argwhere(X_c<=threshold).flatten()\n",
    "        right_idxs=np.argwhere(X_c>threshold).flatten()\n",
    "        return left_idxs ,right_idxs\n",
    "        \n",
    "    def _entropy(self,y):\n",
    "        hist=np.bincount(y)\n",
    "        ps=hist/len(y)\n",
    "        return - np.sum([p*np.log2(p) for p in ps if p > 0]) # the log is indefined for 0\n",
    "        \n",
    "        \n",
    "    \n",
    "    def _most_common_label(y):\n",
    "        counter=Counter(y)\n",
    "        most_common=counter.most_common(0)[0][0] # Slicing the first value ofa list of tuple\n",
    "\n",
    "            "
   ]
  },
  {
   "cell_type": "code",
   "execution_count": 135,
   "id": "dd0cc493-f3ac-4e0c-af16-e6665dce50c4",
   "metadata": {},
   "outputs": [
    {
     "data": {
      "text/plain": [
       "'Building predict method'"
      ]
     },
     "execution_count": 135,
     "metadata": {},
     "output_type": "execute_result"
    }
   ],
   "source": [
    "'Building predict method'\n",
    "import numpy as np\n",
    "from collections import Counter\n",
    "\n",
    "class Node:\n",
    "    def __init__(self,best_feature_idx=None,best_threshold=None,left_node=None,right_node=None,*,label_value=None):    \n",
    "        self.best_feature_idx=best_feature_idx\n",
    "        self.best_threshold=best_threshold\n",
    "        self.Left_node=left_node\n",
    "        self.right_node=right_node \n",
    "        self.label_value=label_value # This is a keyword argument because the node is a leaf we return the Node object by passing this value\n",
    "        \n",
    "        # Check if the node is a leaf node or not\n",
    "        def is_leaf(self):\n",
    "            return self.label_value is not None # Not a leaf value if no value\n",
    "        \n",
    "class DecisionTree:\n",
    "    # identifying the min sample for splitting and the # of feature points in teh feature vector for training\n",
    "    def __init__(self,min_samples_for_splitting=2,max_depth=100,n_feats=None): # n_feats can be randomly sampled\n",
    "        self.min_samples_for_splitting=min_samples_for_splitting\n",
    "        self.max_depth=max_depth\n",
    "        self.n_feats=n_feats\n",
    "        self.root_node=None\n",
    "            \n",
    "    def fit(self,X,y):\n",
    "        self.n_feats=X.shape[1] if not self.n_feats else min(self.n_feats,X.shape[1])\n",
    "        self.root_node=self._grow_tree(X,y) # at the end root_node will be a python class object\n",
    "        \n",
    "    def _grow_tree(self,X,y,depth=0):\n",
    "        n_feats,n_samples=X.shape\n",
    "        n_labels=len(np.unique(y))\n",
    "        \n",
    "        # Before growing check the stopping criteria for recursion\n",
    "        if (n_labels==1\n",
    "            or n_samples<self.min_samples_for_splitting\n",
    "            or depth>self.max_depth):\n",
    "            leaf_value=self._most_common_label(y)\n",
    "            return Node(label_value=leaf_value)\n",
    "        feat_idxs=np.random.choice(n_feats,self.n_feats,replace=True) # True to avoid picking the same index twice\n",
    "        best_feature_idx,best_threshold=self._best_criteria(X,y,feat_idxs)\n",
    "        left_idxs,right_idxs=self._split(X[best_feature_idx,:],best_threshold)\n",
    "        left_node=self._grow_tree(X[left_idxs,:],y[left_idxs],depth+1)\n",
    "        right_node=self._grow_tree(X[right_idxs,:],y[right_idxs],depth+1)\n",
    "        return Node(best_feature_idx=best_feature_idx,best_threshold=best_threshold,left_node=left_node,right_node=right_node)\n",
    "            # We do not add the leaf value at this node object till reaching the leaf node (see above)\n",
    "        \n",
    "        \n",
    "    def _best_criteria(self,X,y,feat_idxs):\n",
    "        best_info_gain=-1\n",
    "        best_feature_idx,best_threshold=None,None\n",
    "        for idx in feat_idxs:\n",
    "            X_c=X[idx]\n",
    "            thresholds=np.unique(X_c)\n",
    "            for threshold in thresholds:\n",
    "                info_gain=self._information_gain(y,X_c,threshold)\n",
    "                if info_gain > best_info_gain:\n",
    "                    best_info_gain=info_gain\n",
    "                    best_feature_idx=idx\n",
    "                    best_threshold=threshold\n",
    "            return best_feature_idx,best_threshold\n",
    "    \n",
    "    def _information_gain(self,y,X_c,threshold):\n",
    "        root_node_entropy=self._entropy(y)\n",
    "        # left and right nodes entropy\n",
    "        left_idxs,right_idxs=self._split(X_c,threshold)\n",
    "        len_left=len(left_idxs)\n",
    "        len_right=len(right_idxs)\n",
    "        if len_left==0 or len_right==0:\n",
    "            return 0\n",
    "        \n",
    "        entropy_left=self._entropy(y[left_idxs])\n",
    "        entropy_right=self._entropy(y[right_idxs])\n",
    "        # child weighted  entropy\n",
    "        child_entropy= (len_left/len(y))*entropy_left +(len_right/len(y))*entropy_right\n",
    "        \n",
    "        info_gain=root_node_entropy-child_entropy\n",
    "        return info_gain\n",
    "        \n",
    "    def _split(self,X_c,threshold):\n",
    "        left_idxs=np.argwhere(X_c<=threshold).flatten()\n",
    "        right_idxs=np.argwhere(X_c>threshold).flatten()\n",
    "        return left_idxs ,right_idxs\n",
    "        \n",
    "    def _entropy(self,y):\n",
    "        hist=np.bincount(y)\n",
    "        ps=hist/len(y)\n",
    "        return - np.sum([p*np.log2(p) for p in ps if p > 0]) # the log is indefined for 0\n",
    "        \n",
    "    def _most_common_label(self,y):\n",
    "        counter=Counter(y)\n",
    "        most_common=counter.most_common(1)[0][0] # Slicing the first value ofa list of tuple\n",
    "\n",
    "\n",
    "    def predict(self,X):\n",
    "        return np.array([self._traverse_tree(x,self.root_node) for x in X])\n",
    "    def _traverse_tree(self,x,node):\n",
    "        if node.is_leaf:\n",
    "            return node.vale\n",
    "        if x[node.best_feature_idx] <= node.best_threshold:\n",
    "            return self._traverse_tree(x,node.left_node)\n",
    "        return self._traverse_tree(x,node.right_node)\n",
    "        \n",
    "        "
   ]
  },
  {
   "cell_type": "code",
   "execution_count": 136,
   "id": "a1ed7947-1cad-4dbd-a845-3e8693db69da",
   "metadata": {},
   "outputs": [
    {
     "ename": "IndexError",
     "evalue": "index 24 is out of bounds for axis 0 with size 24",
     "output_type": "error",
     "traceback": [
      "\u001b[1;31m---------------------------------------------------------------------------\u001b[0m",
      "\u001b[1;31mIndexError\u001b[0m                                Traceback (most recent call last)",
      "\u001b[1;32m~\\AppData\\Local\\Temp\\ipykernel_2288\\3542037434.py\u001b[0m in \u001b[0;36m<module>\u001b[1;34m\u001b[0m\n\u001b[0;32m      1\u001b[0m \u001b[0mclf\u001b[0m\u001b[1;33m=\u001b[0m\u001b[0mDecisionTree\u001b[0m\u001b[1;33m(\u001b[0m\u001b[1;33m)\u001b[0m\u001b[1;33m\u001b[0m\u001b[1;33m\u001b[0m\u001b[0m\n\u001b[1;32m----> 2\u001b[1;33m \u001b[0mclf\u001b[0m\u001b[1;33m.\u001b[0m\u001b[0mfit\u001b[0m\u001b[1;33m(\u001b[0m\u001b[0mX_train\u001b[0m\u001b[1;33m,\u001b[0m\u001b[0my_train\u001b[0m\u001b[1;33m)\u001b[0m\u001b[1;33m\u001b[0m\u001b[1;33m\u001b[0m\u001b[0m\n\u001b[0m",
      "\u001b[1;32m~\\AppData\\Local\\Temp\\ipykernel_2288\\3282871164.py\u001b[0m in \u001b[0;36mfit\u001b[1;34m(self, X, y)\u001b[0m\n\u001b[0;32m     25\u001b[0m     \u001b[1;32mdef\u001b[0m \u001b[0mfit\u001b[0m\u001b[1;33m(\u001b[0m\u001b[0mself\u001b[0m\u001b[1;33m,\u001b[0m\u001b[0mX\u001b[0m\u001b[1;33m,\u001b[0m\u001b[0my\u001b[0m\u001b[1;33m)\u001b[0m\u001b[1;33m:\u001b[0m\u001b[1;33m\u001b[0m\u001b[1;33m\u001b[0m\u001b[0m\n\u001b[0;32m     26\u001b[0m         \u001b[0mself\u001b[0m\u001b[1;33m.\u001b[0m\u001b[0mn_feats\u001b[0m\u001b[1;33m=\u001b[0m\u001b[0mX\u001b[0m\u001b[1;33m.\u001b[0m\u001b[0mshape\u001b[0m\u001b[1;33m[\u001b[0m\u001b[1;36m1\u001b[0m\u001b[1;33m]\u001b[0m \u001b[1;32mif\u001b[0m \u001b[1;32mnot\u001b[0m \u001b[0mself\u001b[0m\u001b[1;33m.\u001b[0m\u001b[0mn_feats\u001b[0m \u001b[1;32melse\u001b[0m \u001b[0mmin\u001b[0m\u001b[1;33m(\u001b[0m\u001b[0mself\u001b[0m\u001b[1;33m.\u001b[0m\u001b[0mn_feats\u001b[0m\u001b[1;33m,\u001b[0m\u001b[0mX\u001b[0m\u001b[1;33m.\u001b[0m\u001b[0mshape\u001b[0m\u001b[1;33m[\u001b[0m\u001b[1;36m1\u001b[0m\u001b[1;33m]\u001b[0m\u001b[1;33m)\u001b[0m\u001b[1;33m\u001b[0m\u001b[1;33m\u001b[0m\u001b[0m\n\u001b[1;32m---> 27\u001b[1;33m         \u001b[0mself\u001b[0m\u001b[1;33m.\u001b[0m\u001b[0mroot_node\u001b[0m\u001b[1;33m=\u001b[0m\u001b[0mself\u001b[0m\u001b[1;33m.\u001b[0m\u001b[0m_grow_tree\u001b[0m\u001b[1;33m(\u001b[0m\u001b[0mX\u001b[0m\u001b[1;33m,\u001b[0m\u001b[0my\u001b[0m\u001b[1;33m)\u001b[0m \u001b[1;31m# at the end root_node will be a python class object\u001b[0m\u001b[1;33m\u001b[0m\u001b[1;33m\u001b[0m\u001b[0m\n\u001b[0m\u001b[0;32m     28\u001b[0m \u001b[1;33m\u001b[0m\u001b[0m\n\u001b[0;32m     29\u001b[0m     \u001b[1;32mdef\u001b[0m \u001b[0m_grow_tree\u001b[0m\u001b[1;33m(\u001b[0m\u001b[0mself\u001b[0m\u001b[1;33m,\u001b[0m\u001b[0mX\u001b[0m\u001b[1;33m,\u001b[0m\u001b[0my\u001b[0m\u001b[1;33m,\u001b[0m\u001b[0mdepth\u001b[0m\u001b[1;33m=\u001b[0m\u001b[1;36m0\u001b[0m\u001b[1;33m)\u001b[0m\u001b[1;33m:\u001b[0m\u001b[1;33m\u001b[0m\u001b[1;33m\u001b[0m\u001b[0m\n",
      "\u001b[1;32m~\\AppData\\Local\\Temp\\ipykernel_2288\\3282871164.py\u001b[0m in \u001b[0;36m_grow_tree\u001b[1;34m(self, X, y, depth)\u001b[0m\n\u001b[0;32m     41\u001b[0m         \u001b[0mleft_idxs\u001b[0m\u001b[1;33m,\u001b[0m\u001b[0mright_idxs\u001b[0m\u001b[1;33m=\u001b[0m\u001b[0mself\u001b[0m\u001b[1;33m.\u001b[0m\u001b[0m_split\u001b[0m\u001b[1;33m(\u001b[0m\u001b[0mX\u001b[0m\u001b[1;33m[\u001b[0m\u001b[0mbest_feature_idx\u001b[0m\u001b[1;33m,\u001b[0m\u001b[1;33m:\u001b[0m\u001b[1;33m]\u001b[0m\u001b[1;33m,\u001b[0m\u001b[0mbest_threshold\u001b[0m\u001b[1;33m)\u001b[0m\u001b[1;33m\u001b[0m\u001b[1;33m\u001b[0m\u001b[0m\n\u001b[0;32m     42\u001b[0m         \u001b[0mleft_node\u001b[0m\u001b[1;33m=\u001b[0m\u001b[0mself\u001b[0m\u001b[1;33m.\u001b[0m\u001b[0m_grow_tree\u001b[0m\u001b[1;33m(\u001b[0m\u001b[0mX\u001b[0m\u001b[1;33m[\u001b[0m\u001b[0mleft_idxs\u001b[0m\u001b[1;33m,\u001b[0m\u001b[1;33m:\u001b[0m\u001b[1;33m]\u001b[0m\u001b[1;33m,\u001b[0m\u001b[0my\u001b[0m\u001b[1;33m[\u001b[0m\u001b[0mleft_idxs\u001b[0m\u001b[1;33m]\u001b[0m\u001b[1;33m,\u001b[0m\u001b[0mdepth\u001b[0m\u001b[1;33m+\u001b[0m\u001b[1;36m1\u001b[0m\u001b[1;33m)\u001b[0m\u001b[1;33m\u001b[0m\u001b[1;33m\u001b[0m\u001b[0m\n\u001b[1;32m---> 43\u001b[1;33m         \u001b[0mright_node\u001b[0m\u001b[1;33m=\u001b[0m\u001b[0mself\u001b[0m\u001b[1;33m.\u001b[0m\u001b[0m_grow_tree\u001b[0m\u001b[1;33m(\u001b[0m\u001b[0mX\u001b[0m\u001b[1;33m[\u001b[0m\u001b[0mright_idxs\u001b[0m\u001b[1;33m,\u001b[0m\u001b[1;33m:\u001b[0m\u001b[1;33m]\u001b[0m\u001b[1;33m,\u001b[0m\u001b[0my\u001b[0m\u001b[1;33m[\u001b[0m\u001b[0mright_idxs\u001b[0m\u001b[1;33m]\u001b[0m\u001b[1;33m,\u001b[0m\u001b[0mdepth\u001b[0m\u001b[1;33m+\u001b[0m\u001b[1;36m1\u001b[0m\u001b[1;33m)\u001b[0m\u001b[1;33m\u001b[0m\u001b[1;33m\u001b[0m\u001b[0m\n\u001b[0m\u001b[0;32m     44\u001b[0m         \u001b[1;32mreturn\u001b[0m \u001b[0mNode\u001b[0m\u001b[1;33m(\u001b[0m\u001b[0mbest_feature_idx\u001b[0m\u001b[1;33m=\u001b[0m\u001b[0mbest_feature_idx\u001b[0m\u001b[1;33m,\u001b[0m\u001b[0mbest_threshold\u001b[0m\u001b[1;33m=\u001b[0m\u001b[0mbest_threshold\u001b[0m\u001b[1;33m,\u001b[0m\u001b[0mleft_node\u001b[0m\u001b[1;33m=\u001b[0m\u001b[0mleft_node\u001b[0m\u001b[1;33m,\u001b[0m\u001b[0mright_node\u001b[0m\u001b[1;33m=\u001b[0m\u001b[0mright_node\u001b[0m\u001b[1;33m)\u001b[0m\u001b[1;33m\u001b[0m\u001b[1;33m\u001b[0m\u001b[0m\n\u001b[0;32m     45\u001b[0m             \u001b[1;31m# We do not add the leaf value at this node object till reaching the leaf node (see above)\u001b[0m\u001b[1;33m\u001b[0m\u001b[1;33m\u001b[0m\u001b[0m\n",
      "\u001b[1;32m~\\AppData\\Local\\Temp\\ipykernel_2288\\3282871164.py\u001b[0m in \u001b[0;36m_grow_tree\u001b[1;34m(self, X, y, depth)\u001b[0m\n\u001b[0;32m     38\u001b[0m             \u001b[1;32mreturn\u001b[0m \u001b[0mNode\u001b[0m\u001b[1;33m(\u001b[0m\u001b[0mlabel_value\u001b[0m\u001b[1;33m=\u001b[0m\u001b[0mleaf_value\u001b[0m\u001b[1;33m)\u001b[0m\u001b[1;33m\u001b[0m\u001b[1;33m\u001b[0m\u001b[0m\n\u001b[0;32m     39\u001b[0m         \u001b[0mfeat_idxs\u001b[0m\u001b[1;33m=\u001b[0m\u001b[0mnp\u001b[0m\u001b[1;33m.\u001b[0m\u001b[0mrandom\u001b[0m\u001b[1;33m.\u001b[0m\u001b[0mchoice\u001b[0m\u001b[1;33m(\u001b[0m\u001b[0mn_feats\u001b[0m\u001b[1;33m,\u001b[0m\u001b[0mself\u001b[0m\u001b[1;33m.\u001b[0m\u001b[0mn_feats\u001b[0m\u001b[1;33m,\u001b[0m\u001b[0mreplace\u001b[0m\u001b[1;33m=\u001b[0m\u001b[1;32mTrue\u001b[0m\u001b[1;33m)\u001b[0m \u001b[1;31m# True to avoid picking the same index twice\u001b[0m\u001b[1;33m\u001b[0m\u001b[1;33m\u001b[0m\u001b[0m\n\u001b[1;32m---> 40\u001b[1;33m         \u001b[0mbest_feature_idx\u001b[0m\u001b[1;33m,\u001b[0m\u001b[0mbest_threshold\u001b[0m\u001b[1;33m=\u001b[0m\u001b[0mself\u001b[0m\u001b[1;33m.\u001b[0m\u001b[0m_best_criteria\u001b[0m\u001b[1;33m(\u001b[0m\u001b[0mX\u001b[0m\u001b[1;33m,\u001b[0m\u001b[0my\u001b[0m\u001b[1;33m,\u001b[0m\u001b[0mfeat_idxs\u001b[0m\u001b[1;33m)\u001b[0m\u001b[1;33m\u001b[0m\u001b[1;33m\u001b[0m\u001b[0m\n\u001b[0m\u001b[0;32m     41\u001b[0m         \u001b[0mleft_idxs\u001b[0m\u001b[1;33m,\u001b[0m\u001b[0mright_idxs\u001b[0m\u001b[1;33m=\u001b[0m\u001b[0mself\u001b[0m\u001b[1;33m.\u001b[0m\u001b[0m_split\u001b[0m\u001b[1;33m(\u001b[0m\u001b[0mX\u001b[0m\u001b[1;33m[\u001b[0m\u001b[0mbest_feature_idx\u001b[0m\u001b[1;33m,\u001b[0m\u001b[1;33m:\u001b[0m\u001b[1;33m]\u001b[0m\u001b[1;33m,\u001b[0m\u001b[0mbest_threshold\u001b[0m\u001b[1;33m)\u001b[0m\u001b[1;33m\u001b[0m\u001b[1;33m\u001b[0m\u001b[0m\n\u001b[0;32m     42\u001b[0m         \u001b[0mleft_node\u001b[0m\u001b[1;33m=\u001b[0m\u001b[0mself\u001b[0m\u001b[1;33m.\u001b[0m\u001b[0m_grow_tree\u001b[0m\u001b[1;33m(\u001b[0m\u001b[0mX\u001b[0m\u001b[1;33m[\u001b[0m\u001b[0mleft_idxs\u001b[0m\u001b[1;33m,\u001b[0m\u001b[1;33m:\u001b[0m\u001b[1;33m]\u001b[0m\u001b[1;33m,\u001b[0m\u001b[0my\u001b[0m\u001b[1;33m[\u001b[0m\u001b[0mleft_idxs\u001b[0m\u001b[1;33m]\u001b[0m\u001b[1;33m,\u001b[0m\u001b[0mdepth\u001b[0m\u001b[1;33m+\u001b[0m\u001b[1;36m1\u001b[0m\u001b[1;33m)\u001b[0m\u001b[1;33m\u001b[0m\u001b[1;33m\u001b[0m\u001b[0m\n",
      "\u001b[1;32m~\\AppData\\Local\\Temp\\ipykernel_2288\\3282871164.py\u001b[0m in \u001b[0;36m_best_criteria\u001b[1;34m(self, X, y, feat_idxs)\u001b[0m\n\u001b[0;32m     53\u001b[0m             \u001b[0mthresholds\u001b[0m\u001b[1;33m=\u001b[0m\u001b[0mnp\u001b[0m\u001b[1;33m.\u001b[0m\u001b[0munique\u001b[0m\u001b[1;33m(\u001b[0m\u001b[0mX_c\u001b[0m\u001b[1;33m)\u001b[0m\u001b[1;33m\u001b[0m\u001b[1;33m\u001b[0m\u001b[0m\n\u001b[0;32m     54\u001b[0m             \u001b[1;32mfor\u001b[0m \u001b[0mthreshold\u001b[0m \u001b[1;32min\u001b[0m \u001b[0mthresholds\u001b[0m\u001b[1;33m:\u001b[0m\u001b[1;33m\u001b[0m\u001b[1;33m\u001b[0m\u001b[0m\n\u001b[1;32m---> 55\u001b[1;33m                 \u001b[0minfo_gain\u001b[0m\u001b[1;33m=\u001b[0m\u001b[0mself\u001b[0m\u001b[1;33m.\u001b[0m\u001b[0m_information_gain\u001b[0m\u001b[1;33m(\u001b[0m\u001b[0my\u001b[0m\u001b[1;33m,\u001b[0m\u001b[0mX_c\u001b[0m\u001b[1;33m,\u001b[0m\u001b[0mthreshold\u001b[0m\u001b[1;33m)\u001b[0m\u001b[1;33m\u001b[0m\u001b[1;33m\u001b[0m\u001b[0m\n\u001b[0m\u001b[0;32m     56\u001b[0m                 \u001b[1;32mif\u001b[0m \u001b[0minfo_gain\u001b[0m \u001b[1;33m>\u001b[0m \u001b[0mbest_info_gain\u001b[0m\u001b[1;33m:\u001b[0m\u001b[1;33m\u001b[0m\u001b[1;33m\u001b[0m\u001b[0m\n\u001b[0;32m     57\u001b[0m                     \u001b[0mbest_info_gain\u001b[0m\u001b[1;33m=\u001b[0m\u001b[0minfo_gain\u001b[0m\u001b[1;33m\u001b[0m\u001b[1;33m\u001b[0m\u001b[0m\n",
      "\u001b[1;32m~\\AppData\\Local\\Temp\\ipykernel_2288\\3282871164.py\u001b[0m in \u001b[0;36m_information_gain\u001b[1;34m(self, y, X_c, threshold)\u001b[0m\n\u001b[0;32m     70\u001b[0m \u001b[1;33m\u001b[0m\u001b[0m\n\u001b[0;32m     71\u001b[0m         \u001b[0mentropy_left\u001b[0m\u001b[1;33m=\u001b[0m\u001b[0mself\u001b[0m\u001b[1;33m.\u001b[0m\u001b[0m_entropy\u001b[0m\u001b[1;33m(\u001b[0m\u001b[0my\u001b[0m\u001b[1;33m[\u001b[0m\u001b[0mleft_idxs\u001b[0m\u001b[1;33m]\u001b[0m\u001b[1;33m)\u001b[0m\u001b[1;33m\u001b[0m\u001b[1;33m\u001b[0m\u001b[0m\n\u001b[1;32m---> 72\u001b[1;33m         \u001b[0mentropy_right\u001b[0m\u001b[1;33m=\u001b[0m\u001b[0mself\u001b[0m\u001b[1;33m.\u001b[0m\u001b[0m_entropy\u001b[0m\u001b[1;33m(\u001b[0m\u001b[0my\u001b[0m\u001b[1;33m[\u001b[0m\u001b[0mright_idxs\u001b[0m\u001b[1;33m]\u001b[0m\u001b[1;33m)\u001b[0m\u001b[1;33m\u001b[0m\u001b[1;33m\u001b[0m\u001b[0m\n\u001b[0m\u001b[0;32m     73\u001b[0m         \u001b[1;31m# child weighted  entropy\u001b[0m\u001b[1;33m\u001b[0m\u001b[1;33m\u001b[0m\u001b[0m\n\u001b[0;32m     74\u001b[0m         \u001b[0mchild_entropy\u001b[0m\u001b[1;33m=\u001b[0m \u001b[1;33m(\u001b[0m\u001b[0mlen_left\u001b[0m\u001b[1;33m/\u001b[0m\u001b[0mlen\u001b[0m\u001b[1;33m(\u001b[0m\u001b[0my\u001b[0m\u001b[1;33m)\u001b[0m\u001b[1;33m)\u001b[0m\u001b[1;33m*\u001b[0m\u001b[0mentropy_left\u001b[0m \u001b[1;33m+\u001b[0m\u001b[1;33m(\u001b[0m\u001b[0mlen_right\u001b[0m\u001b[1;33m/\u001b[0m\u001b[0mlen\u001b[0m\u001b[1;33m(\u001b[0m\u001b[0my\u001b[0m\u001b[1;33m)\u001b[0m\u001b[1;33m)\u001b[0m\u001b[1;33m*\u001b[0m\u001b[0mentropy_right\u001b[0m\u001b[1;33m\u001b[0m\u001b[1;33m\u001b[0m\u001b[0m\n",
      "\u001b[1;31mIndexError\u001b[0m: index 24 is out of bounds for axis 0 with size 24"
     ]
    }
   ],
   "source": [
    "clf=DecisionTree()\n",
    "clf.fit(X_train,y_train)"
   ]
  },
  {
   "cell_type": "code",
   "execution_count": null,
   "id": "487dbada-5e7d-4b67-9835-2439d3495088",
   "metadata": {},
   "outputs": [],
   "source": []
  },
  {
   "cell_type": "code",
   "execution_count": null,
   "id": "78418d17-cf49-4d55-823a-29fb3fb0ee08",
   "metadata": {},
   "outputs": [],
   "source": []
  }
 ],
 "metadata": {
  "kernelspec": {
   "display_name": "Python 3 (ipykernel)",
   "language": "python",
   "name": "python3"
  },
  "language_info": {
   "codemirror_mode": {
    "name": "ipython",
    "version": 3
   },
   "file_extension": ".py",
   "mimetype": "text/x-python",
   "name": "python",
   "nbconvert_exporter": "python",
   "pygments_lexer": "ipython3",
   "version": "3.9.13"
  }
 },
 "nbformat": 4,
 "nbformat_minor": 5
}
